{
  "nbformat": 4,
  "nbformat_minor": 0,
  "metadata": {
    "colab": {
      "name": "Python Experience.ipynb",
      "provenance": []
    },
    "kernelspec": {
      "name": "python3",
      "display_name": "Python 3"
    },
    "language_info": {
      "name": "python"
    },
    "widgets": {
      "application/vnd.jupyter.widget-state+json": {
        "1fd07c92b1534c98876f6e98702a7afc": {
          "model_module": "@jupyter-widgets/controls",
          "model_name": "HBoxModel",
          "model_module_version": "1.5.0",
          "state": {
            "_view_name": "HBoxView",
            "_dom_classes": [],
            "_model_name": "HBoxModel",
            "_view_module": "@jupyter-widgets/controls",
            "_model_module_version": "1.5.0",
            "_view_count": null,
            "_view_module_version": "1.5.0",
            "box_style": "",
            "layout": "IPY_MODEL_0a400b4bf0be4bdcb4b4c5dedfb9702d",
            "_model_module": "@jupyter-widgets/controls",
            "children": [
              "IPY_MODEL_2e12b7a82e834328af46c8730c71497c",
              "IPY_MODEL_2aed076ce8f147948550d3fe55c20c6b",
              "IPY_MODEL_2a5f6407029f4b69b9719df0a500657f"
            ]
          }
        },
        "0a400b4bf0be4bdcb4b4c5dedfb9702d": {
          "model_module": "@jupyter-widgets/base",
          "model_name": "LayoutModel",
          "model_module_version": "1.2.0",
          "state": {
            "_view_name": "LayoutView",
            "grid_template_rows": null,
            "right": null,
            "justify_content": null,
            "_view_module": "@jupyter-widgets/base",
            "overflow": null,
            "_model_module_version": "1.2.0",
            "_view_count": null,
            "flex_flow": null,
            "width": null,
            "min_width": null,
            "border": null,
            "align_items": null,
            "bottom": null,
            "_model_module": "@jupyter-widgets/base",
            "top": null,
            "grid_column": null,
            "overflow_y": null,
            "overflow_x": null,
            "grid_auto_flow": null,
            "grid_area": null,
            "grid_template_columns": null,
            "flex": null,
            "_model_name": "LayoutModel",
            "justify_items": null,
            "grid_row": null,
            "max_height": null,
            "align_content": null,
            "visibility": null,
            "align_self": null,
            "height": null,
            "min_height": null,
            "padding": null,
            "grid_auto_rows": null,
            "grid_gap": null,
            "max_width": null,
            "order": null,
            "_view_module_version": "1.2.0",
            "grid_template_areas": null,
            "object_position": null,
            "object_fit": null,
            "grid_auto_columns": null,
            "margin": null,
            "display": null,
            "left": null
          }
        },
        "2e12b7a82e834328af46c8730c71497c": {
          "model_module": "@jupyter-widgets/controls",
          "model_name": "HTMLModel",
          "model_module_version": "1.5.0",
          "state": {
            "_view_name": "HTMLView",
            "style": "IPY_MODEL_c2f1f8d350744fc484a16a480ddc0257",
            "_dom_classes": [],
            "description": "",
            "_model_name": "HTMLModel",
            "placeholder": "​",
            "_view_module": "@jupyter-widgets/controls",
            "_model_module_version": "1.5.0",
            "value": "Downloading: 100%",
            "_view_count": null,
            "_view_module_version": "1.5.0",
            "description_tooltip": null,
            "_model_module": "@jupyter-widgets/controls",
            "layout": "IPY_MODEL_a6c520b912ee44b7a998e0ac2eda99c3"
          }
        },
        "2aed076ce8f147948550d3fe55c20c6b": {
          "model_module": "@jupyter-widgets/controls",
          "model_name": "FloatProgressModel",
          "model_module_version": "1.5.0",
          "state": {
            "_view_name": "ProgressView",
            "style": "IPY_MODEL_4250a6bd8f3548a994901dcb114c16eb",
            "_dom_classes": [],
            "description": "",
            "_model_name": "FloatProgressModel",
            "bar_style": "success",
            "max": 1713123,
            "_view_module": "@jupyter-widgets/controls",
            "_model_module_version": "1.5.0",
            "value": 1713123,
            "_view_count": null,
            "_view_module_version": "1.5.0",
            "orientation": "horizontal",
            "min": 0,
            "description_tooltip": null,
            "_model_module": "@jupyter-widgets/controls",
            "layout": "IPY_MODEL_73bd5d5e19b842a883c508dd5813b057"
          }
        },
        "2a5f6407029f4b69b9719df0a500657f": {
          "model_module": "@jupyter-widgets/controls",
          "model_name": "HTMLModel",
          "model_module_version": "1.5.0",
          "state": {
            "_view_name": "HTMLView",
            "style": "IPY_MODEL_dfdded2bd063445295903dd73a8a016c",
            "_dom_classes": [],
            "description": "",
            "_model_name": "HTMLModel",
            "placeholder": "​",
            "_view_module": "@jupyter-widgets/controls",
            "_model_module_version": "1.5.0",
            "value": " 1.63M/1.63M [00:00&lt;00:00, 2.08MB/s]",
            "_view_count": null,
            "_view_module_version": "1.5.0",
            "description_tooltip": null,
            "_model_module": "@jupyter-widgets/controls",
            "layout": "IPY_MODEL_2a556b1ec40d4abeb73234cf346d12a9"
          }
        },
        "c2f1f8d350744fc484a16a480ddc0257": {
          "model_module": "@jupyter-widgets/controls",
          "model_name": "DescriptionStyleModel",
          "model_module_version": "1.5.0",
          "state": {
            "_view_name": "StyleView",
            "_model_name": "DescriptionStyleModel",
            "description_width": "",
            "_view_module": "@jupyter-widgets/base",
            "_model_module_version": "1.5.0",
            "_view_count": null,
            "_view_module_version": "1.2.0",
            "_model_module": "@jupyter-widgets/controls"
          }
        },
        "a6c520b912ee44b7a998e0ac2eda99c3": {
          "model_module": "@jupyter-widgets/base",
          "model_name": "LayoutModel",
          "model_module_version": "1.2.0",
          "state": {
            "_view_name": "LayoutView",
            "grid_template_rows": null,
            "right": null,
            "justify_content": null,
            "_view_module": "@jupyter-widgets/base",
            "overflow": null,
            "_model_module_version": "1.2.0",
            "_view_count": null,
            "flex_flow": null,
            "width": null,
            "min_width": null,
            "border": null,
            "align_items": null,
            "bottom": null,
            "_model_module": "@jupyter-widgets/base",
            "top": null,
            "grid_column": null,
            "overflow_y": null,
            "overflow_x": null,
            "grid_auto_flow": null,
            "grid_area": null,
            "grid_template_columns": null,
            "flex": null,
            "_model_name": "LayoutModel",
            "justify_items": null,
            "grid_row": null,
            "max_height": null,
            "align_content": null,
            "visibility": null,
            "align_self": null,
            "height": null,
            "min_height": null,
            "padding": null,
            "grid_auto_rows": null,
            "grid_gap": null,
            "max_width": null,
            "order": null,
            "_view_module_version": "1.2.0",
            "grid_template_areas": null,
            "object_position": null,
            "object_fit": null,
            "grid_auto_columns": null,
            "margin": null,
            "display": null,
            "left": null
          }
        },
        "4250a6bd8f3548a994901dcb114c16eb": {
          "model_module": "@jupyter-widgets/controls",
          "model_name": "ProgressStyleModel",
          "model_module_version": "1.5.0",
          "state": {
            "_view_name": "StyleView",
            "_model_name": "ProgressStyleModel",
            "description_width": "",
            "_view_module": "@jupyter-widgets/base",
            "_model_module_version": "1.5.0",
            "_view_count": null,
            "_view_module_version": "1.2.0",
            "bar_color": null,
            "_model_module": "@jupyter-widgets/controls"
          }
        },
        "73bd5d5e19b842a883c508dd5813b057": {
          "model_module": "@jupyter-widgets/base",
          "model_name": "LayoutModel",
          "model_module_version": "1.2.0",
          "state": {
            "_view_name": "LayoutView",
            "grid_template_rows": null,
            "right": null,
            "justify_content": null,
            "_view_module": "@jupyter-widgets/base",
            "overflow": null,
            "_model_module_version": "1.2.0",
            "_view_count": null,
            "flex_flow": null,
            "width": null,
            "min_width": null,
            "border": null,
            "align_items": null,
            "bottom": null,
            "_model_module": "@jupyter-widgets/base",
            "top": null,
            "grid_column": null,
            "overflow_y": null,
            "overflow_x": null,
            "grid_auto_flow": null,
            "grid_area": null,
            "grid_template_columns": null,
            "flex": null,
            "_model_name": "LayoutModel",
            "justify_items": null,
            "grid_row": null,
            "max_height": null,
            "align_content": null,
            "visibility": null,
            "align_self": null,
            "height": null,
            "min_height": null,
            "padding": null,
            "grid_auto_rows": null,
            "grid_gap": null,
            "max_width": null,
            "order": null,
            "_view_module_version": "1.2.0",
            "grid_template_areas": null,
            "object_position": null,
            "object_fit": null,
            "grid_auto_columns": null,
            "margin": null,
            "display": null,
            "left": null
          }
        },
        "dfdded2bd063445295903dd73a8a016c": {
          "model_module": "@jupyter-widgets/controls",
          "model_name": "DescriptionStyleModel",
          "model_module_version": "1.5.0",
          "state": {
            "_view_name": "StyleView",
            "_model_name": "DescriptionStyleModel",
            "description_width": "",
            "_view_module": "@jupyter-widgets/base",
            "_model_module_version": "1.5.0",
            "_view_count": null,
            "_view_module_version": "1.2.0",
            "_model_module": "@jupyter-widgets/controls"
          }
        },
        "2a556b1ec40d4abeb73234cf346d12a9": {
          "model_module": "@jupyter-widgets/base",
          "model_name": "LayoutModel",
          "model_module_version": "1.2.0",
          "state": {
            "_view_name": "LayoutView",
            "grid_template_rows": null,
            "right": null,
            "justify_content": null,
            "_view_module": "@jupyter-widgets/base",
            "overflow": null,
            "_model_module_version": "1.2.0",
            "_view_count": null,
            "flex_flow": null,
            "width": null,
            "min_width": null,
            "border": null,
            "align_items": null,
            "bottom": null,
            "_model_module": "@jupyter-widgets/base",
            "top": null,
            "grid_column": null,
            "overflow_y": null,
            "overflow_x": null,
            "grid_auto_flow": null,
            "grid_area": null,
            "grid_template_columns": null,
            "flex": null,
            "_model_name": "LayoutModel",
            "justify_items": null,
            "grid_row": null,
            "max_height": null,
            "align_content": null,
            "visibility": null,
            "align_self": null,
            "height": null,
            "min_height": null,
            "padding": null,
            "grid_auto_rows": null,
            "grid_gap": null,
            "max_width": null,
            "order": null,
            "_view_module_version": "1.2.0",
            "grid_template_areas": null,
            "object_position": null,
            "object_fit": null,
            "grid_auto_columns": null,
            "margin": null,
            "display": null,
            "left": null
          }
        },
        "3748139922f94f418d85ce09b08df0ab": {
          "model_module": "@jupyter-widgets/controls",
          "model_name": "HBoxModel",
          "model_module_version": "1.5.0",
          "state": {
            "_view_name": "HBoxView",
            "_dom_classes": [],
            "_model_name": "HBoxModel",
            "_view_module": "@jupyter-widgets/controls",
            "_model_module_version": "1.5.0",
            "_view_count": null,
            "_view_module_version": "1.5.0",
            "box_style": "",
            "layout": "IPY_MODEL_3feecef8033f476f966c83bd006bf6ac",
            "_model_module": "@jupyter-widgets/controls",
            "children": [
              "IPY_MODEL_33be63a5570f4d5dac3e48bde8e9c588",
              "IPY_MODEL_637ed0a434cd419b9382d7c498ffb5bb",
              "IPY_MODEL_68059e000f1344ef955f5eb9d7fb3b9d"
            ]
          }
        },
        "3feecef8033f476f966c83bd006bf6ac": {
          "model_module": "@jupyter-widgets/base",
          "model_name": "LayoutModel",
          "model_module_version": "1.2.0",
          "state": {
            "_view_name": "LayoutView",
            "grid_template_rows": null,
            "right": null,
            "justify_content": null,
            "_view_module": "@jupyter-widgets/base",
            "overflow": null,
            "_model_module_version": "1.2.0",
            "_view_count": null,
            "flex_flow": null,
            "width": null,
            "min_width": null,
            "border": null,
            "align_items": null,
            "bottom": null,
            "_model_module": "@jupyter-widgets/base",
            "top": null,
            "grid_column": null,
            "overflow_y": null,
            "overflow_x": null,
            "grid_auto_flow": null,
            "grid_area": null,
            "grid_template_columns": null,
            "flex": null,
            "_model_name": "LayoutModel",
            "justify_items": null,
            "grid_row": null,
            "max_height": null,
            "align_content": null,
            "visibility": null,
            "align_self": null,
            "height": null,
            "min_height": null,
            "padding": null,
            "grid_auto_rows": null,
            "grid_gap": null,
            "max_width": null,
            "order": null,
            "_view_module_version": "1.2.0",
            "grid_template_areas": null,
            "object_position": null,
            "object_fit": null,
            "grid_auto_columns": null,
            "margin": null,
            "display": null,
            "left": null
          }
        },
        "33be63a5570f4d5dac3e48bde8e9c588": {
          "model_module": "@jupyter-widgets/controls",
          "model_name": "HTMLModel",
          "model_module_version": "1.5.0",
          "state": {
            "_view_name": "HTMLView",
            "style": "IPY_MODEL_af56e7dfbe9946e6b7169e51733da3fc",
            "_dom_classes": [],
            "description": "",
            "_model_name": "HTMLModel",
            "placeholder": "​",
            "_view_module": "@jupyter-widgets/controls",
            "_model_module_version": "1.5.0",
            "value": "Downloading: 100%",
            "_view_count": null,
            "_view_module_version": "1.5.0",
            "description_tooltip": null,
            "_model_module": "@jupyter-widgets/controls",
            "layout": "IPY_MODEL_6773b1112b83464da94e614fc6033dbd"
          }
        },
        "637ed0a434cd419b9382d7c498ffb5bb": {
          "model_module": "@jupyter-widgets/controls",
          "model_name": "FloatProgressModel",
          "model_module_version": "1.5.0",
          "state": {
            "_view_name": "ProgressView",
            "style": "IPY_MODEL_1672c2a9a99d44e9ba33dc95c4dbccec",
            "_dom_classes": [],
            "description": "",
            "_model_name": "FloatProgressModel",
            "bar_style": "success",
            "max": 1270925,
            "_view_module": "@jupyter-widgets/controls",
            "_model_module_version": "1.5.0",
            "value": 1270925,
            "_view_count": null,
            "_view_module_version": "1.5.0",
            "orientation": "horizontal",
            "min": 0,
            "description_tooltip": null,
            "_model_module": "@jupyter-widgets/controls",
            "layout": "IPY_MODEL_e1595d5fc4fd45c286f2170339b6c041"
          }
        },
        "68059e000f1344ef955f5eb9d7fb3b9d": {
          "model_module": "@jupyter-widgets/controls",
          "model_name": "HTMLModel",
          "model_module_version": "1.5.0",
          "state": {
            "_view_name": "HTMLView",
            "style": "IPY_MODEL_f1aef52cf36d4570b158b81349a98c90",
            "_dom_classes": [],
            "description": "",
            "_model_name": "HTMLModel",
            "placeholder": "​",
            "_view_module": "@jupyter-widgets/controls",
            "_model_module_version": "1.5.0",
            "value": " 1.21M/1.21M [00:00&lt;00:00, 1.33MB/s]",
            "_view_count": null,
            "_view_module_version": "1.5.0",
            "description_tooltip": null,
            "_model_module": "@jupyter-widgets/controls",
            "layout": "IPY_MODEL_49547333914c4856b5c626f34371eab0"
          }
        },
        "af56e7dfbe9946e6b7169e51733da3fc": {
          "model_module": "@jupyter-widgets/controls",
          "model_name": "DescriptionStyleModel",
          "model_module_version": "1.5.0",
          "state": {
            "_view_name": "StyleView",
            "_model_name": "DescriptionStyleModel",
            "description_width": "",
            "_view_module": "@jupyter-widgets/base",
            "_model_module_version": "1.5.0",
            "_view_count": null,
            "_view_module_version": "1.2.0",
            "_model_module": "@jupyter-widgets/controls"
          }
        },
        "6773b1112b83464da94e614fc6033dbd": {
          "model_module": "@jupyter-widgets/base",
          "model_name": "LayoutModel",
          "model_module_version": "1.2.0",
          "state": {
            "_view_name": "LayoutView",
            "grid_template_rows": null,
            "right": null,
            "justify_content": null,
            "_view_module": "@jupyter-widgets/base",
            "overflow": null,
            "_model_module_version": "1.2.0",
            "_view_count": null,
            "flex_flow": null,
            "width": null,
            "min_width": null,
            "border": null,
            "align_items": null,
            "bottom": null,
            "_model_module": "@jupyter-widgets/base",
            "top": null,
            "grid_column": null,
            "overflow_y": null,
            "overflow_x": null,
            "grid_auto_flow": null,
            "grid_area": null,
            "grid_template_columns": null,
            "flex": null,
            "_model_name": "LayoutModel",
            "justify_items": null,
            "grid_row": null,
            "max_height": null,
            "align_content": null,
            "visibility": null,
            "align_self": null,
            "height": null,
            "min_height": null,
            "padding": null,
            "grid_auto_rows": null,
            "grid_gap": null,
            "max_width": null,
            "order": null,
            "_view_module_version": "1.2.0",
            "grid_template_areas": null,
            "object_position": null,
            "object_fit": null,
            "grid_auto_columns": null,
            "margin": null,
            "display": null,
            "left": null
          }
        },
        "1672c2a9a99d44e9ba33dc95c4dbccec": {
          "model_module": "@jupyter-widgets/controls",
          "model_name": "ProgressStyleModel",
          "model_module_version": "1.5.0",
          "state": {
            "_view_name": "StyleView",
            "_model_name": "ProgressStyleModel",
            "description_width": "",
            "_view_module": "@jupyter-widgets/base",
            "_model_module_version": "1.5.0",
            "_view_count": null,
            "_view_module_version": "1.2.0",
            "bar_color": null,
            "_model_module": "@jupyter-widgets/controls"
          }
        },
        "e1595d5fc4fd45c286f2170339b6c041": {
          "model_module": "@jupyter-widgets/base",
          "model_name": "LayoutModel",
          "model_module_version": "1.2.0",
          "state": {
            "_view_name": "LayoutView",
            "grid_template_rows": null,
            "right": null,
            "justify_content": null,
            "_view_module": "@jupyter-widgets/base",
            "overflow": null,
            "_model_module_version": "1.2.0",
            "_view_count": null,
            "flex_flow": null,
            "width": null,
            "min_width": null,
            "border": null,
            "align_items": null,
            "bottom": null,
            "_model_module": "@jupyter-widgets/base",
            "top": null,
            "grid_column": null,
            "overflow_y": null,
            "overflow_x": null,
            "grid_auto_flow": null,
            "grid_area": null,
            "grid_template_columns": null,
            "flex": null,
            "_model_name": "LayoutModel",
            "justify_items": null,
            "grid_row": null,
            "max_height": null,
            "align_content": null,
            "visibility": null,
            "align_self": null,
            "height": null,
            "min_height": null,
            "padding": null,
            "grid_auto_rows": null,
            "grid_gap": null,
            "max_width": null,
            "order": null,
            "_view_module_version": "1.2.0",
            "grid_template_areas": null,
            "object_position": null,
            "object_fit": null,
            "grid_auto_columns": null,
            "margin": null,
            "display": null,
            "left": null
          }
        },
        "f1aef52cf36d4570b158b81349a98c90": {
          "model_module": "@jupyter-widgets/controls",
          "model_name": "DescriptionStyleModel",
          "model_module_version": "1.5.0",
          "state": {
            "_view_name": "StyleView",
            "_model_name": "DescriptionStyleModel",
            "description_width": "",
            "_view_module": "@jupyter-widgets/base",
            "_model_module_version": "1.5.0",
            "_view_count": null,
            "_view_module_version": "1.2.0",
            "_model_module": "@jupyter-widgets/controls"
          }
        },
        "49547333914c4856b5c626f34371eab0": {
          "model_module": "@jupyter-widgets/base",
          "model_name": "LayoutModel",
          "model_module_version": "1.2.0",
          "state": {
            "_view_name": "LayoutView",
            "grid_template_rows": null,
            "right": null,
            "justify_content": null,
            "_view_module": "@jupyter-widgets/base",
            "overflow": null,
            "_model_module_version": "1.2.0",
            "_view_count": null,
            "flex_flow": null,
            "width": null,
            "min_width": null,
            "border": null,
            "align_items": null,
            "bottom": null,
            "_model_module": "@jupyter-widgets/base",
            "top": null,
            "grid_column": null,
            "overflow_y": null,
            "overflow_x": null,
            "grid_auto_flow": null,
            "grid_area": null,
            "grid_template_columns": null,
            "flex": null,
            "_model_name": "LayoutModel",
            "justify_items": null,
            "grid_row": null,
            "max_height": null,
            "align_content": null,
            "visibility": null,
            "align_self": null,
            "height": null,
            "min_height": null,
            "padding": null,
            "grid_auto_rows": null,
            "grid_gap": null,
            "max_width": null,
            "order": null,
            "_view_module_version": "1.2.0",
            "grid_template_areas": null,
            "object_position": null,
            "object_fit": null,
            "grid_auto_columns": null,
            "margin": null,
            "display": null,
            "left": null
          }
        },
        "52008f3c661440b08445ac23ecf7bfaf": {
          "model_module": "@jupyter-widgets/controls",
          "model_name": "HBoxModel",
          "model_module_version": "1.5.0",
          "state": {
            "_view_name": "HBoxView",
            "_dom_classes": [],
            "_model_name": "HBoxModel",
            "_view_module": "@jupyter-widgets/controls",
            "_model_module_version": "1.5.0",
            "_view_count": null,
            "_view_module_version": "1.5.0",
            "box_style": "",
            "layout": "IPY_MODEL_34d3930d30c64d6e8ac8c458829c4f12",
            "_model_module": "@jupyter-widgets/controls",
            "children": [
              "IPY_MODEL_0a72233a507c4e0cae6d200b69163b1f",
              "IPY_MODEL_bfa4b34443ec4ce998b12c68119853c0",
              "IPY_MODEL_b16cd28d657a49bbb7f6631d1066fb24"
            ]
          }
        },
        "34d3930d30c64d6e8ac8c458829c4f12": {
          "model_module": "@jupyter-widgets/base",
          "model_name": "LayoutModel",
          "model_module_version": "1.2.0",
          "state": {
            "_view_name": "LayoutView",
            "grid_template_rows": null,
            "right": null,
            "justify_content": null,
            "_view_module": "@jupyter-widgets/base",
            "overflow": null,
            "_model_module_version": "1.2.0",
            "_view_count": null,
            "flex_flow": null,
            "width": null,
            "min_width": null,
            "border": null,
            "align_items": null,
            "bottom": null,
            "_model_module": "@jupyter-widgets/base",
            "top": null,
            "grid_column": null,
            "overflow_y": null,
            "overflow_x": null,
            "grid_auto_flow": null,
            "grid_area": null,
            "grid_template_columns": null,
            "flex": null,
            "_model_name": "LayoutModel",
            "justify_items": null,
            "grid_row": null,
            "max_height": null,
            "align_content": null,
            "visibility": null,
            "align_self": null,
            "height": null,
            "min_height": null,
            "padding": null,
            "grid_auto_rows": null,
            "grid_gap": null,
            "max_width": null,
            "order": null,
            "_view_module_version": "1.2.0",
            "grid_template_areas": null,
            "object_position": null,
            "object_fit": null,
            "grid_auto_columns": null,
            "margin": null,
            "display": null,
            "left": null
          }
        },
        "0a72233a507c4e0cae6d200b69163b1f": {
          "model_module": "@jupyter-widgets/controls",
          "model_name": "HTMLModel",
          "model_module_version": "1.5.0",
          "state": {
            "_view_name": "HTMLView",
            "style": "IPY_MODEL_bb413aaf29ef4442b6c7dcd9716f5245",
            "_dom_classes": [],
            "description": "",
            "_model_name": "HTMLModel",
            "placeholder": "​",
            "_view_module": "@jupyter-widgets/controls",
            "_model_module_version": "1.5.0",
            "value": "Downloading: 100%",
            "_view_count": null,
            "_view_module_version": "1.5.0",
            "description_tooltip": null,
            "_model_module": "@jupyter-widgets/controls",
            "layout": "IPY_MODEL_6f88ae9d741845d29b23e909e61b0e02"
          }
        },
        "bfa4b34443ec4ce998b12c68119853c0": {
          "model_module": "@jupyter-widgets/controls",
          "model_name": "FloatProgressModel",
          "model_module_version": "1.5.0",
          "state": {
            "_view_name": "ProgressView",
            "style": "IPY_MODEL_2fa0e1909e9a4617a78ee1b03705e97c",
            "_dom_classes": [],
            "description": "",
            "_model_name": "FloatProgressModel",
            "bar_style": "success",
            "max": 609,
            "_view_module": "@jupyter-widgets/controls",
            "_model_module_version": "1.5.0",
            "value": 609,
            "_view_count": null,
            "_view_module_version": "1.5.0",
            "orientation": "horizontal",
            "min": 0,
            "description_tooltip": null,
            "_model_module": "@jupyter-widgets/controls",
            "layout": "IPY_MODEL_4b0606092d624bc2a7507ce76acdf61b"
          }
        },
        "b16cd28d657a49bbb7f6631d1066fb24": {
          "model_module": "@jupyter-widgets/controls",
          "model_name": "HTMLModel",
          "model_module_version": "1.5.0",
          "state": {
            "_view_name": "HTMLView",
            "style": "IPY_MODEL_571ec4dd202d4524a564378788138a07",
            "_dom_classes": [],
            "description": "",
            "_model_name": "HTMLModel",
            "placeholder": "​",
            "_view_module": "@jupyter-widgets/controls",
            "_model_module_version": "1.5.0",
            "value": " 609/609 [00:00&lt;00:00, 9.25kB/s]",
            "_view_count": null,
            "_view_module_version": "1.5.0",
            "description_tooltip": null,
            "_model_module": "@jupyter-widgets/controls",
            "layout": "IPY_MODEL_43519032e700472fb150302938051f31"
          }
        },
        "bb413aaf29ef4442b6c7dcd9716f5245": {
          "model_module": "@jupyter-widgets/controls",
          "model_name": "DescriptionStyleModel",
          "model_module_version": "1.5.0",
          "state": {
            "_view_name": "StyleView",
            "_model_name": "DescriptionStyleModel",
            "description_width": "",
            "_view_module": "@jupyter-widgets/base",
            "_model_module_version": "1.5.0",
            "_view_count": null,
            "_view_module_version": "1.2.0",
            "_model_module": "@jupyter-widgets/controls"
          }
        },
        "6f88ae9d741845d29b23e909e61b0e02": {
          "model_module": "@jupyter-widgets/base",
          "model_name": "LayoutModel",
          "model_module_version": "1.2.0",
          "state": {
            "_view_name": "LayoutView",
            "grid_template_rows": null,
            "right": null,
            "justify_content": null,
            "_view_module": "@jupyter-widgets/base",
            "overflow": null,
            "_model_module_version": "1.2.0",
            "_view_count": null,
            "flex_flow": null,
            "width": null,
            "min_width": null,
            "border": null,
            "align_items": null,
            "bottom": null,
            "_model_module": "@jupyter-widgets/base",
            "top": null,
            "grid_column": null,
            "overflow_y": null,
            "overflow_x": null,
            "grid_auto_flow": null,
            "grid_area": null,
            "grid_template_columns": null,
            "flex": null,
            "_model_name": "LayoutModel",
            "justify_items": null,
            "grid_row": null,
            "max_height": null,
            "align_content": null,
            "visibility": null,
            "align_self": null,
            "height": null,
            "min_height": null,
            "padding": null,
            "grid_auto_rows": null,
            "grid_gap": null,
            "max_width": null,
            "order": null,
            "_view_module_version": "1.2.0",
            "grid_template_areas": null,
            "object_position": null,
            "object_fit": null,
            "grid_auto_columns": null,
            "margin": null,
            "display": null,
            "left": null
          }
        },
        "2fa0e1909e9a4617a78ee1b03705e97c": {
          "model_module": "@jupyter-widgets/controls",
          "model_name": "ProgressStyleModel",
          "model_module_version": "1.5.0",
          "state": {
            "_view_name": "StyleView",
            "_model_name": "ProgressStyleModel",
            "description_width": "",
            "_view_module": "@jupyter-widgets/base",
            "_model_module_version": "1.5.0",
            "_view_count": null,
            "_view_module_version": "1.2.0",
            "bar_color": null,
            "_model_module": "@jupyter-widgets/controls"
          }
        },
        "4b0606092d624bc2a7507ce76acdf61b": {
          "model_module": "@jupyter-widgets/base",
          "model_name": "LayoutModel",
          "model_module_version": "1.2.0",
          "state": {
            "_view_name": "LayoutView",
            "grid_template_rows": null,
            "right": null,
            "justify_content": null,
            "_view_module": "@jupyter-widgets/base",
            "overflow": null,
            "_model_module_version": "1.2.0",
            "_view_count": null,
            "flex_flow": null,
            "width": null,
            "min_width": null,
            "border": null,
            "align_items": null,
            "bottom": null,
            "_model_module": "@jupyter-widgets/base",
            "top": null,
            "grid_column": null,
            "overflow_y": null,
            "overflow_x": null,
            "grid_auto_flow": null,
            "grid_area": null,
            "grid_template_columns": null,
            "flex": null,
            "_model_name": "LayoutModel",
            "justify_items": null,
            "grid_row": null,
            "max_height": null,
            "align_content": null,
            "visibility": null,
            "align_self": null,
            "height": null,
            "min_height": null,
            "padding": null,
            "grid_auto_rows": null,
            "grid_gap": null,
            "max_width": null,
            "order": null,
            "_view_module_version": "1.2.0",
            "grid_template_areas": null,
            "object_position": null,
            "object_fit": null,
            "grid_auto_columns": null,
            "margin": null,
            "display": null,
            "left": null
          }
        },
        "571ec4dd202d4524a564378788138a07": {
          "model_module": "@jupyter-widgets/controls",
          "model_name": "DescriptionStyleModel",
          "model_module_version": "1.5.0",
          "state": {
            "_view_name": "StyleView",
            "_model_name": "DescriptionStyleModel",
            "description_width": "",
            "_view_module": "@jupyter-widgets/base",
            "_model_module_version": "1.5.0",
            "_view_count": null,
            "_view_module_version": "1.2.0",
            "_model_module": "@jupyter-widgets/controls"
          }
        },
        "43519032e700472fb150302938051f31": {
          "model_module": "@jupyter-widgets/base",
          "model_name": "LayoutModel",
          "model_module_version": "1.2.0",
          "state": {
            "_view_name": "LayoutView",
            "grid_template_rows": null,
            "right": null,
            "justify_content": null,
            "_view_module": "@jupyter-widgets/base",
            "overflow": null,
            "_model_module_version": "1.2.0",
            "_view_count": null,
            "flex_flow": null,
            "width": null,
            "min_width": null,
            "border": null,
            "align_items": null,
            "bottom": null,
            "_model_module": "@jupyter-widgets/base",
            "top": null,
            "grid_column": null,
            "overflow_y": null,
            "overflow_x": null,
            "grid_auto_flow": null,
            "grid_area": null,
            "grid_template_columns": null,
            "flex": null,
            "_model_name": "LayoutModel",
            "justify_items": null,
            "grid_row": null,
            "max_height": null,
            "align_content": null,
            "visibility": null,
            "align_self": null,
            "height": null,
            "min_height": null,
            "padding": null,
            "grid_auto_rows": null,
            "grid_gap": null,
            "max_width": null,
            "order": null,
            "_view_module_version": "1.2.0",
            "grid_template_areas": null,
            "object_position": null,
            "object_fit": null,
            "grid_auto_columns": null,
            "margin": null,
            "display": null,
            "left": null
          }
        },
        "1839d4467ab942dd8b016ded9f8f8bd3": {
          "model_module": "@jupyter-widgets/controls",
          "model_name": "HBoxModel",
          "model_module_version": "1.5.0",
          "state": {
            "_view_name": "HBoxView",
            "_dom_classes": [],
            "_model_name": "HBoxModel",
            "_view_module": "@jupyter-widgets/controls",
            "_model_module_version": "1.5.0",
            "_view_count": null,
            "_view_module_version": "1.5.0",
            "box_style": "",
            "layout": "IPY_MODEL_1a116f3b4c0a43878b5e6076bebfe854",
            "_model_module": "@jupyter-widgets/controls",
            "children": [
              "IPY_MODEL_9737c219de1e4d56adc6bb0d6f3ef19b",
              "IPY_MODEL_80528f9da77540dab7ad93b316565051",
              "IPY_MODEL_83191122e8a648489fa4a3d2c334e15f"
            ]
          }
        },
        "1a116f3b4c0a43878b5e6076bebfe854": {
          "model_module": "@jupyter-widgets/base",
          "model_name": "LayoutModel",
          "model_module_version": "1.2.0",
          "state": {
            "_view_name": "LayoutView",
            "grid_template_rows": null,
            "right": null,
            "justify_content": null,
            "_view_module": "@jupyter-widgets/base",
            "overflow": null,
            "_model_module_version": "1.2.0",
            "_view_count": null,
            "flex_flow": null,
            "width": null,
            "min_width": null,
            "border": null,
            "align_items": null,
            "bottom": null,
            "_model_module": "@jupyter-widgets/base",
            "top": null,
            "grid_column": null,
            "overflow_y": null,
            "overflow_x": null,
            "grid_auto_flow": null,
            "grid_area": null,
            "grid_template_columns": null,
            "flex": null,
            "_model_name": "LayoutModel",
            "justify_items": null,
            "grid_row": null,
            "max_height": null,
            "align_content": null,
            "visibility": null,
            "align_self": null,
            "height": null,
            "min_height": null,
            "padding": null,
            "grid_auto_rows": null,
            "grid_gap": null,
            "max_width": null,
            "order": null,
            "_view_module_version": "1.2.0",
            "grid_template_areas": null,
            "object_position": null,
            "object_fit": null,
            "grid_auto_columns": null,
            "margin": null,
            "display": null,
            "left": null
          }
        },
        "9737c219de1e4d56adc6bb0d6f3ef19b": {
          "model_module": "@jupyter-widgets/controls",
          "model_name": "HTMLModel",
          "model_module_version": "1.5.0",
          "state": {
            "_view_name": "HTMLView",
            "style": "IPY_MODEL_ee6239a833f04b96a4529daf1a214746",
            "_dom_classes": [],
            "description": "",
            "_model_name": "HTMLModel",
            "placeholder": "​",
            "_view_module": "@jupyter-widgets/controls",
            "_model_module_version": "1.5.0",
            "value": "Downloading: 100%",
            "_view_count": null,
            "_view_module_version": "1.5.0",
            "description_tooltip": null,
            "_model_module": "@jupyter-widgets/controls",
            "layout": "IPY_MODEL_a0891d6abf7e4e3386ffbfab3add3cec"
          }
        },
        "80528f9da77540dab7ad93b316565051": {
          "model_module": "@jupyter-widgets/controls",
          "model_name": "FloatProgressModel",
          "model_module_version": "1.5.0",
          "state": {
            "_view_name": "ProgressView",
            "style": "IPY_MODEL_2d2a744df0e947c7abb4245e884216bd",
            "_dom_classes": [],
            "description": "",
            "_model_name": "FloatProgressModel",
            "bar_style": "success",
            "max": 3141928084,
            "_view_module": "@jupyter-widgets/controls",
            "_model_module_version": "1.5.0",
            "value": 3141928084,
            "_view_count": null,
            "_view_module_version": "1.5.0",
            "orientation": "horizontal",
            "min": 0,
            "description_tooltip": null,
            "_model_module": "@jupyter-widgets/controls",
            "layout": "IPY_MODEL_e0ed1750383748b1b778ba7f3a37684b"
          }
        },
        "83191122e8a648489fa4a3d2c334e15f": {
          "model_module": "@jupyter-widgets/controls",
          "model_name": "HTMLModel",
          "model_module_version": "1.5.0",
          "state": {
            "_view_name": "HTMLView",
            "style": "IPY_MODEL_d82355fa29b44f5eb19e98f4dc5af529",
            "_dom_classes": [],
            "description": "",
            "_model_name": "HTMLModel",
            "placeholder": "​",
            "_view_module": "@jupyter-widgets/controls",
            "_model_module_version": "1.5.0",
            "value": " 2.93G/2.93G [01:32&lt;00:00, 34.9MB/s]",
            "_view_count": null,
            "_view_module_version": "1.5.0",
            "description_tooltip": null,
            "_model_module": "@jupyter-widgets/controls",
            "layout": "IPY_MODEL_1d7bd08a8112441ca8b7fc20c1280282"
          }
        },
        "ee6239a833f04b96a4529daf1a214746": {
          "model_module": "@jupyter-widgets/controls",
          "model_name": "DescriptionStyleModel",
          "model_module_version": "1.5.0",
          "state": {
            "_view_name": "StyleView",
            "_model_name": "DescriptionStyleModel",
            "description_width": "",
            "_view_module": "@jupyter-widgets/base",
            "_model_module_version": "1.5.0",
            "_view_count": null,
            "_view_module_version": "1.2.0",
            "_model_module": "@jupyter-widgets/controls"
          }
        },
        "a0891d6abf7e4e3386ffbfab3add3cec": {
          "model_module": "@jupyter-widgets/base",
          "model_name": "LayoutModel",
          "model_module_version": "1.2.0",
          "state": {
            "_view_name": "LayoutView",
            "grid_template_rows": null,
            "right": null,
            "justify_content": null,
            "_view_module": "@jupyter-widgets/base",
            "overflow": null,
            "_model_module_version": "1.2.0",
            "_view_count": null,
            "flex_flow": null,
            "width": null,
            "min_width": null,
            "border": null,
            "align_items": null,
            "bottom": null,
            "_model_module": "@jupyter-widgets/base",
            "top": null,
            "grid_column": null,
            "overflow_y": null,
            "overflow_x": null,
            "grid_auto_flow": null,
            "grid_area": null,
            "grid_template_columns": null,
            "flex": null,
            "_model_name": "LayoutModel",
            "justify_items": null,
            "grid_row": null,
            "max_height": null,
            "align_content": null,
            "visibility": null,
            "align_self": null,
            "height": null,
            "min_height": null,
            "padding": null,
            "grid_auto_rows": null,
            "grid_gap": null,
            "max_width": null,
            "order": null,
            "_view_module_version": "1.2.0",
            "grid_template_areas": null,
            "object_position": null,
            "object_fit": null,
            "grid_auto_columns": null,
            "margin": null,
            "display": null,
            "left": null
          }
        },
        "2d2a744df0e947c7abb4245e884216bd": {
          "model_module": "@jupyter-widgets/controls",
          "model_name": "ProgressStyleModel",
          "model_module_version": "1.5.0",
          "state": {
            "_view_name": "StyleView",
            "_model_name": "ProgressStyleModel",
            "description_width": "",
            "_view_module": "@jupyter-widgets/base",
            "_model_module_version": "1.5.0",
            "_view_count": null,
            "_view_module_version": "1.2.0",
            "bar_color": null,
            "_model_module": "@jupyter-widgets/controls"
          }
        },
        "e0ed1750383748b1b778ba7f3a37684b": {
          "model_module": "@jupyter-widgets/base",
          "model_name": "LayoutModel",
          "model_module_version": "1.2.0",
          "state": {
            "_view_name": "LayoutView",
            "grid_template_rows": null,
            "right": null,
            "justify_content": null,
            "_view_module": "@jupyter-widgets/base",
            "overflow": null,
            "_model_module_version": "1.2.0",
            "_view_count": null,
            "flex_flow": null,
            "width": null,
            "min_width": null,
            "border": null,
            "align_items": null,
            "bottom": null,
            "_model_module": "@jupyter-widgets/base",
            "top": null,
            "grid_column": null,
            "overflow_y": null,
            "overflow_x": null,
            "grid_auto_flow": null,
            "grid_area": null,
            "grid_template_columns": null,
            "flex": null,
            "_model_name": "LayoutModel",
            "justify_items": null,
            "grid_row": null,
            "max_height": null,
            "align_content": null,
            "visibility": null,
            "align_self": null,
            "height": null,
            "min_height": null,
            "padding": null,
            "grid_auto_rows": null,
            "grid_gap": null,
            "max_width": null,
            "order": null,
            "_view_module_version": "1.2.0",
            "grid_template_areas": null,
            "object_position": null,
            "object_fit": null,
            "grid_auto_columns": null,
            "margin": null,
            "display": null,
            "left": null
          }
        },
        "d82355fa29b44f5eb19e98f4dc5af529": {
          "model_module": "@jupyter-widgets/controls",
          "model_name": "DescriptionStyleModel",
          "model_module_version": "1.5.0",
          "state": {
            "_view_name": "StyleView",
            "_model_name": "DescriptionStyleModel",
            "description_width": "",
            "_view_module": "@jupyter-widgets/base",
            "_model_module_version": "1.5.0",
            "_view_count": null,
            "_view_module_version": "1.2.0",
            "_model_module": "@jupyter-widgets/controls"
          }
        },
        "1d7bd08a8112441ca8b7fc20c1280282": {
          "model_module": "@jupyter-widgets/base",
          "model_name": "LayoutModel",
          "model_module_version": "1.2.0",
          "state": {
            "_view_name": "LayoutView",
            "grid_template_rows": null,
            "right": null,
            "justify_content": null,
            "_view_module": "@jupyter-widgets/base",
            "overflow": null,
            "_model_module_version": "1.2.0",
            "_view_count": null,
            "flex_flow": null,
            "width": null,
            "min_width": null,
            "border": null,
            "align_items": null,
            "bottom": null,
            "_model_module": "@jupyter-widgets/base",
            "top": null,
            "grid_column": null,
            "overflow_y": null,
            "overflow_x": null,
            "grid_auto_flow": null,
            "grid_area": null,
            "grid_template_columns": null,
            "flex": null,
            "_model_name": "LayoutModel",
            "justify_items": null,
            "grid_row": null,
            "max_height": null,
            "align_content": null,
            "visibility": null,
            "align_self": null,
            "height": null,
            "min_height": null,
            "padding": null,
            "grid_auto_rows": null,
            "grid_gap": null,
            "max_width": null,
            "order": null,
            "_view_module_version": "1.2.0",
            "grid_template_areas": null,
            "object_position": null,
            "object_fit": null,
            "grid_auto_columns": null,
            "margin": null,
            "display": null,
            "left": null
          }
        }
      }
    }
  },
  "cells": [
    {
      "cell_type": "markdown",
      "metadata": {
        "id": "im3eBUB1nq9a"
      },
      "source": [
        "В этом упражнении мы не будем приводить примеры базового синтаксиса, а сразу перейдем к содержательной части, ознакомиться с основами идеологии языка и синтаксиса можно например [здесь](https://www.pythoncheatsheet.org)"
      ]
    },
    {
      "cell_type": "markdown",
      "metadata": {
        "id": "8lQZA9AYnxep"
      },
      "source": [
        "**1. Сбор исторических биржевых данных и предсказание будущих**"
      ]
    },
    {
      "cell_type": "code",
      "metadata": {
        "id": "JwvVfdkbod0l"
      },
      "source": [
        "# установка библиотеки для доступа к финансовым данным от Yahoo и для анализа временных рядов\n",
        "!pip install yfinance autots"
      ],
      "execution_count": null,
      "outputs": []
    },
    {
      "cell_type": "code",
      "metadata": {
        "id": "_jwV3ApAnMRR"
      },
      "source": [
        "import yfinance as yf # импортирование библиотеки"
      ],
      "execution_count": null,
      "outputs": []
    },
    {
      "cell_type": "code",
      "metadata": {
        "colab": {
          "base_uri": "https://localhost:8080/"
        },
        "id": "5LBL2KDen9yn",
        "outputId": "2e49be0a-8cd0-47a6-bbb1-689a35412521"
      },
      "source": [
        "data = yf.download(\"AAPL TSLA\", start=\"2021-01-01\", end=\"2021-11-01\")"
      ],
      "execution_count": null,
      "outputs": [
        {
          "output_type": "stream",
          "name": "stdout",
          "text": [
            "[*********************100%***********************]  2 of 2 completed\n"
          ]
        }
      ]
    },
    {
      "cell_type": "code",
      "metadata": {
        "colab": {
          "base_uri": "https://localhost:8080/",
          "height": 268
        },
        "id": "ovRGGZ25onEG",
        "outputId": "74ac9fc0-bb64-4a21-e21c-437a8fa37260"
      },
      "source": [
        "data.head()"
      ],
      "execution_count": null,
      "outputs": [
        {
          "output_type": "execute_result",
          "data": {
            "text/html": [
              "<div>\n",
              "<style scoped>\n",
              "    .dataframe tbody tr th:only-of-type {\n",
              "        vertical-align: middle;\n",
              "    }\n",
              "\n",
              "    .dataframe tbody tr th {\n",
              "        vertical-align: top;\n",
              "    }\n",
              "\n",
              "    .dataframe thead tr th {\n",
              "        text-align: left;\n",
              "    }\n",
              "\n",
              "    .dataframe thead tr:last-of-type th {\n",
              "        text-align: right;\n",
              "    }\n",
              "</style>\n",
              "<table border=\"1\" class=\"dataframe\">\n",
              "  <thead>\n",
              "    <tr>\n",
              "      <th></th>\n",
              "      <th colspan=\"2\" halign=\"left\">Adj Close</th>\n",
              "      <th colspan=\"2\" halign=\"left\">Close</th>\n",
              "      <th colspan=\"2\" halign=\"left\">High</th>\n",
              "      <th colspan=\"2\" halign=\"left\">Low</th>\n",
              "      <th colspan=\"2\" halign=\"left\">Open</th>\n",
              "      <th colspan=\"2\" halign=\"left\">Volume</th>\n",
              "    </tr>\n",
              "    <tr>\n",
              "      <th></th>\n",
              "      <th>AAPL</th>\n",
              "      <th>TSLA</th>\n",
              "      <th>AAPL</th>\n",
              "      <th>TSLA</th>\n",
              "      <th>AAPL</th>\n",
              "      <th>TSLA</th>\n",
              "      <th>AAPL</th>\n",
              "      <th>TSLA</th>\n",
              "      <th>AAPL</th>\n",
              "      <th>TSLA</th>\n",
              "      <th>AAPL</th>\n",
              "      <th>TSLA</th>\n",
              "    </tr>\n",
              "    <tr>\n",
              "      <th>Date</th>\n",
              "      <th></th>\n",
              "      <th></th>\n",
              "      <th></th>\n",
              "      <th></th>\n",
              "      <th></th>\n",
              "      <th></th>\n",
              "      <th></th>\n",
              "      <th></th>\n",
              "      <th></th>\n",
              "      <th></th>\n",
              "      <th></th>\n",
              "      <th></th>\n",
              "    </tr>\n",
              "  </thead>\n",
              "  <tbody>\n",
              "    <tr>\n",
              "      <th>2021-01-04</th>\n",
              "      <td>128.617111</td>\n",
              "      <td>729.770020</td>\n",
              "      <td>129.410004</td>\n",
              "      <td>729.770020</td>\n",
              "      <td>133.610001</td>\n",
              "      <td>744.489990</td>\n",
              "      <td>126.760002</td>\n",
              "      <td>717.190002</td>\n",
              "      <td>133.520004</td>\n",
              "      <td>719.460022</td>\n",
              "      <td>143301900</td>\n",
              "      <td>48638200</td>\n",
              "    </tr>\n",
              "    <tr>\n",
              "      <th>2021-01-05</th>\n",
              "      <td>130.207291</td>\n",
              "      <td>735.109985</td>\n",
              "      <td>131.009995</td>\n",
              "      <td>735.109985</td>\n",
              "      <td>131.740005</td>\n",
              "      <td>740.840027</td>\n",
              "      <td>128.429993</td>\n",
              "      <td>719.200012</td>\n",
              "      <td>128.889999</td>\n",
              "      <td>723.659973</td>\n",
              "      <td>97664900</td>\n",
              "      <td>32245200</td>\n",
              "    </tr>\n",
              "    <tr>\n",
              "      <th>2021-01-06</th>\n",
              "      <td>125.824326</td>\n",
              "      <td>755.979980</td>\n",
              "      <td>126.599998</td>\n",
              "      <td>755.979980</td>\n",
              "      <td>131.050003</td>\n",
              "      <td>774.000000</td>\n",
              "      <td>126.379997</td>\n",
              "      <td>749.099976</td>\n",
              "      <td>127.720001</td>\n",
              "      <td>758.489990</td>\n",
              "      <td>155088000</td>\n",
              "      <td>44700000</td>\n",
              "    </tr>\n",
              "    <tr>\n",
              "      <th>2021-01-07</th>\n",
              "      <td>130.117859</td>\n",
              "      <td>816.039978</td>\n",
              "      <td>130.919998</td>\n",
              "      <td>816.039978</td>\n",
              "      <td>131.630005</td>\n",
              "      <td>816.989990</td>\n",
              "      <td>127.860001</td>\n",
              "      <td>775.200012</td>\n",
              "      <td>128.360001</td>\n",
              "      <td>777.630005</td>\n",
              "      <td>109578200</td>\n",
              "      <td>51498900</td>\n",
              "    </tr>\n",
              "    <tr>\n",
              "      <th>2021-01-08</th>\n",
              "      <td>131.240921</td>\n",
              "      <td>880.020020</td>\n",
              "      <td>132.050003</td>\n",
              "      <td>880.020020</td>\n",
              "      <td>132.630005</td>\n",
              "      <td>884.489990</td>\n",
              "      <td>130.229996</td>\n",
              "      <td>838.390015</td>\n",
              "      <td>132.429993</td>\n",
              "      <td>856.000000</td>\n",
              "      <td>105158200</td>\n",
              "      <td>75055500</td>\n",
              "    </tr>\n",
              "  </tbody>\n",
              "</table>\n",
              "</div>"
            ],
            "text/plain": [
              "             Adj Close                   Close  ...        Open     Volume          \n",
              "                  AAPL        TSLA        AAPL  ...        TSLA       AAPL      TSLA\n",
              "Date                                            ...                                 \n",
              "2021-01-04  128.617111  729.770020  129.410004  ...  719.460022  143301900  48638200\n",
              "2021-01-05  130.207291  735.109985  131.009995  ...  723.659973   97664900  32245200\n",
              "2021-01-06  125.824326  755.979980  126.599998  ...  758.489990  155088000  44700000\n",
              "2021-01-07  130.117859  816.039978  130.919998  ...  777.630005  109578200  51498900\n",
              "2021-01-08  131.240921  880.020020  132.050003  ...  856.000000  105158200  75055500\n",
              "\n",
              "[5 rows x 12 columns]"
            ]
          },
          "metadata": {},
          "execution_count": 9
        }
      ]
    },
    {
      "cell_type": "markdown",
      "metadata": {
        "id": "wgnDip5wpNie"
      },
      "source": [
        "Среди скаченных колонок Close/Open означают цены в моменты открытия/закрытия торгов, High/Low - минимальные цены в течение дня, Volume - объем продаж(суммарная стоимость всех сделок)"
      ]
    },
    {
      "cell_type": "code",
      "metadata": {
        "id": "enM3ApUy3cxv"
      },
      "source": [
        "import matplotlib.pyplot as plt"
      ],
      "execution_count": null,
      "outputs": []
    },
    {
      "cell_type": "code",
      "metadata": {
        "id": "BJho74oyorq6",
        "colab": {
          "base_uri": "https://localhost:8080/"
        },
        "outputId": "a0b93bf9-a497-470d-e850-08eccae437df"
      },
      "source": [
        "from autots import AutoTS  # библиотека для автоматического предсказания временных рядов(в том числе и цен)"
      ],
      "execution_count": null,
      "outputs": [
        {
          "output_type": "stream",
          "name": "stderr",
          "text": [
            "/usr/local/lib/python3.7/dist-packages/statsmodels/tools/_testing.py:19: FutureWarning: pandas.util.testing is deprecated. Use the functions in the public API at pandas.testing instead.\n",
            "  import pandas.util.testing as tm\n"
          ]
        }
      ]
    },
    {
      "cell_type": "code",
      "metadata": {
        "id": "FDfu8BOp4J52"
      },
      "source": [
        "import pandas as pd\n",
        "data['date'] = pd.to_datetime(data.index)\n",
        "data[\"OpenTSLA\"] = data[\"Open\"][\"TSLA\"].astype(float)\n",
        "data[\"OpenAAPL\"] = data[\"Open\"][\"AAPL\"].astype(float)\n",
        "data_ = data[[\"date\", \"OpenTSLA\", \"OpenAAPL\"]]  # оставляем только нужные колонки\n",
        "data_.columns = [\"date\", \"OpenTSLA\", \"OpenAAPL\"]"
      ],
      "execution_count": null,
      "outputs": []
    },
    {
      "cell_type": "code",
      "metadata": {
        "id": "2IL0Cm-AqS-Y",
        "colab": {
          "base_uri": "https://localhost:8080/"
        },
        "outputId": "7253f54d-57ab-4fc0-899f-19a0d056955a"
      },
      "source": [
        "model = AutoTS(forecast_length=10, frequency='infer', \n",
        "               ensemble='simple', drop_data_older_than_periods=100)\n",
        "model = model.fit(data_, date_col=\"date\", value_col='OpenTSLA', id_col=None)"
      ],
      "execution_count": null,
      "outputs": [
        {
          "output_type": "stream",
          "name": "stdout",
          "text": [
            "Inferred frequency is: B\n",
            "Old data dropped by `drop_data_older_than_periods`.\n",
            "Model Number: 1 with model AverageValueNaive in generation 0 of 10\n",
            "Model Number: 2 with model AverageValueNaive in generation 0 of 10\n",
            "Model Number: 3 with model AverageValueNaive in generation 0 of 10\n",
            "Model Number: 4 with model DatepartRegression in generation 0 of 10\n",
            "Model Number: 5 with model DatepartRegression in generation 0 of 10\n",
            "Model Number: 6 with model DatepartRegression in generation 0 of 10\n"
          ]
        },
        {
          "output_type": "stream",
          "name": "stderr",
          "text": [
            "/usr/local/lib/python3.7/dist-packages/sklearn/svm/_base.py:1208: ConvergenceWarning: Liblinear failed to converge, increase the number of iterations.\n",
            "  ConvergenceWarning,\n",
            "/usr/local/lib/python3.7/dist-packages/sklearn/neural_network/_multilayer_perceptron.py:549: ConvergenceWarning: lbfgs failed to converge (status=1):\n",
            "STOP: TOTAL NO. of ITERATIONS REACHED LIMIT.\n",
            "\n",
            "Increase the number of iterations (max_iter) or scale the data as shown in:\n",
            "    https://scikit-learn.org/stable/modules/preprocessing.html\n",
            "  self.n_iter_ = _check_optimize_result(\"lbfgs\", opt_res, self.max_iter)\n"
          ]
        },
        {
          "output_type": "stream",
          "name": "stdout",
          "text": [
            "Model Number: 7 with model DatepartRegression in generation 0 of 10\n",
            "Epoch 1/50\n",
            "3/3 [==============================] - 7s 9ms/step - loss: 0.3743\n",
            "Epoch 2/50\n",
            "3/3 [==============================] - 0s 9ms/step - loss: 0.3620\n",
            "Epoch 3/50\n",
            "3/3 [==============================] - 0s 9ms/step - loss: 0.3496\n",
            "Epoch 4/50\n",
            "3/3 [==============================] - 0s 9ms/step - loss: 0.3407\n",
            "Epoch 5/50\n",
            "3/3 [==============================] - 0s 11ms/step - loss: 0.3438\n",
            "Epoch 6/50\n",
            "3/3 [==============================] - 0s 8ms/step - loss: 0.3347\n",
            "Epoch 7/50\n",
            "3/3 [==============================] - 0s 8ms/step - loss: 0.3208\n",
            "Epoch 8/50\n",
            "3/3 [==============================] - 0s 9ms/step - loss: 0.3177\n",
            "Epoch 9/50\n",
            "3/3 [==============================] - 0s 13ms/step - loss: 0.3219\n",
            "Epoch 10/50\n",
            "3/3 [==============================] - 0s 9ms/step - loss: 0.3185\n",
            "Epoch 11/50\n",
            "3/3 [==============================] - 0s 10ms/step - loss: 0.3170\n",
            "Epoch 12/50\n",
            "3/3 [==============================] - 0s 10ms/step - loss: 0.3086\n",
            "Epoch 13/50\n",
            "3/3 [==============================] - 0s 10ms/step - loss: 0.3009\n",
            "Epoch 14/50\n",
            "3/3 [==============================] - 0s 9ms/step - loss: 0.3052\n",
            "Epoch 15/50\n",
            "3/3 [==============================] - 0s 8ms/step - loss: 0.3045\n",
            "Epoch 16/50\n",
            "3/3 [==============================] - 0s 8ms/step - loss: 0.2913\n",
            "Epoch 17/50\n",
            "3/3 [==============================] - 0s 9ms/step - loss: 0.2914\n",
            "Epoch 18/50\n",
            "3/3 [==============================] - 0s 9ms/step - loss: 0.2981\n",
            "Epoch 19/50\n",
            "3/3 [==============================] - 0s 9ms/step - loss: 0.2910\n",
            "Epoch 20/50\n",
            "3/3 [==============================] - 0s 9ms/step - loss: 0.2916\n",
            "Epoch 21/50\n",
            "3/3 [==============================] - 0s 11ms/step - loss: 0.2795\n",
            "Epoch 22/50\n",
            "3/3 [==============================] - 0s 9ms/step - loss: 0.2763\n",
            "Epoch 23/50\n",
            "3/3 [==============================] - 0s 9ms/step - loss: 0.2651\n",
            "Epoch 24/50\n",
            "3/3 [==============================] - 0s 8ms/step - loss: 0.2649\n",
            "Epoch 25/50\n",
            "3/3 [==============================] - 0s 9ms/step - loss: 0.2513\n",
            "Epoch 26/50\n",
            "3/3 [==============================] - 0s 14ms/step - loss: 0.2450\n",
            "Epoch 27/50\n",
            "3/3 [==============================] - 0s 8ms/step - loss: 0.2356\n",
            "Epoch 28/50\n",
            "3/3 [==============================] - 0s 9ms/step - loss: 0.2320\n",
            "Epoch 29/50\n",
            "3/3 [==============================] - 0s 10ms/step - loss: 0.2142\n",
            "Epoch 30/50\n",
            "3/3 [==============================] - 0s 9ms/step - loss: 0.1935\n",
            "Epoch 31/50\n",
            "3/3 [==============================] - 0s 9ms/step - loss: 0.1913\n",
            "Epoch 32/50\n",
            "3/3 [==============================] - 0s 9ms/step - loss: 0.1767\n",
            "Epoch 33/50\n",
            "3/3 [==============================] - 0s 9ms/step - loss: 0.1727\n",
            "Epoch 34/50\n",
            "3/3 [==============================] - 0s 8ms/step - loss: 0.1476\n",
            "Epoch 35/50\n",
            "3/3 [==============================] - 0s 16ms/step - loss: 0.1355\n",
            "Epoch 36/50\n",
            "3/3 [==============================] - 0s 9ms/step - loss: 0.1259\n",
            "Epoch 37/50\n",
            "3/3 [==============================] - 0s 9ms/step - loss: 0.1248\n",
            "Epoch 38/50\n",
            "3/3 [==============================] - 0s 9ms/step - loss: 0.1207\n",
            "Epoch 39/50\n",
            "3/3 [==============================] - 0s 9ms/step - loss: 0.1222\n",
            "Epoch 40/50\n",
            "3/3 [==============================] - 0s 9ms/step - loss: 0.1093\n",
            "Epoch 41/50\n",
            "3/3 [==============================] - 0s 10ms/step - loss: 0.1116\n",
            "Epoch 42/50\n",
            "3/3 [==============================] - 0s 10ms/step - loss: 0.1035\n",
            "Epoch 43/50\n",
            "3/3 [==============================] - 0s 9ms/step - loss: 0.1004\n",
            "Epoch 44/50\n",
            "3/3 [==============================] - 0s 9ms/step - loss: 0.1052\n",
            "Epoch 45/50\n",
            "3/3 [==============================] - 0s 10ms/step - loss: 0.1002\n",
            "Epoch 46/50\n",
            "3/3 [==============================] - 0s 9ms/step - loss: 0.1005\n",
            "Epoch 47/50\n",
            "3/3 [==============================] - 0s 11ms/step - loss: 0.1064\n",
            "Epoch 48/50\n",
            "3/3 [==============================] - 0s 12ms/step - loss: 0.1005\n",
            "Epoch 49/50\n",
            "3/3 [==============================] - 0s 9ms/step - loss: 0.1029\n",
            "Epoch 50/50\n",
            "3/3 [==============================] - 0s 10ms/step - loss: 0.0954\n",
            "Model Number: 8 with model ETS in generation 0 of 10\n",
            "Model Number: 9 with model ETS in generation 0 of 10\n",
            "Model Number: 10 with model GLM in generation 0 of 10\n",
            "Model Number: 11 with model GLM in generation 0 of 10\n",
            "Model Number: 12 with model GLS in generation 0 of 10\n",
            "Model Number: 13 with model GLS in generation 0 of 10\n",
            "Model Number: 14 with model GluonTS in generation 0 of 10\n",
            "Template Eval Error: ImportError('GluonTS installation not found or installed version is incompatible with AutoTS.') in model 14: GluonTS\n",
            "Model Number: 15 with model GluonTS in generation 0 of 10\n",
            "Template Eval Error: ImportError('GluonTS installation not found or installed version is incompatible with AutoTS.') in model 15: GluonTS\n",
            "Model Number: 16 with model GluonTS in generation 0 of 10\n",
            "Template Eval Error: ImportError('GluonTS installation not found or installed version is incompatible with AutoTS.') in model 16: GluonTS\n",
            "Model Number: 17 with model GluonTS in generation 0 of 10\n",
            "Template Eval Error: ImportError('GluonTS installation not found or installed version is incompatible with AutoTS.') in model 17: GluonTS\n",
            "Model Number: 18 with model GluonTS in generation 0 of 10\n",
            "Template Eval Error: ImportError('GluonTS installation not found or installed version is incompatible with AutoTS.') in model 18: GluonTS\n",
            "Model Number: 19 with model GluonTS in generation 0 of 10\n",
            "Template Eval Error: ImportError('GluonTS installation not found or installed version is incompatible with AutoTS.') in model 19: GluonTS\n",
            "Model Number: 20 with model LastValueNaive in generation 0 of 10\n",
            "Model Number: 21 with model LastValueNaive in generation 0 of 10\n",
            "Model Number: 22 with model LastValueNaive in generation 0 of 10\n",
            "Model Number: 23 with model LastValueNaive in generation 0 of 10\n",
            "Model Number: 24 with model SeasonalNaive in generation 0 of 10\n",
            "Model Number: 25 with model SeasonalNaive in generation 0 of 10\n",
            "Model Number: 26 with model SeasonalNaive in generation 0 of 10\n",
            "Model Number: 27 with model SeasonalNaive in generation 0 of 10\n",
            "Model Number: 28 with model UnobservedComponents in generation 0 of 10\n",
            "Template Eval Error: TypeError('issubclass() arg 2 must be a class or tuple of classes') in model 28: UnobservedComponents\n",
            "Model Number: 29 with model UnobservedComponents in generation 0 of 10\n",
            "Template Eval Error: TypeError('issubclass() arg 2 must be a class or tuple of classes') in model 29: UnobservedComponents\n",
            "Model Number: 30 with model UnobservedComponents in generation 0 of 10\n",
            "Template Eval Error: TypeError('issubclass() arg 2 must be a class or tuple of classes') in model 30: UnobservedComponents\n",
            "Model Number: 31 with model VAR in generation 0 of 10\n",
            "Template Eval Error: ValueError('Only gave one variable to VAR') in model 31: VAR\n",
            "Model Number: 32 with model VAR in generation 0 of 10\n",
            "Template Eval Error: ValueError('Only gave one variable to VAR') in model 32: VAR\n",
            "Model Number: 33 with model VAR in generation 0 of 10\n",
            "Template Eval Error: ValueError('Only gave one variable to VAR') in model 33: VAR\n",
            "Model Number: 34 with model VECM in generation 0 of 10\n",
            "Template Eval Error: ValueError('Only gave one variable to VECM') in model 34: VECM\n",
            "Model Number: 35 with model VECM in generation 0 of 10\n",
            "Template Eval Error: ValueError('Only gave one variable to VECM') in model 35: VECM\n",
            "Model Number: 36 with model VECM in generation 0 of 10\n",
            "Template Eval Error: ValueError('Only gave one variable to VECM') in model 36: VECM\n",
            "Model Number: 37 with model VECM in generation 0 of 10\n",
            "Template Eval Error: ValueError('Only gave one variable to VECM') in model 37: VECM\n",
            "Model Number: 38 with model WindowRegression in generation 0 of 10\n",
            "Model Number: 39 with model ZeroesNaive in generation 0 of 10\n",
            "Model Number: 40 with model ZeroesNaive in generation 0 of 10\n"
          ]
        },
        {
          "output_type": "stream",
          "name": "stderr",
          "text": [
            "/usr/local/lib/python3.7/dist-packages/sklearn/neural_network/_multilayer_perceptron.py:549: ConvergenceWarning: lbfgs failed to converge (status=1):\n",
            "STOP: TOTAL NO. of ITERATIONS REACHED LIMIT.\n",
            "\n",
            "Increase the number of iterations (max_iter) or scale the data as shown in:\n",
            "    https://scikit-learn.org/stable/modules/preprocessing.html\n",
            "  self.n_iter_ = _check_optimize_result(\"lbfgs\", opt_res, self.max_iter)\n"
          ]
        },
        {
          "output_type": "stream",
          "name": "stdout",
          "text": [
            "Model Number: 41 with model LastValueNaive in generation 0 of 10\n",
            "Model Number: 42 with model AverageValueNaive in generation 0 of 10\n",
            "Model Number: 43 with model GLS in generation 0 of 10\n",
            "Model Number: 44 with model SeasonalNaive in generation 0 of 10\n",
            "Model Number: 45 with model GLM in generation 0 of 10\n",
            "Model Number: 46 with model ETS in generation 0 of 10\n",
            "Model Number: 47 with model FBProphet in generation 0 of 10\n"
          ]
        },
        {
          "output_type": "stream",
          "name": "stderr",
          "text": [
            "INFO:fbprophet:Disabling yearly seasonality. Run prophet with yearly_seasonality=True to override this.\n",
            "INFO:fbprophet:Disabling daily seasonality. Run prophet with daily_seasonality=True to override this.\n"
          ]
        },
        {
          "output_type": "stream",
          "name": "stdout",
          "text": [
            "Model Number: 48 with model GluonTS in generation 0 of 10\n",
            "Template Eval Error: ImportError('GluonTS installation not found or installed version is incompatible with AutoTS.') in model 48: GluonTS\n",
            "Model Number: 49 with model UnobservedComponents in generation 0 of 10\n",
            "Template Eval Error: ValueError(\"regression_type='User' but no future_regressor supplied\") in model 49: UnobservedComponents\n",
            "Model Number: 50 with model VAR in generation 0 of 10\n",
            "Template Eval Error: ValueError('Only gave one variable to VAR') in model 50: VAR\n",
            "Model Number: 51 with model VECM in generation 0 of 10\n",
            "Template Eval Error: ValueError('Only gave one variable to VECM') in model 51: VECM\n",
            "Model Number: 52 with model WindowRegression in generation 0 of 10\n",
            "Template Eval Error: ValueError(\"regression_type='User' but no future_regressor passed\") in model 52: WindowRegression\n",
            "Model Number: 53 with model DatepartRegression in generation 0 of 10\n"
          ]
        },
        {
          "output_type": "stream",
          "name": "stderr",
          "text": [
            "/usr/local/lib/python3.7/dist-packages/sklearn/linear_model/_coordinate_descent.py:648: ConvergenceWarning:\n",
            "\n",
            "Objective did not converge. You might want to increase the number of iterations, check the scale of the features or consider increasing regularisation. Duality gap: 9.619e-03, tolerance: 6.953e-04\n",
            "\n"
          ]
        },
        {
          "output_type": "stream",
          "name": "stdout",
          "text": [
            "Model Number: 54 with model UnivariateRegression in generation 0 of 10\n",
            "Template Eval Error: TypeError(\"unsupported operand type(s) for -: 'NoneType' and 'int'\") in model 54: UnivariateRegression\n",
            "Model Number: 55 with model UnivariateMotif in generation 0 of 10\n",
            "Template Eval Error: AttributeError(\"module 'numpy.lib.stride_tricks' has no attribute 'sliding_window_view'\") in model 55: UnivariateMotif\n",
            "Model Number: 56 with model MultivariateMotif in generation 0 of 10\n",
            "Template Eval Error: AttributeError(\"module 'numpy.lib.stride_tricks' has no attribute 'sliding_window_view'\") in model 56: MultivariateMotif\n",
            "Model Number: 57 with model SectionalMotif in generation 0 of 10\n",
            "Model Number: 58 with model NVAR in generation 0 of 10\n",
            "Model Number: 59 with model Theta in generation 0 of 10\n",
            "Template Eval Error: ModuleNotFoundError(\"No module named 'statsmodels.tsa.forecasting'\") in model 59: Theta\n",
            "Model Number: 60 with model ARDL in generation 0 of 10\n",
            "Template Eval Error: ImportError(\"cannot import name 'ARDL' from 'statsmodels.tsa.api' (/usr/local/lib/python3.7/dist-packages/statsmodels/tsa/api.py)\") in model 60: ARDL\n",
            "Model Number: 61 with model NVAR in generation 0 of 10\n",
            "Model Number: 62 with model ARDL in generation 0 of 10\n",
            "Template Eval Error: ImportError(\"cannot import name 'STL' from 'statsmodels.tsa.seasonal' (/usr/local/lib/python3.7/dist-packages/statsmodels/tsa/seasonal.py)\") in model 62: ARDL\n",
            "Model Number: 63 with model UnivariateRegression in generation 0 of 10\n",
            "Template Eval Error: ValueError(\"regression_type='User' but not future_regressor supplied.\") in model 63: UnivariateRegression\n",
            "Model Number: 64 with model SeasonalNaive in generation 0 of 10\n",
            "Model Number: 65 with model VECM in generation 0 of 10\n",
            "Template Eval Error: ValueError('Only gave one variable to VECM') in model 65: VECM\n",
            "Model Number: 66 with model Theta in generation 0 of 10\n",
            "Template Eval Error: ModuleNotFoundError(\"No module named 'statsmodels.tsa.forecasting'\") in model 66: Theta\n",
            "Model Number: 67 with model Theta in generation 0 of 10\n",
            "Template Eval Error: ModuleNotFoundError(\"No module named 'statsmodels.tsa.forecasting'\") in model 67: Theta\n",
            "Model Number: 68 with model LastValueNaive in generation 0 of 10\n",
            "Model Number: 69 with model VAR in generation 0 of 10\n",
            "Template Eval Error: ValueError('Only gave one variable to VAR') in model 69: VAR\n",
            "Model Number: 70 with model SectionalMotif in generation 0 of 10\n",
            "Model Number: 71 with model ETS in generation 0 of 10\n",
            "Model Number: 72 with model VECM in generation 0 of 10\n",
            "Template Eval Error: ImportError(\"cannot import name 'STL' from 'statsmodels.tsa.seasonal' (/usr/local/lib/python3.7/dist-packages/statsmodels/tsa/seasonal.py)\") in model 72: VECM\n",
            "Model Number: 73 with model GLM in generation 0 of 10\n",
            "Template Eval Error: ImportError(\"cannot import name 'STL' from 'statsmodels.tsa.seasonal' (/usr/local/lib/python3.7/dist-packages/statsmodels/tsa/seasonal.py)\") in model 73: GLM\n",
            "Model Number: 74 with model VAR in generation 0 of 10\n",
            "Template Eval Error: ImportError(\"cannot import name 'STL' from 'statsmodels.tsa.seasonal' (/usr/local/lib/python3.7/dist-packages/statsmodels/tsa/seasonal.py)\") in model 74: VAR\n",
            "Model Number: 75 with model NVAR in generation 0 of 10\n",
            "Model Number: 76 with model Theta in generation 0 of 10\n",
            "Template Eval Error: ModuleNotFoundError(\"No module named 'statsmodels.tsa.forecasting'\") in model 76: Theta\n",
            "Model Number: 77 with model DatepartRegression in generation 0 of 10\n",
            "Template Eval Error: ValueError(\"regression_type='User' but no future_regressor passed\") in model 77: DatepartRegression\n",
            "Model Number: 78 with model Theta in generation 0 of 10\n",
            "Template Eval Error: ModuleNotFoundError(\"No module named 'statsmodels.tsa.forecasting'\") in model 78: Theta\n",
            "Model Number: 79 with model SectionalMotif in generation 0 of 10\n",
            "Model Number: 80 with model NVAR in generation 0 of 10\n",
            "Model Number: 81 with model UnivariateRegression in generation 0 of 10\n",
            "Template Eval Error: TypeError(\"unsupported operand type(s) for -: 'NoneType' and 'int'\") in model 81: UnivariateRegression\n",
            "Model Number: 82 with model ARDL in generation 0 of 10\n",
            "Template Eval Error: ImportError(\"cannot import name 'ARDL' from 'statsmodels.tsa.api' (/usr/local/lib/python3.7/dist-packages/statsmodels/tsa/api.py)\") in model 82: ARDL\n",
            "Model Number: 83 with model NVAR in generation 0 of 10\n",
            "Model Number: 84 with model DatepartRegression in generation 0 of 10\n",
            "Model Number: 85 with model UnivariateMotif in generation 0 of 10\n",
            "Template Eval Error: AttributeError(\"module 'numpy.lib.stride_tricks' has no attribute 'sliding_window_view'\") in model 85: UnivariateMotif\n",
            "Model Number: 86 with model NVAR in generation 0 of 10\n",
            "Model Number: 87 with model NVAR in generation 0 of 10\n",
            "Model Number: 88 with model SeasonalNaive in generation 0 of 10\n",
            "Model Number: 89 with model GLS in generation 0 of 10\n",
            "Model Number: 90 with model SectionalMotif in generation 0 of 10\n",
            "Model Number: 91 with model Theta in generation 0 of 10\n",
            "Template Eval Error: ModuleNotFoundError(\"No module named 'statsmodels.tsa.forecasting'\") in model 91: Theta\n",
            "Model Number: 92 with model AverageValueNaive in generation 0 of 10\n",
            "Model Number: 93 with model GLM in generation 0 of 10\n",
            "Model Number: 94 with model GluonTS in generation 0 of 10\n",
            "Template Eval Error: ImportError('GluonTS installation not found or installed version is incompatible with AutoTS.') in model 94: GluonTS\n",
            "Model Number: 95 with model AverageValueNaive in generation 0 of 10\n",
            "Model Number: 96 with model GLS in generation 0 of 10\n"
          ]
        },
        {
          "output_type": "stream",
          "name": "stderr",
          "text": [
            "/usr/local/lib/python3.7/dist-packages/statsmodels/genmod/generalized_linear_model.py:273: DomainWarning:\n",
            "\n",
            "The inverse_power link function does not respect the domain of the Gamma family.\n",
            "\n"
          ]
        },
        {
          "output_type": "stream",
          "name": "stdout",
          "text": [
            "Model Number: 97 with model ETS in generation 0 of 10\n",
            "Model Number: 98 with model Theta in generation 0 of 10\n",
            "Template Eval Error: ImportError(\"cannot import name 'STL' from 'statsmodels.tsa.seasonal' (/usr/local/lib/python3.7/dist-packages/statsmodels/tsa/seasonal.py)\") in model 98: Theta\n",
            "Model Number: 99 with model Theta in generation 0 of 10\n",
            "Template Eval Error: ModuleNotFoundError(\"No module named 'statsmodels.tsa.forecasting'\") in model 99: Theta\n",
            "Model Number: 100 with model UnivariateMotif in generation 0 of 10\n",
            "Template Eval Error: AttributeError(\"module 'numpy.lib.stride_tricks' has no attribute 'sliding_window_view'\") in model 100: UnivariateMotif\n",
            "Model Number: 101 with model DatepartRegression in generation 0 of 10\n",
            "Model Number: 102 with model AverageValueNaive in generation 0 of 10\n"
          ]
        },
        {
          "output_type": "stream",
          "name": "stderr",
          "text": [
            "/usr/local/lib/python3.7/dist-packages/sklearn/svm/_base.py:1208: ConvergenceWarning:\n",
            "\n",
            "Liblinear failed to converge, increase the number of iterations.\n",
            "\n"
          ]
        },
        {
          "output_type": "stream",
          "name": "stdout",
          "text": [
            "Model Number: 103 with model MultivariateMotif in generation 0 of 10\n",
            "Template Eval Error: AttributeError(\"module 'numpy.lib.stride_tricks' has no attribute 'sliding_window_view'\") in model 103: MultivariateMotif\n",
            "Model Number: 104 with model GLM in generation 0 of 10\n",
            "Model Number: 105 with model UnobservedComponents in generation 0 of 10\n",
            "Template Eval Error: ValueError(\"regression_type='User' but no future_regressor supplied\") in model 105: UnobservedComponents\n",
            "Model Number: 106 with model UnivariateMotif in generation 0 of 10\n"
          ]
        },
        {
          "output_type": "stream",
          "name": "stderr",
          "text": [
            "INFO:fbprophet:Disabling yearly seasonality. Run prophet with yearly_seasonality=True to override this.\n",
            "INFO:fbprophet:Disabling daily seasonality. Run prophet with daily_seasonality=True to override this.\n"
          ]
        },
        {
          "output_type": "stream",
          "name": "stdout",
          "text": [
            "Template Eval Error: AttributeError(\"module 'numpy.lib.stride_tricks' has no attribute 'sliding_window_view'\") in model 106: UnivariateMotif\n",
            "Model Number: 107 with model FBProphet in generation 0 of 10\n",
            "Model Number: 108 with model VAR in generation 0 of 10\n",
            "Template Eval Error: ValueError('Only gave one variable to VAR') in model 108: VAR\n",
            "Model Number: 109 with model ETS in generation 0 of 10\n",
            "Model Number: 110 with model ETS in generation 0 of 10\n"
          ]
        },
        {
          "output_type": "stream",
          "name": "stderr",
          "text": [
            "/usr/local/lib/python3.7/dist-packages/sklearn/linear_model/_coordinate_descent.py:648: ConvergenceWarning:\n",
            "\n",
            "Objective did not converge. You might want to increase the number of iterations, check the scale of the features or consider increasing regularisation. Duality gap: 1.446e+04, tolerance: 2.686e+01\n",
            "\n"
          ]
        },
        {
          "output_type": "stream",
          "name": "stdout",
          "text": [
            "Model Number: 111 with model AverageValueNaive in generation 0 of 10\n",
            "Model Number: 112 with model NVAR in generation 0 of 10\n",
            "Model Number: 113 with model Theta in generation 0 of 10\n",
            "Template Eval Error: ModuleNotFoundError(\"No module named 'statsmodels.tsa.forecasting'\") in model 113: Theta\n",
            "Model Number: 114 with model AverageValueNaive in generation 0 of 10\n",
            "Model Number: 115 with model WindowRegression in generation 0 of 10\n"
          ]
        },
        {
          "output_type": "stream",
          "name": "stderr",
          "text": [
            "/usr/local/lib/python3.7/dist-packages/sklearn/svm/_base.py:1208: ConvergenceWarning:\n",
            "\n",
            "Liblinear failed to converge, increase the number of iterations.\n",
            "\n",
            "/usr/local/lib/python3.7/dist-packages/sklearn/svm/_base.py:1208: ConvergenceWarning:\n",
            "\n",
            "Liblinear failed to converge, increase the number of iterations.\n",
            "\n"
          ]
        },
        {
          "output_type": "stream",
          "name": "stdout",
          "text": [
            "Model Number: 116 with model MultivariateMotif in generation 0 of 10\n",
            "Template Eval Error: AttributeError(\"module 'numpy.lib.stride_tricks' has no attribute 'sliding_window_view'\") in model 116: MultivariateMotif\n",
            "Model Number: 117 with model VECM in generation 0 of 10\n",
            "Template Eval Error: ValueError('Only gave one variable to VECM') in model 117: VECM\n",
            "Model Number: 118 with model SeasonalNaive in generation 0 of 10\n",
            "Model Number: 119 with model VECM in generation 0 of 10\n",
            "Template Eval Error: ImportError(\"cannot import name 'STL' from 'statsmodels.tsa.seasonal' (/usr/local/lib/python3.7/dist-packages/statsmodels/tsa/seasonal.py)\") in model 119: VECM\n",
            "Model Number: 120 with model SectionalMotif in generation 0 of 10\n",
            "Template Eval Error: ValueError('kth(=100) out of bounds (66)') in model 120: SectionalMotif\n",
            "Model Number: 121 with model UnivariateRegression in generation 0 of 10\n",
            "Template Eval Error: ValueError(\"regression_type='User' but not future_regressor supplied.\") in model 121: UnivariateRegression\n",
            "Model Number: 122 with model ARDL in generation 0 of 10\n",
            "Template Eval Error: ValueError(\"regression_type='User' but future_regressor not supplied\") in model 122: ARDL\n",
            "Model Number: 123 with model WindowRegression in generation 0 of 10\n",
            "Template Eval Error: ValueError(\"regression_type='User' but no future_regressor passed\") in model 123: WindowRegression\n",
            "Model Number: 124 with model VECM in generation 0 of 10\n",
            "Template Eval Error: ValueError('Only gave one variable to VECM') in model 124: VECM\n",
            "Model Number: 125 with model AverageValueNaive in generation 0 of 10\n",
            "Model Number: 126 with model LastValueNaive in generation 0 of 10\n",
            "Model Number: 127 with model GLM in generation 0 of 10\n",
            "Template Eval Error: ValueError('regression_type=user and no future_regressor passed') in model 127: GLM\n",
            "Model Number: 128 with model MultivariateMotif in generation 0 of 10\n",
            "Template Eval Error: AttributeError(\"module 'numpy.lib.stride_tricks' has no attribute 'sliding_window_view'\") in model 128: MultivariateMotif\n",
            "Model Number: 129 with model GluonTS in generation 0 of 10\n",
            "Template Eval Error: ImportError('GluonTS installation not found or installed version is incompatible with AutoTS.') in model 129: GluonTS\n",
            "Model Number: 130 with model UnivariateMotif in generation 0 of 10\n",
            "Template Eval Error: AttributeError(\"module 'numpy.lib.stride_tricks' has no attribute 'sliding_window_view'\") in model 130: UnivariateMotif\n",
            "Model Number: 131 with model MultivariateMotif in generation 0 of 10\n",
            "Template Eval Error: AttributeError(\"module 'numpy.lib.stride_tricks' has no attribute 'sliding_window_view'\") in model 131: MultivariateMotif\n",
            "Model Number: 132 with model WindowRegression in generation 0 of 10\n",
            "Model Number: 133 with model ARDL in generation 0 of 10\n",
            "Template Eval Error: ImportError(\"cannot import name 'ARDL' from 'statsmodels.tsa.api' (/usr/local/lib/python3.7/dist-packages/statsmodels/tsa/api.py)\") in model 133: ARDL\n",
            "Model Number: 134 with model AverageValueNaive in generation 0 of 10\n"
          ]
        },
        {
          "output_type": "stream",
          "name": "stderr",
          "text": [
            "/usr/local/lib/python3.7/dist-packages/sklearn/utils/validation.py:985: DataConversionWarning:\n",
            "\n",
            "A column-vector y was passed when a 1d array was expected. Please change the shape of y to (n_samples, ), for example using ravel().\n",
            "\n"
          ]
        },
        {
          "output_type": "stream",
          "name": "stdout",
          "text": [
            "Model Number: 135 with model UnivariateMotif in generation 0 of 10\n",
            "Template Eval Error: AttributeError(\"module 'numpy.lib.stride_tricks' has no attribute 'sliding_window_view'\") in model 135: UnivariateMotif\n",
            "Model Number: 136 with model MultivariateMotif in generation 0 of 10\n",
            "Template Eval Error: AttributeError(\"module 'numpy.lib.stride_tricks' has no attribute 'sliding_window_view'\") in model 136: MultivariateMotif\n",
            "Model Number: 137 with model UnivariateRegression in generation 0 of 10\n",
            "Template Eval Error: TypeError(\"unsupported operand type(s) for -: 'NoneType' and 'int'\") in model 137: UnivariateRegression\n",
            "Model Number: 138 with model VECM in generation 0 of 10\n",
            "Template Eval Error: ValueError(\"regression_type='User' but no future_regressor supplied\") in model 138: VECM\n",
            "Model Number: 139 with model SeasonalNaive in generation 0 of 10\n",
            "Model Number: 140 with model SectionalMotif in generation 0 of 10\n",
            "Model Number: 141 with model GLM in generation 0 of 10\n",
            "Template Eval Error: ValueError('The first guess on the deviance function returned a nan.  This could be a boundary  problem and should be reported.') in model 141: GLM\n",
            "Model Number: 142 with model UnivariateMotif in generation 0 of 10\n",
            "Template Eval Error: AttributeError(\"module 'numpy.lib.stride_tricks' has no attribute 'sliding_window_view'\") in model 142: UnivariateMotif\n",
            "Model Number: 143 with model ETS in generation 0 of 10\n",
            "Model Number: 144 with model GLS in generation 0 of 10\n"
          ]
        },
        {
          "output_type": "stream",
          "name": "stderr",
          "text": [
            "/usr/local/lib/python3.7/dist-packages/statsmodels/genmod/families/family.py:1227: RuntimeWarning:\n",
            "\n",
            "invalid value encountered in log\n",
            "\n"
          ]
        },
        {
          "output_type": "stream",
          "name": "stdout",
          "text": [
            "New Generation: 1 of 10\n",
            "Model Number: 145 with model LastValueNaive in generation 1 of 10\n",
            "Model Number: 146 with model LastValueNaive in generation 1 of 10\n",
            "Model Number: 147 with model LastValueNaive in generation 1 of 10\n",
            "Model Number: 148 with model SeasonalNaive in generation 1 of 10\n",
            "Model Number: 149 with model SeasonalNaive in generation 1 of 10\n",
            "Model Number: 150 with model SeasonalNaive in generation 1 of 10\n",
            "Model Number: 151 with model SeasonalNaive in generation 1 of 10\n",
            "Model Number: 152 with model NVAR in generation 1 of 10\n",
            "Model Number: 153 with model NVAR in generation 1 of 10\n",
            "Model Number: 154 with model NVAR in generation 1 of 10\n",
            "Model Number: 155 with model NVAR in generation 1 of 10\n",
            "Model Number: 156 with model ETS in generation 1 of 10\n",
            "Model Number: 157 with model ETS in generation 1 of 10\n"
          ]
        },
        {
          "output_type": "stream",
          "name": "stderr",
          "text": [
            "/usr/local/lib/python3.7/dist-packages/sklearn/linear_model/_coordinate_descent.py:648: ConvergenceWarning:\n",
            "\n",
            "Objective did not converge. You might want to increase the number of iterations, check the scale of the features or consider increasing regularisation. Duality gap: 1.685e+04, tolerance: 2.700e+01\n",
            "\n",
            "/usr/local/lib/python3.7/dist-packages/sklearn/linear_model/_coordinate_descent.py:648: ConvergenceWarning:\n",
            "\n",
            "Objective did not converge. You might want to increase the number of iterations, check the scale of the features or consider increasing regularisation. Duality gap: 1.446e+04, tolerance: 2.686e+01\n",
            "\n"
          ]
        },
        {
          "output_type": "stream",
          "name": "stdout",
          "text": [
            "Model Number: 158 with model ETS in generation 1 of 10\n",
            "Template Eval Error: ImportError(\"cannot import name 'STL' from 'statsmodels.tsa.seasonal' (/usr/local/lib/python3.7/dist-packages/statsmodels/tsa/seasonal.py)\") in model 158: ETS\n",
            "Model Number: 159 with model ETS in generation 1 of 10\n",
            "Model Number: 160 with model SectionalMotif in generation 1 of 10\n",
            "Model Number: 161 with model SectionalMotif in generation 1 of 10\n",
            "Model Number: 162 with model SectionalMotif in generation 1 of 10\n",
            "Template Eval Error: ValueError('kth(=100) out of bounds (36)') in model 162: SectionalMotif\n",
            "Model Number: 163 with model SectionalMotif in generation 1 of 10\n",
            "Model Number: 164 with model AverageValueNaive in generation 1 of 10\n",
            "Model Number: 165 with model AverageValueNaive in generation 1 of 10\n",
            "Template Eval Error: ImportError(\"cannot import name 'STL' from 'statsmodels.tsa.seasonal' (/usr/local/lib/python3.7/dist-packages/statsmodels/tsa/seasonal.py)\") in model 165: AverageValueNaive\n",
            "Model Number: 166 with model AverageValueNaive in generation 1 of 10\n",
            "Template Eval Error: ImportError(\"cannot import name 'STL' from 'statsmodels.tsa.seasonal' (/usr/local/lib/python3.7/dist-packages/statsmodels/tsa/seasonal.py)\") in model 166: AverageValueNaive\n",
            "Model Number: 167 with model GLS in generation 1 of 10\n",
            "Model Number: 168 with model GLS in generation 1 of 10\n",
            "Model Number: 169 with model GLS in generation 1 of 10\n",
            "Model Number: 170 with model DatepartRegression in generation 1 of 10\n",
            "Epoch 1/50\n",
            "3/3 [==============================] - 5s 362ms/step - loss: 88009.7500 - val_loss: 15584.8008\n",
            "Epoch 2/50\n",
            "3/3 [==============================] - 0s 51ms/step - loss: 68536.8984 - val_loss: 14788.4883\n",
            "Epoch 3/50\n",
            "3/3 [==============================] - 0s 54ms/step - loss: 78669.7031 - val_loss: 14045.7002\n",
            "Epoch 4/50\n",
            "3/3 [==============================] - 0s 50ms/step - loss: 66163.8359 - val_loss: 13510.3965\n",
            "Epoch 5/50\n",
            "3/3 [==============================] - 0s 54ms/step - loss: 78419.6562 - val_loss: 12864.3428\n",
            "Epoch 6/50\n",
            "3/3 [==============================] - 0s 52ms/step - loss: 63551.7148 - val_loss: 12342.2012\n",
            "Epoch 7/50\n",
            "3/3 [==============================] - 0s 54ms/step - loss: 64052.4023 - val_loss: 12022.6768\n",
            "Epoch 8/50\n",
            "3/3 [==============================] - 0s 51ms/step - loss: 65326.6250 - val_loss: 11606.0859\n",
            "Epoch 9/50\n",
            "3/3 [==============================] - 0s 52ms/step - loss: 54708.7383 - val_loss: 11449.9414\n",
            "Epoch 10/50\n",
            "3/3 [==============================] - 0s 53ms/step - loss: 58154.4336 - val_loss: 11131.4854\n",
            "Epoch 11/50\n",
            "3/3 [==============================] - 0s 53ms/step - loss: 48874.6250 - val_loss: 10763.0234\n",
            "Epoch 12/50\n",
            "3/3 [==============================] - 0s 59ms/step - loss: 58537.9844 - val_loss: 10518.4170\n",
            "Epoch 13/50\n",
            "3/3 [==============================] - 0s 52ms/step - loss: 44633.8750 - val_loss: 10301.7354\n",
            "Epoch 14/50\n",
            "3/3 [==============================] - 0s 51ms/step - loss: 70562.2188 - val_loss: 9993.8262\n",
            "Epoch 15/50\n",
            "3/3 [==============================] - 0s 57ms/step - loss: 55907.2656 - val_loss: 9655.4443\n",
            "Epoch 16/50\n",
            "3/3 [==============================] - 0s 51ms/step - loss: 44989.8281 - val_loss: 9385.4082\n",
            "Epoch 17/50\n",
            "3/3 [==============================] - 0s 54ms/step - loss: 43526.9570 - val_loss: 9199.1699\n",
            "Epoch 18/50\n",
            "3/3 [==============================] - 0s 64ms/step - loss: 39692.8984 - val_loss: 8901.1982\n",
            "Epoch 19/50\n",
            "3/3 [==============================] - 0s 52ms/step - loss: 42044.0977 - val_loss: 8690.0332\n",
            "Epoch 20/50\n",
            "3/3 [==============================] - 0s 71ms/step - loss: 44183.1797 - val_loss: 8504.6357\n",
            "Epoch 21/50\n",
            "3/3 [==============================] - 0s 51ms/step - loss: 50308.1406 - val_loss: 8384.2793\n",
            "Epoch 22/50\n",
            "3/3 [==============================] - 0s 57ms/step - loss: 58068.5977 - val_loss: 8108.6406\n",
            "Epoch 23/50\n",
            "3/3 [==============================] - 0s 53ms/step - loss: 54750.0586 - val_loss: 7881.9521\n",
            "Epoch 24/50\n",
            "3/3 [==============================] - 0s 62ms/step - loss: 47518.2266 - val_loss: 7778.5332\n",
            "Epoch 25/50\n",
            "3/3 [==============================] - 0s 59ms/step - loss: 25403.5684 - val_loss: 7674.4888\n",
            "Epoch 26/50\n",
            "3/3 [==============================] - 0s 53ms/step - loss: 47745.9062 - val_loss: 7453.4932\n",
            "Epoch 27/50\n",
            "3/3 [==============================] - 0s 56ms/step - loss: 35532.5195 - val_loss: 7368.5869\n",
            "Epoch 28/50\n",
            "3/3 [==============================] - 0s 54ms/step - loss: 54781.2773 - val_loss: 7151.0576\n",
            "Epoch 29/50\n",
            "3/3 [==============================] - 0s 51ms/step - loss: 41642.6172 - val_loss: 7185.1753\n",
            "Epoch 30/50\n",
            "3/3 [==============================] - 0s 59ms/step - loss: 45875.2383 - val_loss: 7106.6040\n",
            "Epoch 31/50\n",
            "3/3 [==============================] - 0s 52ms/step - loss: 37382.0898 - val_loss: 7095.4697\n",
            "Epoch 32/50\n",
            "3/3 [==============================] - 0s 53ms/step - loss: 35742.0508 - val_loss: 7072.6973\n",
            "Epoch 33/50\n",
            "3/3 [==============================] - 0s 54ms/step - loss: 38760.7031 - val_loss: 6891.4863\n",
            "Epoch 34/50\n",
            "3/3 [==============================] - 0s 53ms/step - loss: 47340.7422 - val_loss: 6779.6992\n",
            "Epoch 35/50\n",
            "3/3 [==============================] - 0s 57ms/step - loss: 56050.4180 - val_loss: 6648.6792\n",
            "Epoch 36/50\n",
            "3/3 [==============================] - 0s 60ms/step - loss: 56173.0117 - val_loss: 6558.5645\n",
            "Epoch 37/50\n",
            "3/3 [==============================] - 0s 54ms/step - loss: 38518.7930 - val_loss: 6519.3823\n",
            "Epoch 38/50\n",
            "3/3 [==============================] - 0s 55ms/step - loss: 42746.3945 - val_loss: 6416.7363\n",
            "Epoch 39/50\n",
            "3/3 [==============================] - 0s 55ms/step - loss: 49718.7773 - val_loss: 6277.9819\n",
            "Epoch 40/50\n",
            "3/3 [==============================] - 0s 58ms/step - loss: 56823.2852 - val_loss: 6154.8755\n",
            "Epoch 41/50\n",
            "3/3 [==============================] - 0s 57ms/step - loss: 44497.4688 - val_loss: 6035.5059\n",
            "Epoch 42/50\n",
            "3/3 [==============================] - 0s 61ms/step - loss: 40251.5469 - val_loss: 5928.8433\n",
            "Epoch 43/50\n",
            "3/3 [==============================] - 0s 70ms/step - loss: 49248.9961 - val_loss: 5746.3682\n",
            "Epoch 44/50\n",
            "3/3 [==============================] - 0s 58ms/step - loss: 44005.7539 - val_loss: 5661.0996\n",
            "Epoch 45/50\n",
            "3/3 [==============================] - 0s 66ms/step - loss: 49711.6523 - val_loss: 5537.0771\n",
            "Epoch 46/50\n",
            "3/3 [==============================] - 0s 64ms/step - loss: 46200.6523 - val_loss: 5510.9722\n",
            "Epoch 47/50\n",
            "3/3 [==============================] - 0s 56ms/step - loss: 42163.8789 - val_loss: 5408.8013\n",
            "Epoch 48/50\n",
            "3/3 [==============================] - 0s 56ms/step - loss: 39207.9297 - val_loss: 5326.4463\n",
            "Epoch 49/50\n",
            "3/3 [==============================] - 0s 59ms/step - loss: 37402.7461 - val_loss: 5244.5190\n",
            "Epoch 50/50\n",
            "3/3 [==============================] - 0s 64ms/step - loss: 31705.3965 - val_loss: 5176.3301\n",
            "Model Number: 171 with model DatepartRegression in generation 1 of 10\n",
            "Model Number: 172 with model DatepartRegression in generation 1 of 10\n",
            "Template Eval Error: ValueError(\"regression_type='User' but no future_regressor passed\") in model 172: DatepartRegression\n",
            "Model Number: 173 with model WindowRegression in generation 1 of 10\n"
          ]
        },
        {
          "output_type": "stream",
          "name": "stderr",
          "text": [
            "/usr/local/lib/python3.7/dist-packages/sklearn/svm/_base.py:1208: ConvergenceWarning:\n",
            "\n",
            "Liblinear failed to converge, increase the number of iterations.\n",
            "\n"
          ]
        },
        {
          "output_type": "stream",
          "name": "stdout",
          "text": [
            "Model Number: 174 with model WindowRegression in generation 1 of 10\n",
            "Model Number: 175 with model WindowRegression in generation 1 of 10\n"
          ]
        },
        {
          "output_type": "stream",
          "name": "stderr",
          "text": [
            "/usr/local/lib/python3.7/dist-packages/sklearn/utils/validation.py:985: DataConversionWarning:\n",
            "\n",
            "A column-vector y was passed when a 1d array was expected. Please change the shape of y to (n_samples, ), for example using ravel().\n",
            "\n",
            "/usr/local/lib/python3.7/dist-packages/statsmodels/genmod/families/family.py:1223: RuntimeWarning:\n",
            "\n",
            "divide by zero encountered in true_divide\n",
            "\n"
          ]
        },
        {
          "output_type": "stream",
          "name": "stdout",
          "text": [
            "Model Number: 176 with model GLM in generation 1 of 10\n",
            "Model Number: 177 with model GLM in generation 1 of 10\n",
            "Template Eval Error: ValueError('regression_type=user and no future_regressor passed') in model 177: GLM\n",
            "Model Number: 178 with model GLM in generation 1 of 10\n",
            "Template Eval Error: ValueError('regression_type=user and no future_regressor passed') in model 178: GLM\n",
            "Model Number: 179 with model GLM in generation 1 of 10\n",
            "Template Eval Error: ValueError('regression_type=user and no future_regressor passed') in model 179: GLM\n",
            "Model Number: 180 with model ZeroesNaive in generation 1 of 10\n",
            "Model Number: 181 with model ZeroesNaive in generation 1 of 10\n",
            "Model Number: 182 with model ZeroesNaive in generation 1 of 10\n",
            "Model Number: 183 with model FBProphet in generation 1 of 10\n"
          ]
        },
        {
          "output_type": "stream",
          "name": "stderr",
          "text": [
            "INFO:fbprophet:Disabling yearly seasonality. Run prophet with yearly_seasonality=True to override this.\n",
            "INFO:fbprophet:Disabling daily seasonality. Run prophet with daily_seasonality=True to override this.\n",
            "INFO:fbprophet:Disabling yearly seasonality. Run prophet with yearly_seasonality=True to override this.\n",
            "INFO:fbprophet:Disabling daily seasonality. Run prophet with daily_seasonality=True to override this.\n"
          ]
        },
        {
          "output_type": "stream",
          "name": "stdout",
          "text": [
            "Model Number: 184 with model FBProphet in generation 1 of 10\n"
          ]
        },
        {
          "output_type": "stream",
          "name": "stderr",
          "text": [
            "INFO:fbprophet:Disabling yearly seasonality. Run prophet with yearly_seasonality=True to override this.\n",
            "INFO:fbprophet:Disabling daily seasonality. Run prophet with daily_seasonality=True to override this.\n"
          ]
        },
        {
          "output_type": "stream",
          "name": "stdout",
          "text": [
            "Model Number: 185 with model FBProphet in generation 1 of 10\n"
          ]
        },
        {
          "output_type": "stream",
          "name": "stderr",
          "text": [
            "INFO:fbprophet:Disabling yearly seasonality. Run prophet with yearly_seasonality=True to override this.\n",
            "INFO:fbprophet:Disabling daily seasonality. Run prophet with daily_seasonality=True to override this.\n"
          ]
        },
        {
          "output_type": "stream",
          "name": "stdout",
          "text": [
            "Model Number: 186 with model FBProphet in generation 1 of 10\n",
            "Model Number: 187 with model GluonTS in generation 1 of 10\n",
            "Template Eval Error: ImportError('GluonTS installation not found or installed version is incompatible with AutoTS.') in model 187: GluonTS\n",
            "Model Number: 188 with model GluonTS in generation 1 of 10\n",
            "Template Eval Error: ImportError('GluonTS installation not found or installed version is incompatible with AutoTS.') in model 188: GluonTS\n",
            "Model Number: 189 with model GluonTS in generation 1 of 10\n",
            "Template Eval Error: ImportError('GluonTS installation not found or installed version is incompatible with AutoTS.') in model 189: GluonTS\n",
            "Model Number: 190 with model GluonTS in generation 1 of 10\n",
            "Template Eval Error: ImportError('GluonTS installation not found or installed version is incompatible with AutoTS.') in model 190: GluonTS\n",
            "Model Number: 191 with model UnobservedComponents in generation 1 of 10\n",
            "Template Eval Error: TypeError('issubclass() arg 2 must be a class or tuple of classes') in model 191: UnobservedComponents\n",
            "Model Number: 192 with model UnobservedComponents in generation 1 of 10\n",
            "Template Eval Error: TypeError('issubclass() arg 2 must be a class or tuple of classes') in model 192: UnobservedComponents\n",
            "Model Number: 193 with model UnobservedComponents in generation 1 of 10\n",
            "Template Eval Error: TypeError('issubclass() arg 2 must be a class or tuple of classes') in model 193: UnobservedComponents\n",
            "Model Number: 194 with model VAR in generation 1 of 10\n",
            "Template Eval Error: ValueError('Only gave one variable to VAR') in model 194: VAR\n",
            "Model Number: 195 with model VAR in generation 1 of 10\n",
            "Template Eval Error: ValueError('Only gave one variable to VAR') in model 195: VAR\n",
            "Model Number: 196 with model VAR in generation 1 of 10\n",
            "Template Eval Error: ValueError('Only gave one variable to VAR') in model 196: VAR\n",
            "Model Number: 197 with model VAR in generation 1 of 10\n",
            "Template Eval Error: ValueError('Only gave one variable to VAR') in model 197: VAR\n",
            "Model Number: 198 with model VECM in generation 1 of 10\n",
            "Template Eval Error: ValueError('Only gave one variable to VECM') in model 198: VECM\n",
            "Model Number: 199 with model VECM in generation 1 of 10\n",
            "Template Eval Error: ValueError('Only gave one variable to VECM') in model 199: VECM\n",
            "Model Number: 200 with model VECM in generation 1 of 10\n",
            "Template Eval Error: ValueError('Only gave one variable to VECM') in model 200: VECM\n",
            "Model Number: 201 with model VECM in generation 1 of 10\n",
            "Template Eval Error: ValueError('Only gave one variable to VECM') in model 201: VECM\n",
            "Model Number: 202 with model UnivariateRegression in generation 1 of 10\n",
            "Template Eval Error: ValueError(\"regression_type='User' but not future_regressor supplied.\") in model 202: UnivariateRegression\n",
            "Model Number: 203 with model UnivariateRegression in generation 1 of 10\n",
            "Template Eval Error: TypeError(\"unsupported operand type(s) for -: 'NoneType' and 'int'\") in model 203: UnivariateRegression\n",
            "Model Number: 204 with model UnivariateRegression in generation 1 of 10\n",
            "Template Eval Error: TypeError(\"unsupported operand type(s) for -: 'NoneType' and 'int'\") in model 204: UnivariateRegression\n",
            "Model Number: 205 with model UnivariateRegression in generation 1 of 10\n",
            "Template Eval Error: ValueError(\"regression_type='User' but not future_regressor supplied.\") in model 205: UnivariateRegression\n",
            "Model Number: 206 with model UnivariateMotif in generation 1 of 10\n",
            "Template Eval Error: AttributeError(\"module 'numpy.lib.stride_tricks' has no attribute 'sliding_window_view'\") in model 206: UnivariateMotif\n",
            "Model Number: 207 with model UnivariateMotif in generation 1 of 10\n",
            "Template Eval Error: AttributeError(\"module 'numpy.lib.stride_tricks' has no attribute 'sliding_window_view'\") in model 207: UnivariateMotif\n",
            "Model Number: 208 with model UnivariateMotif in generation 1 of 10\n",
            "Template Eval Error: AttributeError(\"module 'numpy.lib.stride_tricks' has no attribute 'sliding_window_view'\") in model 208: UnivariateMotif\n",
            "Model Number: 209 with model UnivariateMotif in generation 1 of 10\n",
            "Template Eval Error: AttributeError(\"module 'numpy.lib.stride_tricks' has no attribute 'sliding_window_view'\") in model 209: UnivariateMotif\n",
            "Model Number: 210 with model MultivariateMotif in generation 1 of 10\n",
            "Template Eval Error: AttributeError(\"module 'numpy.lib.stride_tricks' has no attribute 'sliding_window_view'\") in model 210: MultivariateMotif\n",
            "Model Number: 211 with model MultivariateMotif in generation 1 of 10\n",
            "Template Eval Error: AttributeError(\"module 'numpy.lib.stride_tricks' has no attribute 'sliding_window_view'\") in model 211: MultivariateMotif\n",
            "Model Number: 212 with model MultivariateMotif in generation 1 of 10\n",
            "Template Eval Error: AttributeError(\"module 'numpy.lib.stride_tricks' has no attribute 'sliding_window_view'\") in model 212: MultivariateMotif\n",
            "Model Number: 213 with model MultivariateMotif in generation 1 of 10\n",
            "Template Eval Error: AttributeError(\"module 'numpy.lib.stride_tricks' has no attribute 'sliding_window_view'\") in model 213: MultivariateMotif\n",
            "Model Number: 214 with model Theta in generation 1 of 10\n",
            "Template Eval Error: ModuleNotFoundError(\"No module named 'statsmodels.tsa.forecasting'\") in model 214: Theta\n",
            "Model Number: 215 with model Theta in generation 1 of 10\n",
            "Template Eval Error: ModuleNotFoundError(\"No module named 'statsmodels.tsa.forecasting'\") in model 215: Theta\n",
            "Model Number: 216 with model Theta in generation 1 of 10\n",
            "Template Eval Error: ModuleNotFoundError(\"No module named 'statsmodels.tsa.forecasting'\") in model 216: Theta\n",
            "Model Number: 217 with model Theta in generation 1 of 10\n",
            "Template Eval Error: ModuleNotFoundError(\"No module named 'statsmodels.tsa.forecasting'\") in model 217: Theta\n",
            "Model Number: 218 with model ARDL in generation 1 of 10\n",
            "Template Eval Error: ImportError(\"cannot import name 'ARDL' from 'statsmodels.tsa.api' (/usr/local/lib/python3.7/dist-packages/statsmodels/tsa/api.py)\") in model 218: ARDL\n",
            "Model Number: 219 with model ARDL in generation 1 of 10\n",
            "Template Eval Error: ImportError(\"cannot import name 'ARDL' from 'statsmodels.tsa.api' (/usr/local/lib/python3.7/dist-packages/statsmodels/tsa/api.py)\") in model 219: ARDL\n",
            "Model Number: 220 with model ARDL in generation 1 of 10\n",
            "Template Eval Error: ImportError(\"cannot import name 'ARDL' from 'statsmodels.tsa.api' (/usr/local/lib/python3.7/dist-packages/statsmodels/tsa/api.py)\") in model 220: ARDL\n",
            "Model Number: 221 with model ARDL in generation 1 of 10\n",
            "Template Eval Error: ImportError(\"cannot import name 'ARDL' from 'statsmodels.tsa.api' (/usr/local/lib/python3.7/dist-packages/statsmodels/tsa/api.py)\") in model 221: ARDL\n",
            "New Generation: 2 of 10\n",
            "Model Number: 222 with model DatepartRegression in generation 2 of 10\n",
            "Epoch 1/50\n",
            "3/3 [==============================] - 5s 390ms/step - loss: 284348670608932864.0000 - val_loss: 243667187057819648.0000\n",
            "Epoch 2/50\n",
            "3/3 [==============================] - 0s 117ms/step - loss: 234611781090148352.0000 - val_loss: 213253303864131584.0000\n",
            "Epoch 3/50\n",
            "3/3 [==============================] - 0s 121ms/step - loss: 212670287823503360.0000 - val_loss: 189413898909122560.0000\n",
            "Epoch 4/50\n",
            "3/3 [==============================] - 0s 130ms/step - loss: 188641406091264000.0000 - val_loss: 169019676200796160.0000\n",
            "Epoch 5/50\n",
            "3/3 [==============================] - 0s 130ms/step - loss: 174281870131855360.0000 - val_loss: 151102000354820096.0000\n",
            "Epoch 6/50\n",
            "3/3 [==============================] - 0s 110ms/step - loss: 142501929640001536.0000 - val_loss: 134771718651641856.0000\n",
            "Epoch 7/50\n",
            "3/3 [==============================] - 0s 115ms/step - loss: 139566491291877376.0000 - val_loss: 119843297094008832.0000\n",
            "Epoch 8/50\n",
            "3/3 [==============================] - 0s 118ms/step - loss: 118258144924139520.0000 - val_loss: 106091490417049600.0000\n",
            "Epoch 9/50\n",
            "3/3 [==============================] - 0s 113ms/step - loss: 93248232531951616.0000 - val_loss: 94263768959156224.0000\n",
            "Epoch 10/50\n",
            "3/3 [==============================] - 0s 108ms/step - loss: 94432896181338112.0000 - val_loss: 81671912689762304.0000\n",
            "Epoch 11/50\n",
            "3/3 [==============================] - 0s 115ms/step - loss: 76531231973441536.0000 - val_loss: 72811962093797376.0000\n",
            "Epoch 12/50\n",
            "3/3 [==============================] - 0s 114ms/step - loss: 75104727305551872.0000 - val_loss: 62042271469535232.0000\n",
            "Epoch 13/50\n",
            "3/3 [==============================] - 0s 108ms/step - loss: 68868546460909568.0000 - val_loss: 53507351113629696.0000\n",
            "Epoch 14/50\n",
            "3/3 [==============================] - 0s 111ms/step - loss: 58538192336322560.0000 - val_loss: 43640750377795584.0000\n",
            "Epoch 15/50\n",
            "3/3 [==============================] - 0s 107ms/step - loss: 50015422442897408.0000 - val_loss: 37511449794314240.0000\n",
            "Epoch 16/50\n",
            "3/3 [==============================] - 0s 118ms/step - loss: 47957467388182528.0000 - val_loss: 31730883375398912.0000\n",
            "Epoch 17/50\n",
            "3/3 [==============================] - 0s 123ms/step - loss: 45095868117811200.0000 - val_loss: 28994319192948736.0000\n",
            "Epoch 18/50\n",
            "3/3 [==============================] - 0s 109ms/step - loss: 44790564662542336.0000 - val_loss: 23697404746268672.0000\n",
            "Epoch 19/50\n",
            "3/3 [==============================] - 0s 103ms/step - loss: 37489884763521024.0000 - val_loss: 17686069734539264.0000\n",
            "Epoch 20/50\n",
            "3/3 [==============================] - 0s 119ms/step - loss: 35721835706318848.0000 - val_loss: 14487326268850176.0000\n",
            "Epoch 21/50\n",
            "3/3 [==============================] - 0s 115ms/step - loss: 43108286102241280.0000 - val_loss: 10514243149365248.0000\n",
            "Epoch 22/50\n",
            "3/3 [==============================] - 0s 121ms/step - loss: 34058873761431552.0000 - val_loss: 9695818877501440.0000\n",
            "Epoch 23/50\n",
            "3/3 [==============================] - 0s 122ms/step - loss: 31532943365111808.0000 - val_loss: 6098990999273472.0000\n",
            "Epoch 24/50\n",
            "3/3 [==============================] - 0s 111ms/step - loss: 35579479015292928.0000 - val_loss: 4013492319289344.0000\n",
            "Epoch 25/50\n",
            "3/3 [==============================] - 0s 126ms/step - loss: 30242471048904704.0000 - val_loss: 1029139997917184.0000\n",
            "Epoch 26/50\n",
            "3/3 [==============================] - 0s 112ms/step - loss: 33892804555964416.0000 - val_loss: 431188946714624.0000\n",
            "Epoch 27/50\n",
            "3/3 [==============================] - 0s 108ms/step - loss: 38562200658378752.0000 - val_loss: 728624961421312.0000\n",
            "Epoch 28/50\n",
            "3/3 [==============================] - 0s 116ms/step - loss: 37510307333013504.0000 - val_loss: 145092585193472.0000\n",
            "Epoch 29/50\n",
            "3/3 [==============================] - 0s 108ms/step - loss: 34690133022212096.0000 - val_loss: 1652361697165312.0000\n",
            "Epoch 30/50\n",
            "3/3 [==============================] - 0s 99ms/step - loss: 37197530634649600.0000 - val_loss: 180192014237696.0000\n",
            "Epoch 31/50\n",
            "3/3 [==============================] - 0s 114ms/step - loss: 29629662967627776.0000 - val_loss: 1060607814008832.0000\n",
            "Epoch 32/50\n",
            "3/3 [==============================] - 0s 110ms/step - loss: 35533948066988032.0000 - val_loss: 1349378463760384.0000\n",
            "Epoch 33/50\n",
            "3/3 [==============================] - 0s 103ms/step - loss: 35568735154601984.0000 - val_loss: 2110859924996096.0000\n",
            "Epoch 34/50\n",
            "3/3 [==============================] - 0s 108ms/step - loss: 31545768137457664.0000 - val_loss: 4722020726079488.0000\n",
            "Epoch 35/50\n",
            "3/3 [==============================] - 0s 101ms/step - loss: 34252589671383040.0000 - val_loss: 1967638066495488.0000\n",
            "Epoch 36/50\n",
            "3/3 [==============================] - 0s 117ms/step - loss: 28470230103621632.0000 - val_loss: 682600091877376.0000\n",
            "Epoch 37/50\n",
            "3/3 [==============================] - 0s 117ms/step - loss: 38709290403364864.0000 - val_loss: 798871567466496.0000\n",
            "Epoch 38/50\n",
            "3/3 [==============================] - 0s 134ms/step - loss: 31042058667950080.0000 - val_loss: 360165454905344.0000\n",
            "Model Number: 223 with model DatepartRegression in generation 2 of 10\n"
          ]
        },
        {
          "output_type": "stream",
          "name": "stderr",
          "text": [
            "[Parallel(n_jobs=1)]: Using backend SequentialBackend with 1 concurrent workers.\n",
            "[Parallel(n_jobs=1)]: Done 300 out of 300 | elapsed:    0.1s finished\n",
            "[Parallel(n_jobs=1)]: Using backend SequentialBackend with 1 concurrent workers.\n",
            "[Parallel(n_jobs=1)]: Done 300 out of 300 | elapsed:    0.0s finished\n"
          ]
        },
        {
          "output_type": "stream",
          "name": "stdout",
          "text": [
            "Model Number: 224 with model DatepartRegression in generation 2 of 10\n",
            "Template Eval Error: ValueError(\"regression_type='User' but no future_regressor passed\") in model 224: DatepartRegression\n",
            "Model Number: 225 with model LastValueNaive in generation 2 of 10\n",
            "Model Number: 226 with model SeasonalNaive in generation 2 of 10\n",
            "Model Number: 227 with model SeasonalNaive in generation 2 of 10\n",
            "Model Number: 228 with model SeasonalNaive in generation 2 of 10\n",
            "Model Number: 229 with model SeasonalNaive in generation 2 of 10\n",
            "Model Number: 230 with model GLM in generation 2 of 10\n",
            "Model Number: 231 with model GLM in generation 2 of 10\n",
            "Template Eval Error: ValueError('NaN, inf or invalid value detected in weights, estimation infeasible.') in model 231: GLM\n",
            "Model Number: 232 with model GLM in generation 2 of 10\n"
          ]
        },
        {
          "output_type": "stream",
          "name": "stderr",
          "text": [
            "/usr/local/lib/python3.7/dist-packages/statsmodels/genmod/families/family.py:428: RuntimeWarning:\n",
            "\n",
            "divide by zero encountered in true_divide\n",
            "\n",
            "/usr/local/lib/python3.7/dist-packages/statsmodels/genmod/families/family.py:134: RuntimeWarning:\n",
            "\n",
            "divide by zero encountered in true_divide\n",
            "\n"
          ]
        },
        {
          "output_type": "stream",
          "name": "stdout",
          "text": [
            "Model Number: 233 with model GLM in generation 2 of 10\n",
            "Model Number: 234 with model GLS in generation 2 of 10\n",
            "Model Number: 235 with model GLS in generation 2 of 10\n",
            "Model Number: 236 with model GLS in generation 2 of 10\n",
            "Model Number: 237 with model ETS in generation 2 of 10\n",
            "Model Number: 238 with model ETS in generation 2 of 10\n",
            "Model Number: 239 with model ETS in generation 2 of 10\n",
            "Model Number: 240 with model ETS in generation 2 of 10\n",
            "Model Number: 241 with model NVAR in generation 2 of 10\n",
            "Model Number: 242 with model NVAR in generation 2 of 10\n",
            "Model Number: 243 with model NVAR in generation 2 of 10\n",
            "Model Number: 244 with model NVAR in generation 2 of 10\n",
            "Model Number: 245 with model SectionalMotif in generation 2 of 10\n",
            "Model Number: 246 with model SectionalMotif in generation 2 of 10\n",
            "Template Eval Error: ValueError('kth(=10) out of bounds (8)') in model 246: SectionalMotif\n",
            "Model Number: 247 with model SectionalMotif in generation 2 of 10\n",
            "Model Number: 248 with model SectionalMotif in generation 2 of 10\n",
            "Template Eval Error: ValueError('kth(=100) out of bounds (69)') in model 248: SectionalMotif\n",
            "Model Number: 249 with model AverageValueNaive in generation 2 of 10\n",
            "Model Number: 250 with model AverageValueNaive in generation 2 of 10\n",
            "Model Number: 251 with model AverageValueNaive in generation 2 of 10\n",
            "Model Number: 252 with model WindowRegression in generation 2 of 10\n"
          ]
        },
        {
          "output_type": "stream",
          "name": "stderr",
          "text": [
            "/usr/local/lib/python3.7/dist-packages/autots/models/sklearn.py:1232: DataConversionWarning:\n",
            "\n",
            "A column-vector y was passed when a 1d array was expected. Please change the shape of y to (n_samples,), for example using ravel().\n",
            "\n"
          ]
        },
        {
          "output_type": "stream",
          "name": "stdout",
          "text": [
            "Model Number: 253 with model WindowRegression in generation 2 of 10\n"
          ]
        },
        {
          "output_type": "stream",
          "name": "stderr",
          "text": [
            "/usr/local/lib/python3.7/dist-packages/sklearn/experimental/enable_hist_gradient_boosting.py:17: UserWarning:\n",
            "\n",
            "Since version 1.0, it is not needed to import enable_hist_gradient_boosting anymore. HistGradientBoostingClassifier and HistGradientBoostingRegressor are now stable and can be normally imported from sklearn.ensemble.\n",
            "\n",
            "/usr/local/lib/python3.7/dist-packages/sklearn/utils/validation.py:985: DataConversionWarning:\n",
            "\n",
            "A column-vector y was passed when a 1d array was expected. Please change the shape of y to (n_samples, ), for example using ravel().\n",
            "\n"
          ]
        },
        {
          "output_type": "stream",
          "name": "stdout",
          "text": [
            "Template Eval Error: ValueError(\"loss='poisson' requires non-negative y and sum(y) > 0.\") in model 253: WindowRegression\n",
            "Model Number: 254 with model WindowRegression in generation 2 of 10\n",
            "Model Number: 255 with model ZeroesNaive in generation 2 of 10\n",
            "Model Number: 256 with model ZeroesNaive in generation 2 of 10\n",
            "Model Number: 257 with model ZeroesNaive in generation 2 of 10\n",
            "Model Number: 258 with model FBProphet in generation 2 of 10\n"
          ]
        },
        {
          "output_type": "stream",
          "name": "stderr",
          "text": [
            "INFO:fbprophet:Disabling yearly seasonality. Run prophet with yearly_seasonality=True to override this.\n",
            "INFO:fbprophet:Disabling daily seasonality. Run prophet with daily_seasonality=True to override this.\n",
            "INFO:fbprophet:Disabling yearly seasonality. Run prophet with yearly_seasonality=True to override this.\n",
            "INFO:fbprophet:Disabling daily seasonality. Run prophet with daily_seasonality=True to override this.\n"
          ]
        },
        {
          "output_type": "stream",
          "name": "stdout",
          "text": [
            "Model Number: 259 with model FBProphet in generation 2 of 10\n"
          ]
        },
        {
          "output_type": "stream",
          "name": "stderr",
          "text": [
            "INFO:fbprophet:Disabling yearly seasonality. Run prophet with yearly_seasonality=True to override this.\n",
            "INFO:fbprophet:Disabling daily seasonality. Run prophet with daily_seasonality=True to override this.\n"
          ]
        },
        {
          "output_type": "stream",
          "name": "stdout",
          "text": [
            "Model Number: 260 with model FBProphet in generation 2 of 10\n"
          ]
        },
        {
          "output_type": "stream",
          "name": "stderr",
          "text": [
            "INFO:fbprophet:Disabling yearly seasonality. Run prophet with yearly_seasonality=True to override this.\n",
            "INFO:fbprophet:Disabling daily seasonality. Run prophet with daily_seasonality=True to override this.\n"
          ]
        },
        {
          "output_type": "stream",
          "name": "stdout",
          "text": [
            "Model Number: 261 with model FBProphet in generation 2 of 10\n",
            "Model Number: 262 with model GluonTS in generation 2 of 10\n",
            "Template Eval Error: ImportError('GluonTS installation not found or installed version is incompatible with AutoTS.') in model 262: GluonTS\n",
            "Model Number: 263 with model GluonTS in generation 2 of 10\n",
            "Template Eval Error: ImportError('GluonTS installation not found or installed version is incompatible with AutoTS.') in model 263: GluonTS\n",
            "Model Number: 264 with model GluonTS in generation 2 of 10\n",
            "Template Eval Error: ImportError('GluonTS installation not found or installed version is incompatible with AutoTS.') in model 264: GluonTS\n",
            "Model Number: 265 with model GluonTS in generation 2 of 10\n",
            "Template Eval Error: ImportError('GluonTS installation not found or installed version is incompatible with AutoTS.') in model 265: GluonTS\n",
            "Model Number: 266 with model UnobservedComponents in generation 2 of 10\n",
            "Template Eval Error: TypeError('issubclass() arg 2 must be a class or tuple of classes') in model 266: UnobservedComponents\n",
            "Model Number: 267 with model UnobservedComponents in generation 2 of 10\n",
            "Template Eval Error: TypeError('issubclass() arg 2 must be a class or tuple of classes') in model 267: UnobservedComponents\n",
            "Model Number: 268 with model UnobservedComponents in generation 2 of 10\n",
            "Template Eval Error: TypeError('issubclass() arg 2 must be a class or tuple of classes') in model 268: UnobservedComponents\n",
            "Model Number: 269 with model VAR in generation 2 of 10\n",
            "Template Eval Error: ValueError('Only gave one variable to VAR') in model 269: VAR\n",
            "Model Number: 270 with model VAR in generation 2 of 10\n",
            "Template Eval Error: ValueError('Only gave one variable to VAR') in model 270: VAR\n",
            "Model Number: 271 with model VAR in generation 2 of 10\n",
            "Template Eval Error: ValueError('Only gave one variable to VAR') in model 271: VAR\n",
            "Model Number: 272 with model VAR in generation 2 of 10\n",
            "Template Eval Error: ValueError('Only gave one variable to VAR') in model 272: VAR\n",
            "Model Number: 273 with model VECM in generation 2 of 10\n",
            "Template Eval Error: ValueError('Only gave one variable to VECM') in model 273: VECM\n",
            "Model Number: 274 with model VECM in generation 2 of 10\n",
            "Template Eval Error: ValueError('Only gave one variable to VECM') in model 274: VECM\n",
            "Model Number: 275 with model VECM in generation 2 of 10\n",
            "Template Eval Error: ValueError('Only gave one variable to VECM') in model 275: VECM\n",
            "Model Number: 276 with model VECM in generation 2 of 10\n"
          ]
        },
        {
          "output_type": "stream",
          "name": "stderr",
          "text": [
            "/usr/local/lib/python3.7/dist-packages/scipy/interpolate/polyint.py:511: RuntimeWarning:\n",
            "\n",
            "overflow encountered in multiply\n",
            "\n",
            "/usr/local/lib/python3.7/dist-packages/scipy/interpolate/polyint.py:513: RuntimeWarning:\n",
            "\n",
            "divide by zero encountered in reciprocal\n",
            "\n",
            "/usr/local/lib/python3.7/dist-packages/numpy/core/fromnumeric.py:87: RuntimeWarning:\n",
            "\n",
            "invalid value encountered in reduce\n",
            "\n"
          ]
        },
        {
          "output_type": "stream",
          "name": "stdout",
          "text": [
            "Template Eval Error: ValueError('Only gave one variable to VECM') in model 276: VECM\n",
            "Model Number: 277 with model UnivariateRegression in generation 2 of 10\n",
            "Template Eval Error: TypeError(\"unsupported operand type(s) for -: 'NoneType' and 'int'\") in model 277: UnivariateRegression\n",
            "Model Number: 278 with model UnivariateRegression in generation 2 of 10\n",
            "Template Eval Error: TypeError(\"unsupported operand type(s) for -: 'NoneType' and 'int'\") in model 278: UnivariateRegression\n",
            "Model Number: 279 with model UnivariateRegression in generation 2 of 10\n",
            "Template Eval Error: TypeError(\"unsupported operand type(s) for -: 'NoneType' and 'int'\") in model 279: UnivariateRegression\n",
            "Model Number: 280 with model UnivariateRegression in generation 2 of 10\n",
            "Template Eval Error: TypeError(\"unsupported operand type(s) for -: 'NoneType' and 'int'\") in model 280: UnivariateRegression\n",
            "Model Number: 281 with model UnivariateMotif in generation 2 of 10\n",
            "Template Eval Error: AttributeError(\"module 'numpy.lib.stride_tricks' has no attribute 'sliding_window_view'\") in model 281: UnivariateMotif\n",
            "Model Number: 282 with model UnivariateMotif in generation 2 of 10\n",
            "Template Eval Error: AttributeError(\"module 'numpy.lib.stride_tricks' has no attribute 'sliding_window_view'\") in model 282: UnivariateMotif\n",
            "Model Number: 283 with model UnivariateMotif in generation 2 of 10\n",
            "Template Eval Error: AttributeError(\"module 'numpy.lib.stride_tricks' has no attribute 'sliding_window_view'\") in model 283: UnivariateMotif\n",
            "Model Number: 284 with model UnivariateMotif in generation 2 of 10\n",
            "Template Eval Error: AttributeError(\"module 'numpy.lib.stride_tricks' has no attribute 'sliding_window_view'\") in model 284: UnivariateMotif\n",
            "Model Number: 285 with model MultivariateMotif in generation 2 of 10\n",
            "Template Eval Error: AttributeError(\"module 'numpy.lib.stride_tricks' has no attribute 'sliding_window_view'\") in model 285: MultivariateMotif\n",
            "Model Number: 286 with model MultivariateMotif in generation 2 of 10\n",
            "Template Eval Error: AttributeError(\"module 'numpy.lib.stride_tricks' has no attribute 'sliding_window_view'\") in model 286: MultivariateMotif\n",
            "Model Number: 287 with model MultivariateMotif in generation 2 of 10\n",
            "Template Eval Error: AttributeError(\"module 'numpy.lib.stride_tricks' has no attribute 'sliding_window_view'\") in model 287: MultivariateMotif\n",
            "Model Number: 288 with model MultivariateMotif in generation 2 of 10\n",
            "Template Eval Error: AttributeError(\"module 'numpy.lib.stride_tricks' has no attribute 'sliding_window_view'\") in model 288: MultivariateMotif\n",
            "Model Number: 289 with model Theta in generation 2 of 10\n",
            "Template Eval Error: ModuleNotFoundError(\"No module named 'statsmodels.tsa.forecasting'\") in model 289: Theta\n",
            "Model Number: 290 with model Theta in generation 2 of 10\n",
            "Template Eval Error: ModuleNotFoundError(\"No module named 'statsmodels.tsa.forecasting'\") in model 290: Theta\n",
            "Model Number: 291 with model Theta in generation 2 of 10\n",
            "Template Eval Error: ModuleNotFoundError(\"No module named 'statsmodels.tsa.forecasting'\") in model 291: Theta\n",
            "Model Number: 292 with model Theta in generation 2 of 10\n",
            "Template Eval Error: ModuleNotFoundError(\"No module named 'statsmodels.tsa.forecasting'\") in model 292: Theta\n",
            "Model Number: 293 with model ARDL in generation 2 of 10\n",
            "Template Eval Error: ImportError(\"cannot import name 'ARDL' from 'statsmodels.tsa.api' (/usr/local/lib/python3.7/dist-packages/statsmodels/tsa/api.py)\") in model 293: ARDL\n",
            "Model Number: 294 with model ARDL in generation 2 of 10\n",
            "Template Eval Error: ImportError(\"cannot import name 'ARDL' from 'statsmodels.tsa.api' (/usr/local/lib/python3.7/dist-packages/statsmodels/tsa/api.py)\") in model 294: ARDL\n",
            "Model Number: 295 with model ARDL in generation 2 of 10\n",
            "Template Eval Error: ImportError(\"cannot import name 'ARDL' from 'statsmodels.tsa.api' (/usr/local/lib/python3.7/dist-packages/statsmodels/tsa/api.py)\") in model 295: ARDL\n",
            "Model Number: 296 with model ARDL in generation 2 of 10\n",
            "Template Eval Error: ImportError(\"cannot import name 'ARDL' from 'statsmodels.tsa.api' (/usr/local/lib/python3.7/dist-packages/statsmodels/tsa/api.py)\") in model 296: ARDL\n",
            "New Generation: 3 of 10\n",
            "Model Number: 297 with model DatepartRegression in generation 3 of 10\n"
          ]
        },
        {
          "output_type": "stream",
          "name": "stderr",
          "text": [
            "[Parallel(n_jobs=1)]: Using backend SequentialBackend with 1 concurrent workers.\n",
            "[Parallel(n_jobs=1)]: Done 1000 out of 1000 | elapsed:    1.0s finished\n",
            "[Parallel(n_jobs=1)]: Using backend SequentialBackend with 1 concurrent workers.\n",
            "[Parallel(n_jobs=1)]: Done 1000 out of 1000 | elapsed:    0.1s finished\n"
          ]
        },
        {
          "output_type": "stream",
          "name": "stdout",
          "text": [
            "Model Number: 298 with model DatepartRegression in generation 3 of 10\n",
            "Template Eval Error: ValueError(\"regression_type='User' but no future_regressor passed\") in model 298: DatepartRegression\n",
            "Model Number: 299 with model DatepartRegression in generation 3 of 10\n",
            "Model Number: 300 with model LastValueNaive in generation 3 of 10\n",
            "Model Number: 301 with model LastValueNaive in generation 3 of 10\n",
            "Model Number: 302 with model LastValueNaive in generation 3 of 10\n",
            "Model Number: 303 with model SeasonalNaive in generation 3 of 10\n",
            "Model Number: 304 with model SeasonalNaive in generation 3 of 10\n",
            "Model Number: 305 with model SeasonalNaive in generation 3 of 10\n",
            "Model Number: 306 with model SeasonalNaive in generation 3 of 10\n",
            "Model Number: 307 with model ETS in generation 3 of 10\n",
            "Model Number: 308 with model ETS in generation 3 of 10\n",
            "Model Number: 309 with model ETS in generation 3 of 10\n",
            "Model Number: 310 with model ETS in generation 3 of 10\n",
            "Model Number: 311 with model FBProphet in generation 3 of 10\n"
          ]
        },
        {
          "output_type": "stream",
          "name": "stderr",
          "text": [
            "INFO:fbprophet:Disabling yearly seasonality. Run prophet with yearly_seasonality=True to override this.\n",
            "INFO:fbprophet:Disabling daily seasonality. Run prophet with daily_seasonality=True to override this.\n",
            "INFO:fbprophet:Disabling yearly seasonality. Run prophet with yearly_seasonality=True to override this.\n",
            "INFO:fbprophet:Disabling daily seasonality. Run prophet with daily_seasonality=True to override this.\n"
          ]
        },
        {
          "output_type": "stream",
          "name": "stdout",
          "text": [
            "Model Number: 312 with model FBProphet in generation 3 of 10\n"
          ]
        },
        {
          "output_type": "stream",
          "name": "stderr",
          "text": [
            "INFO:fbprophet:Disabling yearly seasonality. Run prophet with yearly_seasonality=True to override this.\n",
            "INFO:fbprophet:Disabling daily seasonality. Run prophet with daily_seasonality=True to override this.\n"
          ]
        },
        {
          "output_type": "stream",
          "name": "stdout",
          "text": [
            "Model Number: 313 with model FBProphet in generation 3 of 10\n"
          ]
        },
        {
          "output_type": "stream",
          "name": "stderr",
          "text": [
            "INFO:fbprophet:Disabling yearly seasonality. Run prophet with yearly_seasonality=True to override this.\n",
            "INFO:fbprophet:Disabling daily seasonality. Run prophet with daily_seasonality=True to override this.\n"
          ]
        },
        {
          "output_type": "stream",
          "name": "stdout",
          "text": [
            "Model Number: 314 with model FBProphet in generation 3 of 10\n",
            "Model Number: 315 with model GLM in generation 3 of 10\n",
            "Model Number: 316 with model GLM in generation 3 of 10\n",
            "Template Eval Error: ValueError('The first guess on the deviance function returned a nan.  This could be a boundary  problem and should be reported.') in model 316: GLM\n",
            "Model Number: 317 with model GLM in generation 3 of 10\n",
            "Template Eval Error: ValueError('The first guess on the deviance function returned a nan.  This could be a boundary  problem and should be reported.') in model 317: GLM\n",
            "Model Number: 318 with model GLM in generation 3 of 10\n",
            "Model Number: 319 with model GLS in generation 3 of 10\n"
          ]
        },
        {
          "output_type": "stream",
          "name": "stderr",
          "text": [
            "/usr/local/lib/python3.7/dist-packages/statsmodels/genmod/families/family.py:1227: RuntimeWarning:\n",
            "\n",
            "invalid value encountered in log\n",
            "\n",
            "/usr/local/lib/python3.7/dist-packages/statsmodels/genmod/families/family.py:1227: RuntimeWarning:\n",
            "\n",
            "invalid value encountered in log\n",
            "\n",
            "/usr/local/lib/python3.7/dist-packages/statsmodels/genmod/families/family.py:1223: RuntimeWarning:\n",
            "\n",
            "divide by zero encountered in true_divide\n",
            "\n"
          ]
        },
        {
          "output_type": "stream",
          "name": "stdout",
          "text": [
            "Model Number: 320 with model GLS in generation 3 of 10\n",
            "Model Number: 321 with model GLS in generation 3 of 10\n",
            "Model Number: 322 with model NVAR in generation 3 of 10\n",
            "Model Number: 323 with model NVAR in generation 3 of 10\n",
            "Model Number: 324 with model NVAR in generation 3 of 10\n",
            "Model Number: 325 with model NVAR in generation 3 of 10\n",
            "Model Number: 326 with model AverageValueNaive in generation 3 of 10\n",
            "Model Number: 327 with model AverageValueNaive in generation 3 of 10\n",
            "Model Number: 328 with model AverageValueNaive in generation 3 of 10\n",
            "Model Number: 329 with model WindowRegression in generation 3 of 10\n"
          ]
        },
        {
          "output_type": "stream",
          "name": "stderr",
          "text": [
            "/usr/local/lib/python3.7/dist-packages/sklearn/neural_network/_multilayer_perceptron.py:1599: DataConversionWarning:\n",
            "\n",
            "A column-vector y was passed when a 1d array was expected. Please change the shape of y to (n_samples, ), for example using ravel().\n",
            "\n"
          ]
        },
        {
          "output_type": "stream",
          "name": "stdout",
          "text": [
            "Model Number: 330 with model WindowRegression in generation 3 of 10\n"
          ]
        },
        {
          "output_type": "stream",
          "name": "stderr",
          "text": [
            "/usr/local/lib/python3.7/dist-packages/sklearn/neural_network/_multilayer_perceptron.py:549: ConvergenceWarning:\n",
            "\n",
            "lbfgs failed to converge (status=1):\n",
            "STOP: TOTAL NO. of ITERATIONS REACHED LIMIT.\n",
            "\n",
            "Increase the number of iterations (max_iter) or scale the data as shown in:\n",
            "    https://scikit-learn.org/stable/modules/preprocessing.html\n",
            "\n"
          ]
        },
        {
          "output_type": "stream",
          "name": "stdout",
          "text": [
            "Model Number: 331 with model WindowRegression in generation 3 of 10\n",
            "Model Number: 332 with model SectionalMotif in generation 3 of 10\n",
            "Template Eval Error: ValueError(\"regression_type=='User' but no future_regressor supplied\") in model 332: SectionalMotif\n",
            "Model Number: 333 with model SectionalMotif in generation 3 of 10\n",
            "Model Number: 334 with model SectionalMotif in generation 3 of 10\n",
            "Model Number: 335 with model SectionalMotif in generation 3 of 10\n",
            "Model Number: 336 with model ZeroesNaive in generation 3 of 10\n",
            "Model Number: 337 with model ZeroesNaive in generation 3 of 10\n",
            "Model Number: 338 with model ZeroesNaive in generation 3 of 10\n",
            "Model Number: 339 with model GluonTS in generation 3 of 10\n",
            "Template Eval Error: ImportError('GluonTS installation not found or installed version is incompatible with AutoTS.') in model 339: GluonTS\n",
            "Model Number: 340 with model GluonTS in generation 3 of 10\n",
            "Template Eval Error: ImportError('GluonTS installation not found or installed version is incompatible with AutoTS.') in model 340: GluonTS\n",
            "Model Number: 341 with model GluonTS in generation 3 of 10\n",
            "Template Eval Error: ImportError('GluonTS installation not found or installed version is incompatible with AutoTS.') in model 341: GluonTS\n",
            "Model Number: 342 with model GluonTS in generation 3 of 10\n",
            "Template Eval Error: ImportError('GluonTS installation not found or installed version is incompatible with AutoTS.') in model 342: GluonTS\n",
            "Model Number: 343 with model UnobservedComponents in generation 3 of 10\n",
            "Template Eval Error: TypeError('issubclass() arg 2 must be a class or tuple of classes') in model 343: UnobservedComponents\n",
            "Model Number: 344 with model UnobservedComponents in generation 3 of 10\n",
            "Template Eval Error: TypeError('issubclass() arg 2 must be a class or tuple of classes') in model 344: UnobservedComponents\n",
            "Model Number: 345 with model UnobservedComponents in generation 3 of 10\n",
            "Model Number: 346 with model VAR in generation 3 of 10\n",
            "Template Eval Error: ValueError('Only gave one variable to VAR') in model 346: VAR\n",
            "Model Number: 347 with model VAR in generation 3 of 10\n",
            "Template Eval Error: ValueError('Only gave one variable to VAR') in model 347: VAR\n",
            "Model Number: 348 with model VAR in generation 3 of 10\n",
            "Template Eval Error: ValueError('Only gave one variable to VAR') in model 348: VAR\n",
            "Model Number: 349 with model VAR in generation 3 of 10\n",
            "Template Eval Error: ValueError('Only gave one variable to VAR') in model 349: VAR\n",
            "Model Number: 350 with model VECM in generation 3 of 10\n",
            "Template Eval Error: ValueError('Only gave one variable to VECM') in model 350: VECM\n",
            "Model Number: 351 with model VECM in generation 3 of 10\n",
            "Template Eval Error: ValueError('Only gave one variable to VECM') in model 351: VECM\n",
            "Model Number: 352 with model VECM in generation 3 of 10\n",
            "Template Eval Error: ValueError('Only gave one variable to VECM') in model 352: VECM\n",
            "Model Number: 353 with model VECM in generation 3 of 10\n",
            "Template Eval Error: ValueError('Only gave one variable to VECM') in model 353: VECM\n",
            "Model Number: 354 with model UnivariateRegression in generation 3 of 10\n",
            "Template Eval Error: TypeError(\"unsupported operand type(s) for -: 'NoneType' and 'int'\") in model 354: UnivariateRegression\n",
            "Model Number: 355 with model UnivariateRegression in generation 3 of 10\n",
            "Template Eval Error: TypeError(\"unsupported operand type(s) for -: 'NoneType' and 'int'\") in model 355: UnivariateRegression\n",
            "Model Number: 356 with model UnivariateRegression in generation 3 of 10\n",
            "Template Eval Error: TypeError(\"unsupported operand type(s) for -: 'NoneType' and 'int'\") in model 356: UnivariateRegression\n",
            "Model Number: 357 with model UnivariateRegression in generation 3 of 10\n",
            "Template Eval Error: TypeError(\"unsupported operand type(s) for -: 'NoneType' and 'int'\") in model 357: UnivariateRegression\n",
            "Model Number: 358 with model UnivariateMotif in generation 3 of 10\n",
            "Template Eval Error: AttributeError(\"module 'numpy.lib.stride_tricks' has no attribute 'sliding_window_view'\") in model 358: UnivariateMotif\n",
            "Model Number: 359 with model UnivariateMotif in generation 3 of 10\n",
            "Template Eval Error: AttributeError(\"module 'numpy.lib.stride_tricks' has no attribute 'sliding_window_view'\") in model 359: UnivariateMotif\n",
            "Model Number: 360 with model UnivariateMotif in generation 3 of 10\n",
            "Template Eval Error: AttributeError(\"module 'numpy.lib.stride_tricks' has no attribute 'sliding_window_view'\") in model 360: UnivariateMotif\n",
            "Model Number: 361 with model UnivariateMotif in generation 3 of 10\n",
            "Template Eval Error: AttributeError(\"module 'numpy.lib.stride_tricks' has no attribute 'sliding_window_view'\") in model 361: UnivariateMotif\n",
            "Model Number: 362 with model MultivariateMotif in generation 3 of 10\n",
            "Template Eval Error: AttributeError(\"module 'numpy.lib.stride_tricks' has no attribute 'sliding_window_view'\") in model 362: MultivariateMotif\n",
            "Model Number: 363 with model MultivariateMotif in generation 3 of 10\n",
            "Template Eval Error: AttributeError(\"module 'numpy.lib.stride_tricks' has no attribute 'sliding_window_view'\") in model 363: MultivariateMotif\n",
            "Model Number: 364 with model MultivariateMotif in generation 3 of 10\n",
            "Template Eval Error: AttributeError(\"module 'numpy.lib.stride_tricks' has no attribute 'sliding_window_view'\") in model 364: MultivariateMotif\n",
            "Model Number: 365 with model MultivariateMotif in generation 3 of 10\n",
            "Template Eval Error: AttributeError(\"module 'numpy.lib.stride_tricks' has no attribute 'sliding_window_view'\") in model 365: MultivariateMotif\n",
            "Model Number: 366 with model Theta in generation 3 of 10\n",
            "Template Eval Error: ModuleNotFoundError(\"No module named 'statsmodels.tsa.forecasting'\") in model 366: Theta\n",
            "Model Number: 367 with model Theta in generation 3 of 10\n",
            "Template Eval Error: ModuleNotFoundError(\"No module named 'statsmodels.tsa.forecasting'\") in model 367: Theta\n",
            "Model Number: 368 with model Theta in generation 3 of 10\n",
            "Template Eval Error: ModuleNotFoundError(\"No module named 'statsmodels.tsa.forecasting'\") in model 368: Theta\n",
            "Model Number: 369 with model Theta in generation 3 of 10\n",
            "Template Eval Error: ModuleNotFoundError(\"No module named 'statsmodels.tsa.forecasting'\") in model 369: Theta\n",
            "Model Number: 370 with model ARDL in generation 3 of 10\n",
            "Template Eval Error: ImportError(\"cannot import name 'ARDL' from 'statsmodels.tsa.api' (/usr/local/lib/python3.7/dist-packages/statsmodels/tsa/api.py)\") in model 370: ARDL\n",
            "Model Number: 371 with model ARDL in generation 3 of 10\n",
            "Template Eval Error: ImportError(\"cannot import name 'ARDL' from 'statsmodels.tsa.api' (/usr/local/lib/python3.7/dist-packages/statsmodels/tsa/api.py)\") in model 371: ARDL\n",
            "Model Number: 372 with model ARDL in generation 3 of 10\n",
            "Template Eval Error: ImportError(\"cannot import name 'ARDL' from 'statsmodels.tsa.api' (/usr/local/lib/python3.7/dist-packages/statsmodels/tsa/api.py)\") in model 372: ARDL\n",
            "Model Number: 373 with model ARDL in generation 3 of 10\n",
            "Template Eval Error: ImportError(\"cannot import name 'ARDL' from 'statsmodels.tsa.api' (/usr/local/lib/python3.7/dist-packages/statsmodels/tsa/api.py)\") in model 373: ARDL\n",
            "New Generation: 4 of 10\n",
            "Model Number: 374 with model LastValueNaive in generation 4 of 10\n",
            "Model Number: 375 with model LastValueNaive in generation 4 of 10\n",
            "Model Number: 376 with model LastValueNaive in generation 4 of 10\n",
            "Model Number: 377 with model DatepartRegression in generation 4 of 10\n",
            "Model Number: 378 with model DatepartRegression in generation 4 of 10\n",
            "Template Eval Error: ValueError(\"regression_type='User' but no future_regressor passed\") in model 378: DatepartRegression\n",
            "Model Number: 379 with model DatepartRegression in generation 4 of 10\n"
          ]
        },
        {
          "output_type": "stream",
          "name": "stderr",
          "text": [
            "/usr/local/lib/python3.7/dist-packages/sklearn/svm/_base.py:1208: ConvergenceWarning:\n",
            "\n",
            "Liblinear failed to converge, increase the number of iterations.\n",
            "\n"
          ]
        },
        {
          "output_type": "stream",
          "name": "stdout",
          "text": [
            "Model Number: 380 with model UnobservedComponents in generation 4 of 10\n",
            "Template Eval Error: ValueError(\"regression_type='User' but no future_regressor supplied\") in model 380: UnobservedComponents\n",
            "Model Number: 381 with model UnobservedComponents in generation 4 of 10\n",
            "Template Eval Error: ValueError(\"regression_type='User' but no future_regressor supplied\") in model 381: UnobservedComponents\n",
            "Model Number: 382 with model UnobservedComponents in generation 4 of 10\n",
            "Model Number: 383 with model SeasonalNaive in generation 4 of 10\n",
            "Model Number: 384 with model SeasonalNaive in generation 4 of 10\n",
            "Model Number: 385 with model SeasonalNaive in generation 4 of 10\n",
            "Model Number: 386 with model SeasonalNaive in generation 4 of 10\n",
            "Model Number: 387 with model ETS in generation 4 of 10\n",
            "Model Number: 388 with model ETS in generation 4 of 10\n",
            "Model Number: 389 with model ETS in generation 4 of 10\n",
            "Model Number: 390 with model ETS in generation 4 of 10\n",
            "Model Number: 391 with model FBProphet in generation 4 of 10\n"
          ]
        },
        {
          "output_type": "stream",
          "name": "stderr",
          "text": [
            "INFO:fbprophet:Disabling yearly seasonality. Run prophet with yearly_seasonality=True to override this.\n",
            "INFO:fbprophet:Disabling daily seasonality. Run prophet with daily_seasonality=True to override this.\n",
            "INFO:fbprophet:Disabling yearly seasonality. Run prophet with yearly_seasonality=True to override this.\n",
            "INFO:fbprophet:Disabling daily seasonality. Run prophet with daily_seasonality=True to override this.\n"
          ]
        },
        {
          "output_type": "stream",
          "name": "stdout",
          "text": [
            "Model Number: 392 with model FBProphet in generation 4 of 10\n"
          ]
        },
        {
          "output_type": "stream",
          "name": "stderr",
          "text": [
            "INFO:fbprophet:Disabling yearly seasonality. Run prophet with yearly_seasonality=True to override this.\n",
            "INFO:fbprophet:Disabling daily seasonality. Run prophet with daily_seasonality=True to override this.\n"
          ]
        },
        {
          "output_type": "stream",
          "name": "stdout",
          "text": [
            "Model Number: 393 with model FBProphet in generation 4 of 10\n"
          ]
        },
        {
          "output_type": "stream",
          "name": "stderr",
          "text": [
            "INFO:fbprophet:Disabling yearly seasonality. Run prophet with yearly_seasonality=True to override this.\n",
            "INFO:fbprophet:Disabling daily seasonality. Run prophet with daily_seasonality=True to override this.\n"
          ]
        },
        {
          "output_type": "stream",
          "name": "stdout",
          "text": [
            "Model Number: 394 with model FBProphet in generation 4 of 10\n",
            "Model Number: 395 with model GLM in generation 4 of 10\n",
            "Template Eval Error: ValueError('NaN, inf or invalid value detected in weights, estimation infeasible.') in model 395: GLM\n",
            "Model Number: 396 with model GLM in generation 4 of 10\n"
          ]
        },
        {
          "output_type": "stream",
          "name": "stderr",
          "text": [
            "/usr/local/lib/python3.7/dist-packages/statsmodels/genmod/families/links.py:521: RuntimeWarning:\n",
            "\n",
            "overflow encountered in exp\n",
            "\n",
            "/usr/local/lib/python3.7/dist-packages/statsmodels/genmod/families/family.py:134: RuntimeWarning:\n",
            "\n",
            "invalid value encountered in multiply\n",
            "\n",
            "/usr/local/lib/python3.7/dist-packages/statsmodels/genmod/generalized_linear_model.py:1163: RuntimeWarning:\n",
            "\n",
            "invalid value encountered in multiply\n",
            "\n",
            "/usr/local/lib/python3.7/dist-packages/sklearn/linear_model/_coordinate_descent.py:648: ConvergenceWarning:\n",
            "\n",
            "Objective did not converge. You might want to increase the number of iterations, check the scale of the features or consider increasing regularisation. Duality gap: 1.933e-02, tolerance: 5.184e-04\n",
            "\n"
          ]
        },
        {
          "output_type": "stream",
          "name": "stdout",
          "text": [
            "Model Number: 397 with model GLM in generation 4 of 10\n",
            "Template Eval Error: ValueError('NaN, inf or invalid value detected in weights, estimation infeasible.') in model 397: GLM\n",
            "Model Number: 398 with model GLM in generation 4 of 10\n",
            "Model Number: 399 with model GLS in generation 4 of 10\n"
          ]
        },
        {
          "output_type": "stream",
          "name": "stderr",
          "text": [
            "/usr/local/lib/python3.7/dist-packages/statsmodels/genmod/families/links.py:521: RuntimeWarning:\n",
            "\n",
            "overflow encountered in exp\n",
            "\n",
            "/usr/local/lib/python3.7/dist-packages/statsmodels/genmod/families/family.py:134: RuntimeWarning:\n",
            "\n",
            "invalid value encountered in multiply\n",
            "\n",
            "/usr/local/lib/python3.7/dist-packages/statsmodels/genmod/generalized_linear_model.py:1163: RuntimeWarning:\n",
            "\n",
            "invalid value encountered in multiply\n",
            "\n",
            "/usr/local/lib/python3.7/dist-packages/statsmodels/genmod/families/family.py:1223: RuntimeWarning:\n",
            "\n",
            "divide by zero encountered in true_divide\n",
            "\n"
          ]
        },
        {
          "output_type": "stream",
          "name": "stdout",
          "text": [
            "Model Number: 400 with model GLS in generation 4 of 10\n",
            "Model Number: 401 with model NVAR in generation 4 of 10\n",
            "Model Number: 402 with model NVAR in generation 4 of 10\n",
            "Model Number: 403 with model NVAR in generation 4 of 10\n",
            "Model Number: 404 with model NVAR in generation 4 of 10\n",
            "Model Number: 405 with model AverageValueNaive in generation 4 of 10\n",
            "Model Number: 406 with model AverageValueNaive in generation 4 of 10\n",
            "Model Number: 407 with model AverageValueNaive in generation 4 of 10\n",
            "Model Number: 408 with model SectionalMotif in generation 4 of 10\n",
            "Model Number: 409 with model SectionalMotif in generation 4 of 10\n",
            "Model Number: 410 with model SectionalMotif in generation 4 of 10\n",
            "Model Number: 411 with model SectionalMotif in generation 4 of 10\n",
            "Model Number: 412 with model WindowRegression in generation 4 of 10\n",
            "Model Number: 413 with model WindowRegression in generation 4 of 10\n"
          ]
        },
        {
          "output_type": "stream",
          "name": "stderr",
          "text": [
            "/usr/local/lib/python3.7/dist-packages/sklearn/neighbors/_regression.py:470: UserWarning:\n",
            "\n",
            "One or more samples have no neighbors within specified radius; predicting NaN.\n",
            "\n"
          ]
        },
        {
          "output_type": "stream",
          "name": "stdout",
          "text": [
            "Template Eval Error: ValueError(\"Input contains NaN, infinity or a value too large for dtype('float64').\") in model 413: WindowRegression\n",
            "Model Number: 414 with model WindowRegression in generation 4 of 10\n",
            "Model Number: 415 with model ZeroesNaive in generation 4 of 10\n"
          ]
        },
        {
          "output_type": "stream",
          "name": "stderr",
          "text": [
            "/usr/local/lib/python3.7/dist-packages/sklearn/utils/validation.py:985: DataConversionWarning:\n",
            "\n",
            "A column-vector y was passed when a 1d array was expected. Please change the shape of y to (n_samples, ), for example using ravel().\n",
            "\n"
          ]
        },
        {
          "output_type": "stream",
          "name": "stdout",
          "text": [
            "Model Number: 416 with model ZeroesNaive in generation 4 of 10\n",
            "Model Number: 417 with model ZeroesNaive in generation 4 of 10\n",
            "Model Number: 418 with model GluonTS in generation 4 of 10\n",
            "Template Eval Error: ImportError('GluonTS installation not found or installed version is incompatible with AutoTS.') in model 418: GluonTS\n",
            "Model Number: 419 with model GluonTS in generation 4 of 10\n",
            "Template Eval Error: ImportError('GluonTS installation not found or installed version is incompatible with AutoTS.') in model 419: GluonTS\n",
            "Model Number: 420 with model GluonTS in generation 4 of 10\n",
            "Template Eval Error: ImportError('GluonTS installation not found or installed version is incompatible with AutoTS.') in model 420: GluonTS\n",
            "Model Number: 421 with model GluonTS in generation 4 of 10\n",
            "Template Eval Error: ImportError('GluonTS installation not found or installed version is incompatible with AutoTS.') in model 421: GluonTS\n",
            "Model Number: 422 with model VAR in generation 4 of 10\n",
            "Template Eval Error: ValueError('Only gave one variable to VAR') in model 422: VAR\n",
            "Model Number: 423 with model VAR in generation 4 of 10\n",
            "Template Eval Error: ValueError('Only gave one variable to VAR') in model 423: VAR\n",
            "Model Number: 424 with model VAR in generation 4 of 10\n",
            "Template Eval Error: ValueError('Only gave one variable to VAR') in model 424: VAR\n",
            "Model Number: 425 with model VAR in generation 4 of 10\n",
            "Template Eval Error: ValueError('Only gave one variable to VAR') in model 425: VAR\n",
            "Model Number: 426 with model VECM in generation 4 of 10\n",
            "Template Eval Error: ValueError('Only gave one variable to VECM') in model 426: VECM\n",
            "Model Number: 427 with model VECM in generation 4 of 10\n",
            "Template Eval Error: ValueError('Only gave one variable to VECM') in model 427: VECM\n",
            "Model Number: 428 with model VECM in generation 4 of 10\n",
            "Template Eval Error: ValueError(\"regression_type='User' but no future_regressor supplied\") in model 428: VECM\n",
            "Model Number: 429 with model VECM in generation 4 of 10\n",
            "Template Eval Error: ValueError('Only gave one variable to VECM') in model 429: VECM\n",
            "Model Number: 430 with model UnivariateRegression in generation 4 of 10\n",
            "Template Eval Error: TypeError(\"unsupported operand type(s) for -: 'NoneType' and 'int'\") in model 430: UnivariateRegression\n",
            "Model Number: 431 with model UnivariateRegression in generation 4 of 10\n",
            "Template Eval Error: TypeError(\"unsupported operand type(s) for -: 'NoneType' and 'int'\") in model 431: UnivariateRegression\n",
            "Model Number: 432 with model UnivariateRegression in generation 4 of 10\n",
            "Template Eval Error: ValueError(\"regression_type='User' but not future_regressor supplied.\") in model 432: UnivariateRegression\n",
            "Model Number: 433 with model UnivariateRegression in generation 4 of 10\n",
            "Template Eval Error: TypeError(\"unsupported operand type(s) for -: 'NoneType' and 'int'\") in model 433: UnivariateRegression\n",
            "Model Number: 434 with model UnivariateMotif in generation 4 of 10\n",
            "Template Eval Error: AttributeError(\"module 'numpy.lib.stride_tricks' has no attribute 'sliding_window_view'\") in model 434: UnivariateMotif\n",
            "Model Number: 435 with model UnivariateMotif in generation 4 of 10\n",
            "Template Eval Error: AttributeError(\"module 'numpy.lib.stride_tricks' has no attribute 'sliding_window_view'\") in model 435: UnivariateMotif\n",
            "Model Number: 436 with model UnivariateMotif in generation 4 of 10\n",
            "Template Eval Error: AttributeError(\"module 'numpy.lib.stride_tricks' has no attribute 'sliding_window_view'\") in model 436: UnivariateMotif\n",
            "Model Number: 437 with model UnivariateMotif in generation 4 of 10\n",
            "Template Eval Error: AttributeError(\"module 'numpy.lib.stride_tricks' has no attribute 'sliding_window_view'\") in model 437: UnivariateMotif\n",
            "Model Number: 438 with model MultivariateMotif in generation 4 of 10\n",
            "Template Eval Error: AttributeError(\"module 'numpy.lib.stride_tricks' has no attribute 'sliding_window_view'\") in model 438: MultivariateMotif\n",
            "Model Number: 439 with model MultivariateMotif in generation 4 of 10\n",
            "Template Eval Error: AttributeError(\"module 'numpy.lib.stride_tricks' has no attribute 'sliding_window_view'\") in model 439: MultivariateMotif\n",
            "Model Number: 440 with model MultivariateMotif in generation 4 of 10\n",
            "Template Eval Error: AttributeError(\"module 'numpy.lib.stride_tricks' has no attribute 'sliding_window_view'\") in model 440: MultivariateMotif\n",
            "Model Number: 441 with model MultivariateMotif in generation 4 of 10\n",
            "Template Eval Error: AttributeError(\"module 'numpy.lib.stride_tricks' has no attribute 'sliding_window_view'\") in model 441: MultivariateMotif\n",
            "Model Number: 442 with model Theta in generation 4 of 10\n",
            "Template Eval Error: ModuleNotFoundError(\"No module named 'statsmodels.tsa.forecasting'\") in model 442: Theta\n",
            "Model Number: 443 with model Theta in generation 4 of 10\n",
            "Template Eval Error: ModuleNotFoundError(\"No module named 'statsmodels.tsa.forecasting'\") in model 443: Theta\n",
            "Model Number: 444 with model Theta in generation 4 of 10\n",
            "Template Eval Error: ModuleNotFoundError(\"No module named 'statsmodels.tsa.forecasting'\") in model 444: Theta\n",
            "Model Number: 445 with model Theta in generation 4 of 10\n",
            "Template Eval Error: ModuleNotFoundError(\"No module named 'statsmodels.tsa.forecasting'\") in model 445: Theta\n",
            "Model Number: 446 with model ARDL in generation 4 of 10\n",
            "Template Eval Error: ImportError(\"cannot import name 'ARDL' from 'statsmodels.tsa.api' (/usr/local/lib/python3.7/dist-packages/statsmodels/tsa/api.py)\") in model 446: ARDL\n",
            "Model Number: 447 with model ARDL in generation 4 of 10\n",
            "Template Eval Error: ImportError(\"cannot import name 'ARDL' from 'statsmodels.tsa.api' (/usr/local/lib/python3.7/dist-packages/statsmodels/tsa/api.py)\") in model 447: ARDL\n",
            "Model Number: 448 with model ARDL in generation 4 of 10\n",
            "Template Eval Error: ImportError(\"cannot import name 'ARDL' from 'statsmodels.tsa.api' (/usr/local/lib/python3.7/dist-packages/statsmodels/tsa/api.py)\") in model 448: ARDL\n",
            "Model Number: 449 with model ARDL in generation 4 of 10\n",
            "Template Eval Error: ImportError(\"cannot import name 'ARDL' from 'statsmodels.tsa.api' (/usr/local/lib/python3.7/dist-packages/statsmodels/tsa/api.py)\") in model 449: ARDL\n",
            "New Generation: 5 of 10\n",
            "Model Number: 450 with model LastValueNaive in generation 5 of 10\n",
            "Model Number: 451 with model LastValueNaive in generation 5 of 10\n",
            "Model Number: 452 with model LastValueNaive in generation 5 of 10\n",
            "Model Number: 453 with model DatepartRegression in generation 5 of 10\n",
            "Model Number: 454 with model DatepartRegression in generation 5 of 10\n",
            "Model Number: 455 with model DatepartRegression in generation 5 of 10\n",
            "Template Eval Error: ValueError(\"regression_type='User' but no future_regressor passed\") in model 455: DatepartRegression\n",
            "Model Number: 456 with model UnobservedComponents in generation 5 of 10\n",
            "Template Eval Error: ValueError(\"regression_type='User' but no future_regressor supplied\") in model 456: UnobservedComponents\n",
            "Model Number: 457 with model UnobservedComponents in generation 5 of 10\n",
            "Template Eval Error: TypeError('issubclass() arg 2 must be a class or tuple of classes') in model 457: UnobservedComponents\n",
            "Model Number: 458 with model UnobservedComponents in generation 5 of 10\n",
            "Template Eval Error: ValueError(\"regression_type='User' but no future_regressor supplied\") in model 458: UnobservedComponents\n",
            "Model Number: 459 with model SeasonalNaive in generation 5 of 10\n",
            "Model Number: 460 with model SeasonalNaive in generation 5 of 10\n",
            "Model Number: 461 with model SeasonalNaive in generation 5 of 10\n",
            "Model Number: 462 with model SeasonalNaive in generation 5 of 10\n",
            "Model Number: 463 with model ETS in generation 5 of 10\n",
            "Model Number: 464 with model ETS in generation 5 of 10\n",
            "Model Number: 465 with model ETS in generation 5 of 10\n",
            "Model Number: 466 with model ETS in generation 5 of 10\n",
            "Model Number: 467 with model FBProphet in generation 5 of 10\n"
          ]
        },
        {
          "output_type": "stream",
          "name": "stderr",
          "text": [
            "INFO:fbprophet:Disabling yearly seasonality. Run prophet with yearly_seasonality=True to override this.\n",
            "INFO:fbprophet:Disabling daily seasonality. Run prophet with daily_seasonality=True to override this.\n",
            "INFO:fbprophet:Disabling yearly seasonality. Run prophet with yearly_seasonality=True to override this.\n",
            "INFO:fbprophet:Disabling daily seasonality. Run prophet with daily_seasonality=True to override this.\n"
          ]
        },
        {
          "output_type": "stream",
          "name": "stdout",
          "text": [
            "Model Number: 468 with model FBProphet in generation 5 of 10\n"
          ]
        },
        {
          "output_type": "stream",
          "name": "stderr",
          "text": [
            "INFO:fbprophet:Disabling yearly seasonality. Run prophet with yearly_seasonality=True to override this.\n",
            "INFO:fbprophet:Disabling daily seasonality. Run prophet with daily_seasonality=True to override this.\n"
          ]
        },
        {
          "output_type": "stream",
          "name": "stdout",
          "text": [
            "Model Number: 469 with model FBProphet in generation 5 of 10\n"
          ]
        },
        {
          "output_type": "stream",
          "name": "stderr",
          "text": [
            "INFO:fbprophet:Disabling yearly seasonality. Run prophet with yearly_seasonality=True to override this.\n",
            "INFO:fbprophet:Disabling daily seasonality. Run prophet with daily_seasonality=True to override this.\n"
          ]
        },
        {
          "output_type": "stream",
          "name": "stdout",
          "text": [
            "Model Number: 470 with model FBProphet in generation 5 of 10\n",
            "Model Number: 471 with model GLM in generation 5 of 10\n",
            "Template Eval Error: ValueError('The first guess on the deviance function returned a nan.  This could be a boundary  problem and should be reported.') in model 471: GLM\n",
            "Model Number: 472 with model GLM in generation 5 of 10\n",
            "Template Eval Error: ValueError('The first guess on the deviance function returned a nan.  This could be a boundary  problem and should be reported.') in model 472: GLM\n",
            "Model Number: 473 with model GLM in generation 5 of 10\n"
          ]
        },
        {
          "output_type": "stream",
          "name": "stderr",
          "text": [
            "/usr/local/lib/python3.7/dist-packages/statsmodels/genmod/families/family.py:1227: RuntimeWarning:\n",
            "\n",
            "invalid value encountered in log\n",
            "\n",
            "/usr/local/lib/python3.7/dist-packages/statsmodels/genmod/families/family.py:1227: RuntimeWarning:\n",
            "\n",
            "divide by zero encountered in log\n",
            "\n",
            "/usr/local/lib/python3.7/dist-packages/statsmodels/genmod/families/family.py:1227: RuntimeWarning:\n",
            "\n",
            "invalid value encountered in multiply\n",
            "\n"
          ]
        },
        {
          "output_type": "stream",
          "name": "stdout",
          "text": [
            "Model Number: 474 with model GLM in generation 5 of 10\n",
            "Model Number: 475 with model GLS in generation 5 of 10\n"
          ]
        },
        {
          "output_type": "stream",
          "name": "stderr",
          "text": [
            "/usr/local/lib/python3.7/dist-packages/statsmodels/genmod/families/family.py:1223: RuntimeWarning:\n",
            "\n",
            "divide by zero encountered in true_divide\n",
            "\n"
          ]
        },
        {
          "output_type": "stream",
          "name": "stdout",
          "text": [
            "Model Number: 476 with model GLS in generation 5 of 10\n",
            "Model Number: 477 with model GLS in generation 5 of 10\n",
            "Model Number: 478 with model NVAR in generation 5 of 10\n",
            "Model Number: 479 with model NVAR in generation 5 of 10\n",
            "Model Number: 480 with model NVAR in generation 5 of 10\n",
            "Model Number: 481 with model NVAR in generation 5 of 10\n",
            "Model Number: 482 with model AverageValueNaive in generation 5 of 10\n",
            "Model Number: 483 with model AverageValueNaive in generation 5 of 10\n",
            "Model Number: 484 with model AverageValueNaive in generation 5 of 10\n",
            "Model Number: 485 with model SectionalMotif in generation 5 of 10\n",
            "Model Number: 486 with model SectionalMotif in generation 5 of 10\n",
            "Model Number: 487 with model SectionalMotif in generation 5 of 10\n",
            "Model Number: 488 with model SectionalMotif in generation 5 of 10\n",
            "Model Number: 489 with model WindowRegression in generation 5 of 10\n",
            "Template Eval Error: ValueError(\"regression_type='User' but no future_regressor passed\") in model 489: WindowRegression\n",
            "Model Number: 490 with model WindowRegression in generation 5 of 10\n",
            "Model Number: 491 with model WindowRegression in generation 5 of 10\n",
            "Template Eval Error: ValueError('Some value(s) of y are out of the valid range for family PoissonDistribution') in model 491: WindowRegression\n",
            "Model Number: 492 with model ZeroesNaive in generation 5 of 10\n",
            "Model Number: 493 with model ZeroesNaive in generation 5 of 10\n",
            "Model Number: 494 with model GluonTS in generation 5 of 10\n",
            "Template Eval Error: ImportError('GluonTS installation not found or installed version is incompatible with AutoTS.') in model 494: GluonTS\n",
            "Model Number: 495 with model GluonTS in generation 5 of 10\n",
            "Template Eval Error: ImportError('GluonTS installation not found or installed version is incompatible with AutoTS.') in model 495: GluonTS\n",
            "Model Number: 496 with model GluonTS in generation 5 of 10\n",
            "Template Eval Error: ImportError('GluonTS installation not found or installed version is incompatible with AutoTS.') in model 496: GluonTS\n",
            "Model Number: 497 with model GluonTS in generation 5 of 10\n",
            "Template Eval Error: ImportError('GluonTS installation not found or installed version is incompatible with AutoTS.') in model 497: GluonTS\n",
            "Model Number: 498 with model VAR in generation 5 of 10\n",
            "Template Eval Error: ValueError('Only gave one variable to VAR') in model 498: VAR\n",
            "Model Number: 499 with model VAR in generation 5 of 10\n",
            "Template Eval Error: ValueError('Only gave one variable to VAR') in model 499: VAR\n",
            "Model Number: 500 with model VAR in generation 5 of 10\n",
            "Template Eval Error: ValueError('Only gave one variable to VAR') in model 500: VAR\n",
            "Model Number: 501 with model VAR in generation 5 of 10\n",
            "Template Eval Error: ValueError('Only gave one variable to VAR') in model 501: VAR\n",
            "Model Number: 502 with model VECM in generation 5 of 10\n",
            "Template Eval Error: ValueError('Only gave one variable to VECM') in model 502: VECM\n",
            "Model Number: 503 with model VECM in generation 5 of 10\n",
            "Template Eval Error: ValueError('Only gave one variable to VECM') in model 503: VECM\n",
            "Model Number: 504 with model VECM in generation 5 of 10\n",
            "Template Eval Error: ValueError('Only gave one variable to VECM') in model 504: VECM\n",
            "Model Number: 505 with model VECM in generation 5 of 10\n",
            "Template Eval Error: ValueError('Only gave one variable to VECM') in model 505: VECM\n",
            "Model Number: 506 with model UnivariateRegression in generation 5 of 10\n",
            "Template Eval Error: TypeError(\"unsupported operand type(s) for -: 'NoneType' and 'int'\") in model 506: UnivariateRegression\n",
            "Model Number: 507 with model UnivariateRegression in generation 5 of 10\n",
            "Template Eval Error: TypeError(\"unsupported operand type(s) for -: 'NoneType' and 'int'\") in model 507: UnivariateRegression\n",
            "Model Number: 508 with model UnivariateRegression in generation 5 of 10\n",
            "Template Eval Error: TypeError(\"unsupported operand type(s) for -: 'NoneType' and 'int'\") in model 508: UnivariateRegression\n",
            "Model Number: 509 with model UnivariateRegression in generation 5 of 10\n",
            "Template Eval Error: TypeError(\"unsupported operand type(s) for -: 'NoneType' and 'int'\") in model 509: UnivariateRegression\n",
            "Model Number: 510 with model UnivariateMotif in generation 5 of 10\n",
            "Template Eval Error: AttributeError(\"module 'numpy.lib.stride_tricks' has no attribute 'sliding_window_view'\") in model 510: UnivariateMotif\n",
            "Model Number: 511 with model UnivariateMotif in generation 5 of 10\n",
            "Template Eval Error: AttributeError(\"module 'numpy.lib.stride_tricks' has no attribute 'sliding_window_view'\") in model 511: UnivariateMotif\n",
            "Model Number: 512 with model UnivariateMotif in generation 5 of 10\n",
            "Template Eval Error: AttributeError(\"module 'numpy.lib.stride_tricks' has no attribute 'sliding_window_view'\") in model 512: UnivariateMotif\n",
            "Model Number: 513 with model UnivariateMotif in generation 5 of 10\n",
            "Template Eval Error: AttributeError(\"module 'numpy.lib.stride_tricks' has no attribute 'sliding_window_view'\") in model 513: UnivariateMotif\n",
            "Model Number: 514 with model MultivariateMotif in generation 5 of 10\n",
            "Template Eval Error: AttributeError(\"module 'numpy.lib.stride_tricks' has no attribute 'sliding_window_view'\") in model 514: MultivariateMotif\n",
            "Model Number: 515 with model MultivariateMotif in generation 5 of 10\n",
            "Template Eval Error: AttributeError(\"module 'numpy.lib.stride_tricks' has no attribute 'sliding_window_view'\") in model 515: MultivariateMotif\n",
            "Model Number: 516 with model MultivariateMotif in generation 5 of 10\n",
            "Template Eval Error: AttributeError(\"module 'numpy.lib.stride_tricks' has no attribute 'sliding_window_view'\") in model 516: MultivariateMotif\n",
            "Model Number: 517 with model MultivariateMotif in generation 5 of 10\n",
            "Template Eval Error: AttributeError(\"module 'numpy.lib.stride_tricks' has no attribute 'sliding_window_view'\") in model 517: MultivariateMotif\n",
            "Model Number: 518 with model Theta in generation 5 of 10\n",
            "Template Eval Error: ModuleNotFoundError(\"No module named 'statsmodels.tsa.forecasting'\") in model 518: Theta\n",
            "Model Number: 519 with model Theta in generation 5 of 10\n",
            "Template Eval Error: ModuleNotFoundError(\"No module named 'statsmodels.tsa.forecasting'\") in model 519: Theta\n",
            "Model Number: 520 with model Theta in generation 5 of 10\n",
            "Template Eval Error: ModuleNotFoundError(\"No module named 'statsmodels.tsa.forecasting'\") in model 520: Theta\n",
            "Model Number: 521 with model Theta in generation 5 of 10\n",
            "Template Eval Error: ModuleNotFoundError(\"No module named 'statsmodels.tsa.forecasting'\") in model 521: Theta\n",
            "Model Number: 522 with model ARDL in generation 5 of 10\n",
            "Template Eval Error: ImportError(\"cannot import name 'ARDL' from 'statsmodels.tsa.api' (/usr/local/lib/python3.7/dist-packages/statsmodels/tsa/api.py)\") in model 522: ARDL\n",
            "Model Number: 523 with model ARDL in generation 5 of 10\n",
            "Template Eval Error: ImportError(\"cannot import name 'ARDL' from 'statsmodels.tsa.api' (/usr/local/lib/python3.7/dist-packages/statsmodels/tsa/api.py)\") in model 523: ARDL\n",
            "Model Number: 524 with model ARDL in generation 5 of 10\n",
            "Template Eval Error: ImportError(\"cannot import name 'ARDL' from 'statsmodels.tsa.api' (/usr/local/lib/python3.7/dist-packages/statsmodels/tsa/api.py)\") in model 524: ARDL\n",
            "Model Number: 525 with model ARDL in generation 5 of 10\n",
            "Template Eval Error: ValueError(\"regression_type='User' but future_regressor not supplied\") in model 525: ARDL\n",
            "New Generation: 6 of 10\n",
            "Model Number: 526 with model LastValueNaive in generation 6 of 10\n",
            "Model Number: 527 with model LastValueNaive in generation 6 of 10\n",
            "Model Number: 528 with model LastValueNaive in generation 6 of 10\n",
            "Model Number: 529 with model DatepartRegression in generation 6 of 10\n",
            "Epoch 1/50\n",
            "2/2 [==============================] - 6s 14ms/step - loss: 0.0965\n",
            "Epoch 2/50\n",
            "2/2 [==============================] - 0s 11ms/step - loss: 0.0958\n",
            "Epoch 3/50\n",
            "2/2 [==============================] - 0s 14ms/step - loss: 0.0969\n",
            "Epoch 4/50\n",
            "2/2 [==============================] - 0s 13ms/step - loss: 0.0965\n",
            "Epoch 5/50\n",
            "2/2 [==============================] - 0s 12ms/step - loss: 0.0964\n",
            "Epoch 6/50\n",
            "2/2 [==============================] - 0s 14ms/step - loss: 0.0957\n",
            "Epoch 7/50\n",
            "2/2 [==============================] - 0s 13ms/step - loss: 0.0962\n",
            "Epoch 8/50\n",
            "2/2 [==============================] - 0s 12ms/step - loss: 0.0960\n",
            "Epoch 9/50\n",
            "2/2 [==============================] - 0s 16ms/step - loss: 0.0960\n",
            "Epoch 10/50\n",
            "2/2 [==============================] - 0s 12ms/step - loss: 0.0964\n",
            "Epoch 11/50\n",
            "2/2 [==============================] - 0s 15ms/step - loss: 0.0962\n",
            "Epoch 12/50\n",
            "2/2 [==============================] - 0s 13ms/step - loss: 0.0965\n",
            "Epoch 13/50\n",
            "2/2 [==============================] - 0s 13ms/step - loss: 0.0961\n",
            "Epoch 14/50\n",
            "2/2 [==============================] - 0s 12ms/step - loss: 0.0961\n",
            "Epoch 15/50\n",
            "2/2 [==============================] - 0s 17ms/step - loss: 0.0960\n",
            "Epoch 16/50\n",
            "2/2 [==============================] - 0s 13ms/step - loss: 0.0964\n",
            "Epoch 17/50\n",
            "2/2 [==============================] - 0s 16ms/step - loss: 0.0961\n",
            "Epoch 18/50\n",
            "2/2 [==============================] - 0s 15ms/step - loss: 0.0960\n",
            "Epoch 19/50\n",
            "2/2 [==============================] - 0s 14ms/step - loss: 0.0960\n",
            "Epoch 20/50\n",
            "2/2 [==============================] - 0s 16ms/step - loss: 0.0962\n",
            "Epoch 21/50\n",
            "2/2 [==============================] - 0s 14ms/step - loss: 0.0961\n",
            "Epoch 22/50\n",
            "2/2 [==============================] - 0s 16ms/step - loss: 0.0962\n",
            "Epoch 23/50\n",
            "2/2 [==============================] - 0s 16ms/step - loss: 0.0963\n",
            "Epoch 24/50\n",
            "2/2 [==============================] - 0s 13ms/step - loss: 0.0955\n",
            "Epoch 25/50\n",
            "2/2 [==============================] - 0s 20ms/step - loss: 0.0963\n",
            "Epoch 26/50\n",
            "2/2 [==============================] - 0s 12ms/step - loss: 0.0960\n",
            "Epoch 27/50\n",
            "2/2 [==============================] - 0s 14ms/step - loss: 0.0958\n",
            "Epoch 28/50\n",
            "2/2 [==============================] - 0s 15ms/step - loss: 0.0954\n",
            "Epoch 29/50\n",
            "2/2 [==============================] - 0s 13ms/step - loss: 0.0960\n",
            "Epoch 30/50\n",
            "2/2 [==============================] - 0s 17ms/step - loss: 0.0962\n",
            "Epoch 31/50\n",
            "2/2 [==============================] - 0s 14ms/step - loss: 0.0956\n",
            "Epoch 32/50\n",
            "2/2 [==============================] - 0s 17ms/step - loss: 0.0958\n",
            "Epoch 33/50\n",
            "2/2 [==============================] - 0s 15ms/step - loss: 0.0951\n",
            "Epoch 34/50\n",
            "2/2 [==============================] - 0s 14ms/step - loss: 0.0964\n",
            "Epoch 35/50\n",
            "2/2 [==============================] - 0s 12ms/step - loss: 0.0959\n",
            "Epoch 36/50\n",
            "2/2 [==============================] - 0s 12ms/step - loss: 0.0955\n",
            "Epoch 37/50\n",
            "2/2 [==============================] - 0s 15ms/step - loss: 0.0953\n",
            "Epoch 38/50\n",
            "2/2 [==============================] - 0s 15ms/step - loss: 0.0956\n",
            "Epoch 39/50\n",
            "2/2 [==============================] - 0s 12ms/step - loss: 0.0955\n",
            "Epoch 40/50\n",
            "2/2 [==============================] - 0s 10ms/step - loss: 0.0957\n",
            "Epoch 41/50\n",
            "2/2 [==============================] - 0s 10ms/step - loss: 0.0962\n",
            "Epoch 42/50\n",
            "2/2 [==============================] - 0s 10ms/step - loss: 0.0957\n",
            "Epoch 43/50\n",
            "2/2 [==============================] - 0s 15ms/step - loss: 0.0954\n",
            "Epoch 44/50\n",
            "2/2 [==============================] - 0s 13ms/step - loss: 0.0963\n",
            "Epoch 45/50\n",
            "2/2 [==============================] - 0s 8ms/step - loss: 0.0957\n",
            "Epoch 46/50\n",
            "2/2 [==============================] - 0s 14ms/step - loss: 0.0952\n",
            "Epoch 47/50\n",
            "2/2 [==============================] - 0s 20ms/step - loss: 0.0958\n",
            "Epoch 48/50\n",
            "2/2 [==============================] - 0s 18ms/step - loss: 0.0954\n",
            "Epoch 49/50\n",
            "2/2 [==============================] - 0s 12ms/step - loss: 0.0962\n",
            "Epoch 50/50\n",
            "2/2 [==============================] - 0s 16ms/step - loss: 0.0951\n",
            "Model Number: 530 with model DatepartRegression in generation 6 of 10\n",
            "Template Eval Error: ValueError(\"regression_type='User' but no future_regressor passed\") in model 530: DatepartRegression\n",
            "Model Number: 531 with model DatepartRegression in generation 6 of 10\n",
            "Model Number: 532 with model UnobservedComponents in generation 6 of 10\n",
            "Template Eval Error: TypeError('issubclass() arg 2 must be a class or tuple of classes') in model 532: UnobservedComponents\n",
            "Model Number: 533 with model UnobservedComponents in generation 6 of 10\n",
            "Model Number: 534 with model UnobservedComponents in generation 6 of 10\n",
            "Template Eval Error: ValueError(\"regression_type='User' but no future_regressor supplied\") in model 534: UnobservedComponents\n",
            "Model Number: 535 with model SeasonalNaive in generation 6 of 10\n",
            "Model Number: 536 with model SeasonalNaive in generation 6 of 10\n",
            "Model Number: 537 with model SeasonalNaive in generation 6 of 10\n",
            "Model Number: 538 with model SeasonalNaive in generation 6 of 10\n",
            "Model Number: 539 with model ETS in generation 6 of 10\n",
            "Model Number: 540 with model ETS in generation 6 of 10\n",
            "Model Number: 541 with model ETS in generation 6 of 10\n",
            "Model Number: 542 with model ETS in generation 6 of 10\n",
            "Model Number: 543 with model FBProphet in generation 6 of 10\n"
          ]
        },
        {
          "output_type": "stream",
          "name": "stderr",
          "text": [
            "INFO:fbprophet:Disabling yearly seasonality. Run prophet with yearly_seasonality=True to override this.\n",
            "INFO:fbprophet:Disabling daily seasonality. Run prophet with daily_seasonality=True to override this.\n",
            "INFO:fbprophet:Disabling yearly seasonality. Run prophet with yearly_seasonality=True to override this.\n",
            "INFO:fbprophet:Disabling daily seasonality. Run prophet with daily_seasonality=True to override this.\n"
          ]
        },
        {
          "output_type": "stream",
          "name": "stdout",
          "text": [
            "Model Number: 544 with model FBProphet in generation 6 of 10\n"
          ]
        },
        {
          "output_type": "stream",
          "name": "stderr",
          "text": [
            "INFO:fbprophet:Disabling yearly seasonality. Run prophet with yearly_seasonality=True to override this.\n",
            "INFO:fbprophet:Disabling daily seasonality. Run prophet with daily_seasonality=True to override this.\n"
          ]
        },
        {
          "output_type": "stream",
          "name": "stdout",
          "text": [
            "Model Number: 545 with model FBProphet in generation 6 of 10\n"
          ]
        },
        {
          "output_type": "stream",
          "name": "stderr",
          "text": [
            "INFO:fbprophet:Disabling yearly seasonality. Run prophet with yearly_seasonality=True to override this.\n",
            "INFO:fbprophet:Disabling daily seasonality. Run prophet with daily_seasonality=True to override this.\n"
          ]
        },
        {
          "output_type": "stream",
          "name": "stdout",
          "text": [
            "Model Number: 546 with model FBProphet in generation 6 of 10\n",
            "Model Number: 547 with model GLM in generation 6 of 10\n",
            "Model Number: 548 with model GLM in generation 6 of 10\n",
            "Model Number: 549 with model GLM in generation 6 of 10\n"
          ]
        },
        {
          "output_type": "stream",
          "name": "stderr",
          "text": [
            "/usr/local/lib/python3.7/dist-packages/statsmodels/genmod/families/family.py:1223: RuntimeWarning:\n",
            "\n",
            "divide by zero encountered in true_divide\n",
            "\n"
          ]
        },
        {
          "output_type": "stream",
          "name": "stdout",
          "text": [
            "Model Number: 550 with model GLM in generation 6 of 10\n",
            "Model Number: 551 with model GLS in generation 6 of 10\n",
            "Model Number: 552 with model GLS in generation 6 of 10\n",
            "Model Number: 553 with model GLS in generation 6 of 10\n",
            "Model Number: 554 with model NVAR in generation 6 of 10\n",
            "Model Number: 555 with model NVAR in generation 6 of 10\n",
            "Model Number: 556 with model NVAR in generation 6 of 10\n",
            "Model Number: 557 with model NVAR in generation 6 of 10\n",
            "Model Number: 558 with model AverageValueNaive in generation 6 of 10\n",
            "Model Number: 559 with model AverageValueNaive in generation 6 of 10\n",
            "Model Number: 560 with model SectionalMotif in generation 6 of 10\n",
            "Model Number: 561 with model SectionalMotif in generation 6 of 10\n",
            "Model Number: 562 with model SectionalMotif in generation 6 of 10\n",
            "Model Number: 563 with model SectionalMotif in generation 6 of 10\n",
            "Model Number: 564 with model WindowRegression in generation 6 of 10\n"
          ]
        },
        {
          "output_type": "stream",
          "name": "stderr",
          "text": [
            "/usr/local/lib/python3.7/dist-packages/sklearn/utils/validation.py:985: DataConversionWarning:\n",
            "\n",
            "A column-vector y was passed when a 1d array was expected. Please change the shape of y to (n_samples, ), for example using ravel().\n",
            "\n"
          ]
        },
        {
          "output_type": "stream",
          "name": "stdout",
          "text": [
            "Model Number: 565 with model WindowRegression in generation 6 of 10\n",
            "Model Number: 566 with model WindowRegression in generation 6 of 10\n",
            "Model Number: 567 with model ZeroesNaive in generation 6 of 10\n",
            "Model Number: 568 with model ZeroesNaive in generation 6 of 10\n",
            "Model Number: 569 with model GluonTS in generation 6 of 10\n",
            "Template Eval Error: ImportError('GluonTS installation not found or installed version is incompatible with AutoTS.') in model 569: GluonTS\n",
            "Model Number: 570 with model GluonTS in generation 6 of 10\n",
            "Template Eval Error: ImportError('GluonTS installation not found or installed version is incompatible with AutoTS.') in model 570: GluonTS\n",
            "Model Number: 571 with model GluonTS in generation 6 of 10\n",
            "Template Eval Error: ImportError('GluonTS installation not found or installed version is incompatible with AutoTS.') in model 571: GluonTS\n",
            "Model Number: 572 with model GluonTS in generation 6 of 10\n",
            "Template Eval Error: ImportError('GluonTS installation not found or installed version is incompatible with AutoTS.') in model 572: GluonTS\n",
            "Model Number: 573 with model VAR in generation 6 of 10\n",
            "Template Eval Error: ValueError('Only gave one variable to VAR') in model 573: VAR\n",
            "Model Number: 574 with model VAR in generation 6 of 10\n",
            "Template Eval Error: ValueError('Only gave one variable to VAR') in model 574: VAR\n",
            "Model Number: 575 with model VAR in generation 6 of 10\n",
            "Template Eval Error: ValueError('Only gave one variable to VAR') in model 575: VAR\n",
            "Model Number: 576 with model VAR in generation 6 of 10\n",
            "Template Eval Error: ValueError('Only gave one variable to VAR') in model 576: VAR\n",
            "Model Number: 577 with model VECM in generation 6 of 10\n",
            "Template Eval Error: ValueError('Only gave one variable to VECM') in model 577: VECM\n",
            "Model Number: 578 with model VECM in generation 6 of 10\n",
            "Template Eval Error: ValueError('Only gave one variable to VECM') in model 578: VECM\n",
            "Model Number: 579 with model VECM in generation 6 of 10\n",
            "Template Eval Error: ValueError('Only gave one variable to VECM') in model 579: VECM\n",
            "Model Number: 580 with model VECM in generation 6 of 10\n",
            "Template Eval Error: ValueError('Only gave one variable to VECM') in model 580: VECM\n",
            "Model Number: 581 with model UnivariateRegression in generation 6 of 10\n",
            "Template Eval Error: TypeError(\"unsupported operand type(s) for -: 'NoneType' and 'int'\") in model 581: UnivariateRegression\n",
            "Model Number: 582 with model UnivariateRegression in generation 6 of 10\n",
            "Template Eval Error: TypeError(\"unsupported operand type(s) for -: 'NoneType' and 'int'\") in model 582: UnivariateRegression\n",
            "Model Number: 583 with model UnivariateRegression in generation 6 of 10\n",
            "Template Eval Error: TypeError(\"unsupported operand type(s) for -: 'NoneType' and 'int'\") in model 583: UnivariateRegression\n",
            "Model Number: 584 with model UnivariateRegression in generation 6 of 10\n",
            "Template Eval Error: ValueError(\"regression_type='User' but not future_regressor supplied.\") in model 584: UnivariateRegression\n",
            "Model Number: 585 with model UnivariateMotif in generation 6 of 10\n",
            "Template Eval Error: AttributeError(\"module 'numpy.lib.stride_tricks' has no attribute 'sliding_window_view'\") in model 585: UnivariateMotif\n",
            "Model Number: 586 with model UnivariateMotif in generation 6 of 10\n",
            "Template Eval Error: AttributeError(\"module 'numpy.lib.stride_tricks' has no attribute 'sliding_window_view'\") in model 586: UnivariateMotif\n",
            "Model Number: 587 with model UnivariateMotif in generation 6 of 10\n",
            "Template Eval Error: AttributeError(\"module 'numpy.lib.stride_tricks' has no attribute 'sliding_window_view'\") in model 587: UnivariateMotif\n",
            "Model Number: 588 with model UnivariateMotif in generation 6 of 10\n",
            "Template Eval Error: AttributeError(\"module 'numpy.lib.stride_tricks' has no attribute 'sliding_window_view'\") in model 588: UnivariateMotif\n",
            "Model Number: 589 with model MultivariateMotif in generation 6 of 10\n",
            "Template Eval Error: AttributeError(\"module 'numpy.lib.stride_tricks' has no attribute 'sliding_window_view'\") in model 589: MultivariateMotif\n",
            "Model Number: 590 with model MultivariateMotif in generation 6 of 10\n",
            "Template Eval Error: AttributeError(\"module 'numpy.lib.stride_tricks' has no attribute 'sliding_window_view'\") in model 590: MultivariateMotif\n",
            "Model Number: 591 with model MultivariateMotif in generation 6 of 10\n",
            "Template Eval Error: AttributeError(\"module 'numpy.lib.stride_tricks' has no attribute 'sliding_window_view'\") in model 591: MultivariateMotif\n",
            "Model Number: 592 with model MultivariateMotif in generation 6 of 10\n",
            "Template Eval Error: AttributeError(\"module 'numpy.lib.stride_tricks' has no attribute 'sliding_window_view'\") in model 592: MultivariateMotif\n",
            "Model Number: 593 with model Theta in generation 6 of 10\n",
            "Template Eval Error: ModuleNotFoundError(\"No module named 'statsmodels.tsa.forecasting'\") in model 593: Theta\n",
            "Model Number: 594 with model Theta in generation 6 of 10\n",
            "Template Eval Error: ModuleNotFoundError(\"No module named 'statsmodels.tsa.forecasting'\") in model 594: Theta\n",
            "Model Number: 595 with model Theta in generation 6 of 10\n",
            "Template Eval Error: ModuleNotFoundError(\"No module named 'statsmodels.tsa.forecasting'\") in model 595: Theta\n",
            "Model Number: 596 with model Theta in generation 6 of 10\n",
            "Template Eval Error: ModuleNotFoundError(\"No module named 'statsmodels.tsa.forecasting'\") in model 596: Theta\n",
            "Model Number: 597 with model ARDL in generation 6 of 10\n",
            "Template Eval Error: ImportError(\"cannot import name 'ARDL' from 'statsmodels.tsa.api' (/usr/local/lib/python3.7/dist-packages/statsmodels/tsa/api.py)\") in model 597: ARDL\n",
            "Model Number: 598 with model ARDL in generation 6 of 10\n",
            "Template Eval Error: ImportError(\"cannot import name 'ARDL' from 'statsmodels.tsa.api' (/usr/local/lib/python3.7/dist-packages/statsmodels/tsa/api.py)\") in model 598: ARDL\n",
            "Model Number: 599 with model ARDL in generation 6 of 10\n",
            "Template Eval Error: ImportError(\"cannot import name 'ARDL' from 'statsmodels.tsa.api' (/usr/local/lib/python3.7/dist-packages/statsmodels/tsa/api.py)\") in model 599: ARDL\n",
            "Model Number: 600 with model ARDL in generation 6 of 10\n",
            "Template Eval Error: ImportError(\"cannot import name 'ARDL' from 'statsmodels.tsa.api' (/usr/local/lib/python3.7/dist-packages/statsmodels/tsa/api.py)\") in model 600: ARDL\n",
            "New Generation: 7 of 10\n",
            "Model Number: 601 with model LastValueNaive in generation 7 of 10\n",
            "Model Number: 602 with model LastValueNaive in generation 7 of 10\n",
            "Model Number: 603 with model DatepartRegression in generation 7 of 10\n",
            "Model Number: 604 with model DatepartRegression in generation 7 of 10\n",
            "Epoch 1/50\n",
            "2/2 [==============================] - 9s 688ms/step - loss: 149367417682788352.0000 - val_loss: 1824901002428416.0000\n",
            "Epoch 2/50\n",
            "2/2 [==============================] - 0s 124ms/step - loss: 90543786114940928.0000 - val_loss: 41479810597257216.0000\n",
            "Epoch 3/50\n",
            "2/2 [==============================] - 0s 120ms/step - loss: 96307400297938944.0000 - val_loss: 32966957783318528.0000\n",
            "Epoch 4/50\n",
            "2/2 [==============================] - 0s 126ms/step - loss: 87192500443283456.0000 - val_loss: 27726275195961344.0000\n",
            "Epoch 5/50\n",
            "2/2 [==============================] - 0s 119ms/step - loss: 96171086625898496.0000 - val_loss: 177067190648832.0000\n",
            "Epoch 6/50\n",
            "2/2 [==============================] - 0s 117ms/step - loss: 84275633533747200.0000 - val_loss: 28584085391671296.0000\n",
            "Epoch 7/50\n",
            "2/2 [==============================] - 0s 125ms/step - loss: 94393262223130624.0000 - val_loss: 22302706458689536.0000\n",
            "Epoch 8/50\n",
            "2/2 [==============================] - 0s 121ms/step - loss: 91062291746783232.0000 - val_loss: 38689155596681216.0000\n",
            "Epoch 9/50\n",
            "2/2 [==============================] - 0s 118ms/step - loss: 87760922185039872.0000 - val_loss: 7653901767540736.0000\n",
            "Epoch 10/50\n",
            "2/2 [==============================] - 0s 124ms/step - loss: 83407500384141312.0000 - val_loss: 38374300134146048.0000\n",
            "Epoch 11/50\n",
            "2/2 [==============================] - 0s 112ms/step - loss: 86856599640997888.0000 - val_loss: 4487090309955584.0000\n",
            "Epoch 12/50\n",
            "2/2 [==============================] - 0s 119ms/step - loss: 96800230615285760.0000 - val_loss: 33181641723609088.0000\n",
            "Epoch 13/50\n",
            "2/2 [==============================] - 0s 112ms/step - loss: 93737248918339584.0000 - val_loss: 43767245754597376.0000\n",
            "Epoch 14/50\n",
            "2/2 [==============================] - 0s 116ms/step - loss: 93635672941789184.0000 - val_loss: 22891922284609536.0000\n",
            "Epoch 15/50\n",
            "2/2 [==============================] - 0s 134ms/step - loss: 84989929544744960.0000 - val_loss: 17786597739069440.0000\n",
            "WARNING:tensorflow:5 out of the last 5 calls to <function Model.make_predict_function.<locals>.predict_function at 0x7f299c209a70> triggered tf.function retracing. Tracing is expensive and the excessive number of tracings could be due to (1) creating @tf.function repeatedly in a loop, (2) passing tensors with different shapes, (3) passing Python objects instead of tensors. For (1), please define your @tf.function outside of the loop. For (2), @tf.function has experimental_relax_shapes=True option that relaxes argument shapes that can avoid unnecessary retracing. For (3), please refer to https://www.tensorflow.org/guide/function#controlling_retracing and https://www.tensorflow.org/api_docs/python/tf/function for  more details.\n"
          ]
        },
        {
          "output_type": "stream",
          "name": "stderr",
          "text": [
            "WARNING:tensorflow:5 out of the last 5 calls to <function Model.make_predict_function.<locals>.predict_function at 0x7f299c209a70> triggered tf.function retracing. Tracing is expensive and the excessive number of tracings could be due to (1) creating @tf.function repeatedly in a loop, (2) passing tensors with different shapes, (3) passing Python objects instead of tensors. For (1), please define your @tf.function outside of the loop. For (2), @tf.function has experimental_relax_shapes=True option that relaxes argument shapes that can avoid unnecessary retracing. For (3), please refer to https://www.tensorflow.org/guide/function#controlling_retracing and https://www.tensorflow.org/api_docs/python/tf/function for  more details.\n"
          ]
        },
        {
          "output_type": "stream",
          "name": "stdout",
          "text": [
            "Model Number: 605 with model DatepartRegression in generation 7 of 10\n",
            "Epoch 1/50\n",
            "3/3 [==============================] - 5s 324ms/step - loss: nan - val_loss: nan\n",
            "Epoch 2/50\n",
            "3/3 [==============================] - 0s 63ms/step - loss: nan - val_loss: nan\n",
            "Epoch 3/50\n",
            "3/3 [==============================] - 0s 50ms/step - loss: nan - val_loss: nan\n",
            "Epoch 4/50\n",
            "3/3 [==============================] - 0s 49ms/step - loss: nan - val_loss: nan\n",
            "Epoch 5/50\n",
            "3/3 [==============================] - 0s 51ms/step - loss: nan - val_loss: nan\n",
            "Epoch 6/50\n",
            "3/3 [==============================] - 0s 51ms/step - loss: nan - val_loss: nan\n",
            "Epoch 7/50\n",
            "3/3 [==============================] - 0s 55ms/step - loss: nan - val_loss: nan\n",
            "Epoch 8/50\n",
            "3/3 [==============================] - 0s 50ms/step - loss: nan - val_loss: nan\n",
            "Epoch 9/50\n",
            "3/3 [==============================] - 0s 52ms/step - loss: nan - val_loss: nan\n",
            "Epoch 10/50\n",
            "3/3 [==============================] - 0s 55ms/step - loss: nan - val_loss: nan\n",
            "WARNING:tensorflow:6 out of the last 6 calls to <function Model.make_predict_function.<locals>.predict_function at 0x7f299d5af290> triggered tf.function retracing. Tracing is expensive and the excessive number of tracings could be due to (1) creating @tf.function repeatedly in a loop, (2) passing tensors with different shapes, (3) passing Python objects instead of tensors. For (1), please define your @tf.function outside of the loop. For (2), @tf.function has experimental_relax_shapes=True option that relaxes argument shapes that can avoid unnecessary retracing. For (3), please refer to https://www.tensorflow.org/guide/function#controlling_retracing and https://www.tensorflow.org/api_docs/python/tf/function for  more details.\n"
          ]
        },
        {
          "output_type": "stream",
          "name": "stderr",
          "text": [
            "WARNING:tensorflow:6 out of the last 6 calls to <function Model.make_predict_function.<locals>.predict_function at 0x7f299d5af290> triggered tf.function retracing. Tracing is expensive and the excessive number of tracings could be due to (1) creating @tf.function repeatedly in a loop, (2) passing tensors with different shapes, (3) passing Python objects instead of tensors. For (1), please define your @tf.function outside of the loop. For (2), @tf.function has experimental_relax_shapes=True option that relaxes argument shapes that can avoid unnecessary retracing. For (3), please refer to https://www.tensorflow.org/guide/function#controlling_retracing and https://www.tensorflow.org/api_docs/python/tf/function for  more details.\n"
          ]
        },
        {
          "output_type": "stream",
          "name": "stdout",
          "text": [
            "Model Number: 606 with model UnobservedComponents in generation 7 of 10\n",
            "Model Number: 607 with model UnobservedComponents in generation 7 of 10\n",
            "Template Eval Error: TypeError('issubclass() arg 2 must be a class or tuple of classes') in model 607: UnobservedComponents\n",
            "Model Number: 608 with model UnobservedComponents in generation 7 of 10\n",
            "Template Eval Error: TypeError('issubclass() arg 2 must be a class or tuple of classes') in model 608: UnobservedComponents\n",
            "Model Number: 609 with model SeasonalNaive in generation 7 of 10\n",
            "Model Number: 610 with model SeasonalNaive in generation 7 of 10\n",
            "Model Number: 611 with model SeasonalNaive in generation 7 of 10\n",
            "Model Number: 612 with model SeasonalNaive in generation 7 of 10\n",
            "Model Number: 613 with model WindowRegression in generation 7 of 10\n",
            "Model Number: 614 with model WindowRegression in generation 7 of 10\n"
          ]
        },
        {
          "output_type": "stream",
          "name": "stderr",
          "text": [
            "/usr/local/lib/python3.7/dist-packages/sklearn/neighbors/_regression.py:470: UserWarning:\n",
            "\n",
            "One or more samples have no neighbors within specified radius; predicting NaN.\n",
            "\n"
          ]
        },
        {
          "output_type": "stream",
          "name": "stdout",
          "text": [
            "Template Eval Error: ValueError(\"Input contains NaN, infinity or a value too large for dtype('float64').\") in model 614: WindowRegression\n",
            "Model Number: 615 with model WindowRegression in generation 7 of 10\n",
            "Model Number: 616 with model ETS in generation 7 of 10\n"
          ]
        },
        {
          "output_type": "stream",
          "name": "stderr",
          "text": [
            "/usr/local/lib/python3.7/dist-packages/sklearn/utils/validation.py:985: DataConversionWarning:\n",
            "\n",
            "A column-vector y was passed when a 1d array was expected. Please change the shape of y to (n_samples, ), for example using ravel().\n",
            "\n"
          ]
        },
        {
          "output_type": "stream",
          "name": "stdout",
          "text": [
            "Model Number: 617 with model ETS in generation 7 of 10\n",
            "Model Number: 618 with model ETS in generation 7 of 10\n",
            "Model Number: 619 with model ETS in generation 7 of 10\n",
            "Model Number: 620 with model GLM in generation 7 of 10\n",
            "Model Number: 621 with model GLM in generation 7 of 10\n"
          ]
        },
        {
          "output_type": "stream",
          "name": "stderr",
          "text": [
            "/usr/local/lib/python3.7/dist-packages/statsmodels/genmod/families/family.py:890: RuntimeWarning:\n",
            "\n",
            "divide by zero encountered in true_divide\n",
            "\n",
            "/usr/local/lib/python3.7/dist-packages/statsmodels/genmod/families/family.py:1223: RuntimeWarning:\n",
            "\n",
            "divide by zero encountered in true_divide\n",
            "\n",
            "/usr/local/lib/python3.7/dist-packages/statsmodels/genmod/families/family.py:1227: RuntimeWarning:\n",
            "\n",
            "divide by zero encountered in log\n",
            "\n",
            "/usr/local/lib/python3.7/dist-packages/statsmodels/genmod/families/family.py:1227: RuntimeWarning:\n",
            "\n",
            "invalid value encountered in multiply\n",
            "\n",
            "/usr/local/lib/python3.7/dist-packages/statsmodels/genmod/families/links.py:521: RuntimeWarning:\n",
            "\n",
            "overflow encountered in exp\n",
            "\n",
            "/usr/local/lib/python3.7/dist-packages/statsmodels/genmod/families/family.py:134: RuntimeWarning:\n",
            "\n",
            "invalid value encountered in multiply\n",
            "\n",
            "/usr/local/lib/python3.7/dist-packages/statsmodels/genmod/generalized_linear_model.py:1163: RuntimeWarning:\n",
            "\n",
            "invalid value encountered in multiply\n",
            "\n",
            "INFO:fbprophet:Disabling yearly seasonality. Run prophet with yearly_seasonality=True to override this.\n",
            "INFO:fbprophet:Disabling daily seasonality. Run prophet with daily_seasonality=True to override this.\n"
          ]
        },
        {
          "output_type": "stream",
          "name": "stdout",
          "text": [
            "Model Number: 622 with model GLM in generation 7 of 10\n",
            "Template Eval Error: ValueError('The first guess on the deviance function returned a nan.  This could be a boundary  problem and should be reported.') in model 622: GLM\n",
            "Model Number: 623 with model GLM in generation 7 of 10\n",
            "Template Eval Error: ValueError('NaN, inf or invalid value detected in weights, estimation infeasible.') in model 623: GLM\n",
            "Model Number: 624 with model FBProphet in generation 7 of 10\n"
          ]
        },
        {
          "output_type": "stream",
          "name": "stderr",
          "text": [
            "INFO:fbprophet:Disabling yearly seasonality. Run prophet with yearly_seasonality=True to override this.\n",
            "INFO:fbprophet:Disabling daily seasonality. Run prophet with daily_seasonality=True to override this.\n"
          ]
        },
        {
          "output_type": "stream",
          "name": "stdout",
          "text": [
            "Model Number: 625 with model FBProphet in generation 7 of 10\n"
          ]
        },
        {
          "output_type": "stream",
          "name": "stderr",
          "text": [
            "INFO:fbprophet:Disabling yearly seasonality. Run prophet with yearly_seasonality=True to override this.\n",
            "INFO:fbprophet:Disabling daily seasonality. Run prophet with daily_seasonality=True to override this.\n"
          ]
        },
        {
          "output_type": "stream",
          "name": "stdout",
          "text": [
            "Model Number: 626 with model FBProphet in generation 7 of 10\n"
          ]
        },
        {
          "output_type": "stream",
          "name": "stderr",
          "text": [
            "INFO:fbprophet:Disabling yearly seasonality. Run prophet with yearly_seasonality=True to override this.\n",
            "INFO:fbprophet:Disabling daily seasonality. Run prophet with daily_seasonality=True to override this.\n"
          ]
        },
        {
          "output_type": "stream",
          "name": "stdout",
          "text": [
            "Model Number: 627 with model FBProphet in generation 7 of 10\n",
            "Model Number: 628 with model GLS in generation 7 of 10\n",
            "Model Number: 629 with model GLS in generation 7 of 10\n",
            "Model Number: 630 with model GLS in generation 7 of 10\n",
            "Model Number: 631 with model NVAR in generation 7 of 10\n",
            "Model Number: 632 with model NVAR in generation 7 of 10\n",
            "Model Number: 633 with model NVAR in generation 7 of 10\n",
            "Model Number: 634 with model NVAR in generation 7 of 10\n",
            "Model Number: 635 with model AverageValueNaive in generation 7 of 10\n",
            "Model Number: 636 with model AverageValueNaive in generation 7 of 10\n",
            "Model Number: 637 with model AverageValueNaive in generation 7 of 10\n",
            "Model Number: 638 with model SectionalMotif in generation 7 of 10\n",
            "Model Number: 639 with model SectionalMotif in generation 7 of 10\n",
            "Template Eval Error: ValueError('kth(=100) out of bounds (5)') in model 639: SectionalMotif\n",
            "Model Number: 640 with model SectionalMotif in generation 7 of 10\n",
            "Template Eval Error: ValueError('kth(=100) out of bounds (5)') in model 640: SectionalMotif\n",
            "Model Number: 641 with model SectionalMotif in generation 7 of 10\n",
            "Model Number: 642 with model ZeroesNaive in generation 7 of 10\n",
            "Model Number: 643 with model ZeroesNaive in generation 7 of 10\n",
            "Model Number: 644 with model ZeroesNaive in generation 7 of 10\n",
            "Model Number: 645 with model GluonTS in generation 7 of 10\n",
            "Template Eval Error: ImportError('GluonTS installation not found or installed version is incompatible with AutoTS.') in model 645: GluonTS\n",
            "Model Number: 646 with model GluonTS in generation 7 of 10\n",
            "Template Eval Error: ImportError('GluonTS installation not found or installed version is incompatible with AutoTS.') in model 646: GluonTS\n",
            "Model Number: 647 with model GluonTS in generation 7 of 10\n",
            "Template Eval Error: ImportError('GluonTS installation not found or installed version is incompatible with AutoTS.') in model 647: GluonTS\n",
            "Model Number: 648 with model GluonTS in generation 7 of 10\n",
            "Template Eval Error: ImportError('GluonTS installation not found or installed version is incompatible with AutoTS.') in model 648: GluonTS\n",
            "Model Number: 649 with model VAR in generation 7 of 10\n",
            "Template Eval Error: ValueError('Only gave one variable to VAR') in model 649: VAR\n",
            "Model Number: 650 with model VAR in generation 7 of 10\n",
            "Template Eval Error: ValueError('Only gave one variable to VAR') in model 650: VAR\n",
            "Model Number: 651 with model VAR in generation 7 of 10\n",
            "Template Eval Error: IndexError('tuple index out of range') in model 651: VAR\n",
            "Model Number: 652 with model VAR in generation 7 of 10\n",
            "Template Eval Error: ValueError('Only gave one variable to VAR') in model 652: VAR\n",
            "Model Number: 653 with model VECM in generation 7 of 10\n",
            "Template Eval Error: ValueError(\"regression_type='User' but no future_regressor supplied\") in model 653: VECM\n",
            "Model Number: 654 with model VECM in generation 7 of 10\n",
            "Template Eval Error: ValueError('Only gave one variable to VECM') in model 654: VECM\n",
            "Model Number: 655 with model VECM in generation 7 of 10\n",
            "Template Eval Error: ValueError('Only gave one variable to VECM') in model 655: VECM\n",
            "Model Number: 656 with model VECM in generation 7 of 10\n",
            "Template Eval Error: ValueError(\"regression_type='User' but no future_regressor supplied\") in model 656: VECM\n",
            "Model Number: 657 with model UnivariateRegression in generation 7 of 10\n",
            "Template Eval Error: ValueError(\"regression_type='User' but not future_regressor supplied.\") in model 657: UnivariateRegression\n",
            "Model Number: 658 with model UnivariateRegression in generation 7 of 10\n",
            "Template Eval Error: TypeError(\"unsupported operand type(s) for -: 'NoneType' and 'int'\") in model 658: UnivariateRegression\n",
            "Model Number: 659 with model UnivariateRegression in generation 7 of 10\n",
            "Template Eval Error: ValueError(\"regression_type='User' but not future_regressor supplied.\") in model 659: UnivariateRegression\n",
            "Model Number: 660 with model UnivariateRegression in generation 7 of 10\n",
            "Template Eval Error: TypeError(\"unsupported operand type(s) for -: 'NoneType' and 'int'\") in model 660: UnivariateRegression\n",
            "Model Number: 661 with model UnivariateMotif in generation 7 of 10\n",
            "Template Eval Error: AttributeError(\"module 'numpy.lib.stride_tricks' has no attribute 'sliding_window_view'\") in model 661: UnivariateMotif\n",
            "Model Number: 662 with model UnivariateMotif in generation 7 of 10\n",
            "Template Eval Error: AttributeError(\"module 'numpy.lib.stride_tricks' has no attribute 'sliding_window_view'\") in model 662: UnivariateMotif\n",
            "Model Number: 663 with model UnivariateMotif in generation 7 of 10\n",
            "Template Eval Error: AttributeError(\"module 'numpy.lib.stride_tricks' has no attribute 'sliding_window_view'\") in model 663: UnivariateMotif\n",
            "Model Number: 664 with model UnivariateMotif in generation 7 of 10\n",
            "Template Eval Error: AttributeError(\"module 'numpy.lib.stride_tricks' has no attribute 'sliding_window_view'\") in model 664: UnivariateMotif\n",
            "Model Number: 665 with model MultivariateMotif in generation 7 of 10\n",
            "Template Eval Error: AttributeError(\"module 'numpy.lib.stride_tricks' has no attribute 'sliding_window_view'\") in model 665: MultivariateMotif\n",
            "Model Number: 666 with model MultivariateMotif in generation 7 of 10\n",
            "Template Eval Error: AttributeError(\"module 'numpy.lib.stride_tricks' has no attribute 'sliding_window_view'\") in model 666: MultivariateMotif\n",
            "Model Number: 667 with model MultivariateMotif in generation 7 of 10\n",
            "Template Eval Error: AttributeError(\"module 'numpy.lib.stride_tricks' has no attribute 'sliding_window_view'\") in model 667: MultivariateMotif\n",
            "Model Number: 668 with model MultivariateMotif in generation 7 of 10\n",
            "Template Eval Error: AttributeError(\"module 'numpy.lib.stride_tricks' has no attribute 'sliding_window_view'\") in model 668: MultivariateMotif\n",
            "Model Number: 669 with model Theta in generation 7 of 10\n",
            "Template Eval Error: ModuleNotFoundError(\"No module named 'statsmodels.tsa.forecasting'\") in model 669: Theta\n",
            "Model Number: 670 with model Theta in generation 7 of 10\n",
            "Template Eval Error: ModuleNotFoundError(\"No module named 'statsmodels.tsa.forecasting'\") in model 670: Theta\n",
            "Model Number: 671 with model Theta in generation 7 of 10\n",
            "Template Eval Error: ModuleNotFoundError(\"No module named 'statsmodels.tsa.forecasting'\") in model 671: Theta\n",
            "Model Number: 672 with model Theta in generation 7 of 10\n",
            "Template Eval Error: ModuleNotFoundError(\"No module named 'statsmodels.tsa.forecasting'\") in model 672: Theta\n",
            "Model Number: 673 with model ARDL in generation 7 of 10\n",
            "Template Eval Error: ImportError(\"cannot import name 'ARDL' from 'statsmodels.tsa.api' (/usr/local/lib/python3.7/dist-packages/statsmodels/tsa/api.py)\") in model 673: ARDL\n",
            "Model Number: 674 with model ARDL in generation 7 of 10\n",
            "Template Eval Error: ImportError(\"cannot import name 'ARDL' from 'statsmodels.tsa.api' (/usr/local/lib/python3.7/dist-packages/statsmodels/tsa/api.py)\") in model 674: ARDL\n",
            "Model Number: 675 with model ARDL in generation 7 of 10\n",
            "Template Eval Error: ImportError(\"cannot import name 'ARDL' from 'statsmodels.tsa.api' (/usr/local/lib/python3.7/dist-packages/statsmodels/tsa/api.py)\") in model 675: ARDL\n",
            "Model Number: 676 with model ARDL in generation 7 of 10\n",
            "Template Eval Error: ImportError(\"cannot import name 'ARDL' from 'statsmodels.tsa.api' (/usr/local/lib/python3.7/dist-packages/statsmodels/tsa/api.py)\") in model 676: ARDL\n",
            "New Generation: 8 of 10\n",
            "Model Number: 677 with model LastValueNaive in generation 8 of 10\n",
            "Model Number: 678 with model LastValueNaive in generation 8 of 10\n",
            "Model Number: 679 with model LastValueNaive in generation 8 of 10\n",
            "Model Number: 680 with model DatepartRegression in generation 8 of 10\n",
            "Template Eval Error: ValueError(\"regression_type='User' but no future_regressor passed\") in model 680: DatepartRegression\n",
            "Model Number: 681 with model DatepartRegression in generation 8 of 10\n",
            "Template Eval Error: ValueError(\"regression_type='User' but no future_regressor passed\") in model 681: DatepartRegression\n",
            "Model Number: 682 with model DatepartRegression in generation 8 of 10\n",
            "Model Number: 683 with model UnobservedComponents in generation 8 of 10\n",
            "Template Eval Error: TypeError('issubclass() arg 2 must be a class or tuple of classes') in model 683: UnobservedComponents\n",
            "Model Number: 684 with model UnobservedComponents in generation 8 of 10\n",
            "Template Eval Error: TypeError('issubclass() arg 2 must be a class or tuple of classes') in model 684: UnobservedComponents\n",
            "Model Number: 685 with model UnobservedComponents in generation 8 of 10\n",
            "Template Eval Error: TypeError('issubclass() arg 2 must be a class or tuple of classes') in model 685: UnobservedComponents\n",
            "Model Number: 686 with model SeasonalNaive in generation 8 of 10\n",
            "Model Number: 687 with model SeasonalNaive in generation 8 of 10\n",
            "Model Number: 688 with model SeasonalNaive in generation 8 of 10\n",
            "Model Number: 689 with model SeasonalNaive in generation 8 of 10\n",
            "Model Number: 690 with model WindowRegression in generation 8 of 10\n"
          ]
        },
        {
          "output_type": "stream",
          "name": "stderr",
          "text": [
            "/usr/local/lib/python3.7/dist-packages/sklearn/svm/_base.py:1208: ConvergenceWarning:\n",
            "\n",
            "Liblinear failed to converge, increase the number of iterations.\n",
            "\n",
            "/usr/local/lib/python3.7/dist-packages/sklearn/svm/_base.py:1208: ConvergenceWarning:\n",
            "\n",
            "Liblinear failed to converge, increase the number of iterations.\n",
            "\n",
            "/usr/local/lib/python3.7/dist-packages/sklearn/svm/_base.py:1208: ConvergenceWarning:\n",
            "\n",
            "Liblinear failed to converge, increase the number of iterations.\n",
            "\n",
            "/usr/local/lib/python3.7/dist-packages/sklearn/svm/_base.py:1208: ConvergenceWarning:\n",
            "\n",
            "Liblinear failed to converge, increase the number of iterations.\n",
            "\n",
            "/usr/local/lib/python3.7/dist-packages/sklearn/svm/_base.py:1208: ConvergenceWarning:\n",
            "\n",
            "Liblinear failed to converge, increase the number of iterations.\n",
            "\n",
            "/usr/local/lib/python3.7/dist-packages/sklearn/svm/_base.py:1208: ConvergenceWarning:\n",
            "\n",
            "Liblinear failed to converge, increase the number of iterations.\n",
            "\n",
            "/usr/local/lib/python3.7/dist-packages/sklearn/svm/_base.py:1208: ConvergenceWarning:\n",
            "\n",
            "Liblinear failed to converge, increase the number of iterations.\n",
            "\n",
            "/usr/local/lib/python3.7/dist-packages/sklearn/svm/_base.py:1208: ConvergenceWarning:\n",
            "\n",
            "Liblinear failed to converge, increase the number of iterations.\n",
            "\n",
            "/usr/local/lib/python3.7/dist-packages/sklearn/svm/_base.py:1208: ConvergenceWarning:\n",
            "\n",
            "Liblinear failed to converge, increase the number of iterations.\n",
            "\n",
            "/usr/local/lib/python3.7/dist-packages/sklearn/svm/_base.py:1208: ConvergenceWarning:\n",
            "\n",
            "Liblinear failed to converge, increase the number of iterations.\n",
            "\n"
          ]
        },
        {
          "output_type": "stream",
          "name": "stdout",
          "text": [
            "Model Number: 691 with model WindowRegression in generation 8 of 10\n",
            "Model Number: 692 with model WindowRegression in generation 8 of 10\n",
            "Template Eval Error: ValueError(\"regression_type='User' but no future_regressor passed\") in model 692: WindowRegression\n",
            "Model Number: 693 with model AverageValueNaive in generation 8 of 10\n",
            "Model Number: 694 with model AverageValueNaive in generation 8 of 10\n",
            "Model Number: 695 with model AverageValueNaive in generation 8 of 10\n",
            "Template Eval Error: ImportError(\"cannot import name 'STL' from 'statsmodels.tsa.seasonal' (/usr/local/lib/python3.7/dist-packages/statsmodels/tsa/seasonal.py)\") in model 695: AverageValueNaive\n",
            "Model Number: 696 with model ETS in generation 8 of 10\n",
            "Model Number: 697 with model ETS in generation 8 of 10\n",
            "Model Number: 698 with model ETS in generation 8 of 10\n",
            "Model Number: 699 with model GLM in generation 8 of 10\n",
            "Model Number: 700 with model GLM in generation 8 of 10\n"
          ]
        },
        {
          "output_type": "stream",
          "name": "stderr",
          "text": [
            "/usr/local/lib/python3.7/dist-packages/statsmodels/genmod/families/family.py:1223: RuntimeWarning:\n",
            "\n",
            "divide by zero encountered in true_divide\n",
            "\n",
            "/usr/local/lib/python3.7/dist-packages/statsmodels/genmod/families/family.py:1227: RuntimeWarning:\n",
            "\n",
            "invalid value encountered in log\n",
            "\n"
          ]
        },
        {
          "output_type": "stream",
          "name": "stdout",
          "text": [
            "Model Number: 701 with model GLM in generation 8 of 10\n"
          ]
        },
        {
          "output_type": "stream",
          "name": "stderr",
          "text": [
            "/usr/local/lib/python3.7/dist-packages/statsmodels/genmod/families/family.py:1223: RuntimeWarning:\n",
            "\n",
            "divide by zero encountered in true_divide\n",
            "\n"
          ]
        },
        {
          "output_type": "stream",
          "name": "stdout",
          "text": [
            "Model Number: 702 with model GLM in generation 8 of 10\n",
            "Model Number: 703 with model FBProphet in generation 8 of 10\n"
          ]
        },
        {
          "output_type": "stream",
          "name": "stderr",
          "text": [
            "/usr/local/lib/python3.7/dist-packages/statsmodels/genmod/generalized_linear_model.py:273: DomainWarning:\n",
            "\n",
            "The inverse_power link function does not respect the domain of the Gamma family.\n",
            "\n",
            "INFO:fbprophet:Disabling yearly seasonality. Run prophet with yearly_seasonality=True to override this.\n",
            "INFO:fbprophet:Disabling daily seasonality. Run prophet with daily_seasonality=True to override this.\n",
            "INFO:fbprophet:Disabling yearly seasonality. Run prophet with yearly_seasonality=True to override this.\n",
            "INFO:fbprophet:Disabling daily seasonality. Run prophet with daily_seasonality=True to override this.\n"
          ]
        },
        {
          "output_type": "stream",
          "name": "stdout",
          "text": [
            "Model Number: 704 with model FBProphet in generation 8 of 10\n"
          ]
        },
        {
          "output_type": "stream",
          "name": "stderr",
          "text": [
            "INFO:fbprophet:Disabling yearly seasonality. Run prophet with yearly_seasonality=True to override this.\n",
            "INFO:fbprophet:Disabling daily seasonality. Run prophet with daily_seasonality=True to override this.\n"
          ]
        },
        {
          "output_type": "stream",
          "name": "stdout",
          "text": [
            "Model Number: 705 with model FBProphet in generation 8 of 10\n",
            "Model Number: 706 with model FBProphet in generation 8 of 10\n",
            "Template Eval Error: ValueError(\"regression_type='User' but no future_regressor passed\") in model 706: FBProphet\n",
            "Model Number: 707 with model GLS in generation 8 of 10\n",
            "Model Number: 708 with model GLS in generation 8 of 10\n",
            "Model Number: 709 with model NVAR in generation 8 of 10\n",
            "Model Number: 710 with model NVAR in generation 8 of 10\n",
            "Model Number: 711 with model NVAR in generation 8 of 10\n",
            "Model Number: 712 with model NVAR in generation 8 of 10\n",
            "Model Number: 713 with model SectionalMotif in generation 8 of 10\n",
            "Model Number: 714 with model SectionalMotif in generation 8 of 10\n",
            "Template Eval Error: ValueError('kth(=10) out of bounds (8)') in model 714: SectionalMotif\n",
            "Model Number: 715 with model SectionalMotif in generation 8 of 10\n",
            "Model Number: 716 with model SectionalMotif in generation 8 of 10\n",
            "Template Eval Error: ValueError('kth(=10) out of bounds (8)') in model 716: SectionalMotif\n",
            "Model Number: 717 with model ZeroesNaive in generation 8 of 10\n",
            "Model Number: 718 with model ZeroesNaive in generation 8 of 10\n",
            "Model Number: 719 with model ZeroesNaive in generation 8 of 10\n",
            "Model Number: 720 with model GluonTS in generation 8 of 10\n",
            "Template Eval Error: ImportError('GluonTS installation not found or installed version is incompatible with AutoTS.') in model 720: GluonTS\n",
            "Model Number: 721 with model GluonTS in generation 8 of 10\n",
            "Template Eval Error: ImportError('GluonTS installation not found or installed version is incompatible with AutoTS.') in model 721: GluonTS\n",
            "Model Number: 722 with model GluonTS in generation 8 of 10\n",
            "Template Eval Error: ImportError('GluonTS installation not found or installed version is incompatible with AutoTS.') in model 722: GluonTS\n",
            "Model Number: 723 with model GluonTS in generation 8 of 10\n",
            "Template Eval Error: ImportError('GluonTS installation not found or installed version is incompatible with AutoTS.') in model 723: GluonTS\n",
            "Model Number: 724 with model VAR in generation 8 of 10\n",
            "Template Eval Error: ValueError('Only gave one variable to VAR') in model 724: VAR\n",
            "Model Number: 725 with model VAR in generation 8 of 10\n",
            "Template Eval Error: ValueError('Only gave one variable to VAR') in model 725: VAR\n",
            "Model Number: 726 with model VAR in generation 8 of 10\n",
            "Template Eval Error: ValueError('Only gave one variable to VAR') in model 726: VAR\n",
            "Model Number: 727 with model VECM in generation 8 of 10\n",
            "Template Eval Error: ValueError('Only gave one variable to VECM') in model 727: VECM\n",
            "Model Number: 728 with model VECM in generation 8 of 10\n",
            "Template Eval Error: ValueError('Only gave one variable to VECM') in model 728: VECM\n",
            "Model Number: 729 with model VECM in generation 8 of 10\n",
            "Template Eval Error: ValueError('Only gave one variable to VECM') in model 729: VECM\n",
            "Model Number: 730 with model VECM in generation 8 of 10\n",
            "Template Eval Error: ValueError('Only gave one variable to VECM') in model 730: VECM\n",
            "Model Number: 731 with model UnivariateRegression in generation 8 of 10\n",
            "Template Eval Error: TypeError(\"unsupported operand type(s) for -: 'NoneType' and 'int'\") in model 731: UnivariateRegression\n",
            "Model Number: 732 with model UnivariateRegression in generation 8 of 10\n",
            "Template Eval Error: TypeError(\"unsupported operand type(s) for -: 'NoneType' and 'int'\") in model 732: UnivariateRegression\n",
            "Model Number: 733 with model UnivariateRegression in generation 8 of 10\n",
            "Template Eval Error: TypeError(\"unsupported operand type(s) for -: 'NoneType' and 'int'\") in model 733: UnivariateRegression\n",
            "Model Number: 734 with model UnivariateRegression in generation 8 of 10\n",
            "Template Eval Error: TypeError(\"unsupported operand type(s) for -: 'NoneType' and 'int'\") in model 734: UnivariateRegression\n",
            "Model Number: 735 with model UnivariateMotif in generation 8 of 10\n",
            "Template Eval Error: AttributeError(\"module 'numpy.lib.stride_tricks' has no attribute 'sliding_window_view'\") in model 735: UnivariateMotif\n",
            "Model Number: 736 with model UnivariateMotif in generation 8 of 10\n",
            "Template Eval Error: AttributeError(\"module 'numpy.lib.stride_tricks' has no attribute 'sliding_window_view'\") in model 736: UnivariateMotif\n",
            "Model Number: 737 with model UnivariateMotif in generation 8 of 10\n",
            "Template Eval Error: AttributeError(\"module 'numpy.lib.stride_tricks' has no attribute 'sliding_window_view'\") in model 737: UnivariateMotif\n",
            "Model Number: 738 with model UnivariateMotif in generation 8 of 10\n",
            "Template Eval Error: AttributeError(\"module 'numpy.lib.stride_tricks' has no attribute 'sliding_window_view'\") in model 738: UnivariateMotif\n",
            "Model Number: 739 with model MultivariateMotif in generation 8 of 10\n",
            "Template Eval Error: AttributeError(\"module 'numpy.lib.stride_tricks' has no attribute 'sliding_window_view'\") in model 739: MultivariateMotif\n",
            "Model Number: 740 with model MultivariateMotif in generation 8 of 10\n",
            "Template Eval Error: AttributeError(\"module 'numpy.lib.stride_tricks' has no attribute 'sliding_window_view'\") in model 740: MultivariateMotif\n",
            "Model Number: 741 with model MultivariateMotif in generation 8 of 10\n",
            "Template Eval Error: AttributeError(\"module 'numpy.lib.stride_tricks' has no attribute 'sliding_window_view'\") in model 741: MultivariateMotif\n",
            "Model Number: 742 with model MultivariateMotif in generation 8 of 10\n",
            "Template Eval Error: AttributeError(\"module 'numpy.lib.stride_tricks' has no attribute 'sliding_window_view'\") in model 742: MultivariateMotif\n",
            "Model Number: 743 with model Theta in generation 8 of 10\n",
            "Template Eval Error: ModuleNotFoundError(\"No module named 'statsmodels.tsa.forecasting'\") in model 743: Theta\n",
            "Model Number: 744 with model Theta in generation 8 of 10\n",
            "Template Eval Error: ModuleNotFoundError(\"No module named 'statsmodels.tsa.forecasting'\") in model 744: Theta\n",
            "Model Number: 745 with model Theta in generation 8 of 10\n",
            "Template Eval Error: ModuleNotFoundError(\"No module named 'statsmodels.tsa.forecasting'\") in model 745: Theta\n",
            "Model Number: 746 with model Theta in generation 8 of 10\n",
            "Template Eval Error: ModuleNotFoundError(\"No module named 'statsmodels.tsa.forecasting'\") in model 746: Theta\n",
            "Model Number: 747 with model ARDL in generation 8 of 10\n",
            "Template Eval Error: ImportError(\"cannot import name 'STL' from 'statsmodels.tsa.seasonal' (/usr/local/lib/python3.7/dist-packages/statsmodels/tsa/seasonal.py)\") in model 747: ARDL\n",
            "Model Number: 748 with model ARDL in generation 8 of 10\n",
            "Template Eval Error: ImportError(\"cannot import name 'ARDL' from 'statsmodels.tsa.api' (/usr/local/lib/python3.7/dist-packages/statsmodels/tsa/api.py)\") in model 748: ARDL\n",
            "Model Number: 749 with model ARDL in generation 8 of 10\n",
            "Template Eval Error: ImportError(\"cannot import name 'ARDL' from 'statsmodels.tsa.api' (/usr/local/lib/python3.7/dist-packages/statsmodels/tsa/api.py)\") in model 749: ARDL\n",
            "Model Number: 750 with model ARDL in generation 8 of 10\n",
            "Template Eval Error: ImportError(\"cannot import name 'STL' from 'statsmodels.tsa.seasonal' (/usr/local/lib/python3.7/dist-packages/statsmodels/tsa/seasonal.py)\") in model 750: ARDL\n",
            "New Generation: 9 of 10\n",
            "Model Number: 751 with model LastValueNaive in generation 9 of 10\n",
            "Model Number: 752 with model LastValueNaive in generation 9 of 10\n",
            "Model Number: 753 with model LastValueNaive in generation 9 of 10\n",
            "Model Number: 754 with model DatepartRegression in generation 9 of 10\n",
            "Epoch 1/50\n",
            "3/3 [==============================] - 3s 196ms/step - loss: 119.9169 - val_loss: 26.4844\n",
            "Epoch 2/50\n",
            "3/3 [==============================] - 0s 32ms/step - loss: 112.6442 - val_loss: 19.2964\n",
            "Epoch 3/50\n",
            "3/3 [==============================] - 0s 34ms/step - loss: 116.9988 - val_loss: 12.5602\n",
            "Epoch 4/50\n",
            "3/3 [==============================] - 0s 29ms/step - loss: 109.3490 - val_loss: 7.0920\n",
            "Epoch 5/50\n",
            "3/3 [==============================] - 0s 35ms/step - loss: 104.2602 - val_loss: 3.2485\n",
            "Epoch 6/50\n",
            "3/3 [==============================] - 0s 29ms/step - loss: 114.0473 - val_loss: 1.5549\n",
            "Epoch 7/50\n",
            "3/3 [==============================] - 0s 28ms/step - loss: 126.2027 - val_loss: 6.3066\n",
            "Epoch 8/50\n",
            "3/3 [==============================] - 0s 29ms/step - loss: 113.3695 - val_loss: 11.0857\n",
            "Epoch 9/50\n",
            "3/3 [==============================] - 0s 27ms/step - loss: 109.9555 - val_loss: 14.2557\n",
            "Epoch 10/50\n",
            "3/3 [==============================] - 0s 28ms/step - loss: 115.1634 - val_loss: 16.3609\n",
            "Epoch 11/50\n",
            "3/3 [==============================] - 0s 32ms/step - loss: 110.2243 - val_loss: 14.9748\n",
            "Epoch 12/50\n",
            "3/3 [==============================] - 0s 26ms/step - loss: 106.5435 - val_loss: 14.0601\n",
            "Epoch 13/50\n",
            "3/3 [==============================] - 0s 31ms/step - loss: 131.2968 - val_loss: 13.2561\n",
            "Epoch 14/50\n",
            "3/3 [==============================] - 0s 31ms/step - loss: 104.5294 - val_loss: 14.4877\n",
            "Epoch 15/50\n",
            "3/3 [==============================] - 0s 31ms/step - loss: 96.3471 - val_loss: 15.4891\n",
            "Epoch 16/50\n",
            "3/3 [==============================] - 0s 35ms/step - loss: 106.3880 - val_loss: 16.3886\n",
            "Model Number: 755 with model DatepartRegression in generation 9 of 10\n",
            "Template Eval Error: ValueError(\"regression_type='User' but no future_regressor passed\") in model 755: DatepartRegression\n",
            "Model Number: 756 with model DatepartRegression in generation 9 of 10\n",
            "Epoch 1/50\n",
            "3/3 [==============================] - 7s 21ms/step - loss: 0.0044\n",
            "Epoch 2/50\n",
            "3/3 [==============================] - 0s 17ms/step - loss: 0.0036\n",
            "Epoch 3/50\n",
            "3/3 [==============================] - 0s 17ms/step - loss: 0.0036\n",
            "Epoch 4/50\n",
            "3/3 [==============================] - 0s 22ms/step - loss: 0.0032\n",
            "Epoch 5/50\n",
            "3/3 [==============================] - 0s 20ms/step - loss: 0.0032\n",
            "Epoch 6/50\n",
            "3/3 [==============================] - 0s 17ms/step - loss: 0.0032\n",
            "Epoch 7/50\n",
            "3/3 [==============================] - 0s 20ms/step - loss: 0.0033\n",
            "Epoch 8/50\n",
            "3/3 [==============================] - 0s 17ms/step - loss: 0.0031\n",
            "Epoch 9/50\n",
            "3/3 [==============================] - 0s 18ms/step - loss: 0.0033\n",
            "Epoch 10/50\n",
            "3/3 [==============================] - 0s 19ms/step - loss: 0.0032\n",
            "Epoch 11/50\n",
            "3/3 [==============================] - 0s 15ms/step - loss: 0.0032\n",
            "Epoch 12/50\n",
            "3/3 [==============================] - 0s 19ms/step - loss: 0.0032\n",
            "Epoch 13/50\n",
            "3/3 [==============================] - 0s 21ms/step - loss: 0.0030\n",
            "Epoch 14/50\n",
            "3/3 [==============================] - 0s 17ms/step - loss: 0.0033\n",
            "Epoch 15/50\n",
            "3/3 [==============================] - 0s 18ms/step - loss: 0.0031\n",
            "Epoch 16/50\n",
            "3/3 [==============================] - 0s 17ms/step - loss: 0.0031\n",
            "Epoch 17/50\n",
            "3/3 [==============================] - 0s 18ms/step - loss: 0.0031\n",
            "Epoch 18/50\n",
            "3/3 [==============================] - 0s 22ms/step - loss: 0.0033\n",
            "Epoch 19/50\n",
            "3/3 [==============================] - 0s 18ms/step - loss: 0.0031\n",
            "Epoch 20/50\n",
            "3/3 [==============================] - 0s 16ms/step - loss: 0.0032\n",
            "Epoch 21/50\n",
            "3/3 [==============================] - 0s 17ms/step - loss: 0.0032\n",
            "Epoch 22/50\n",
            "3/3 [==============================] - 0s 18ms/step - loss: 0.0032\n",
            "Epoch 23/50\n",
            "3/3 [==============================] - 0s 19ms/step - loss: 0.0032\n",
            "Epoch 24/50\n",
            "3/3 [==============================] - 0s 20ms/step - loss: 0.0032\n",
            "Epoch 25/50\n",
            "3/3 [==============================] - 0s 19ms/step - loss: 0.0033\n",
            "Epoch 26/50\n",
            "3/3 [==============================] - 0s 24ms/step - loss: 0.0031\n",
            "Epoch 27/50\n",
            "3/3 [==============================] - 0s 21ms/step - loss: 0.0031\n",
            "Epoch 28/50\n",
            "3/3 [==============================] - 0s 16ms/step - loss: 0.0032\n",
            "Epoch 29/50\n",
            "3/3 [==============================] - 0s 18ms/step - loss: 0.0032\n",
            "Epoch 30/50\n",
            "3/3 [==============================] - 0s 21ms/step - loss: 0.0032\n",
            "Epoch 31/50\n",
            "3/3 [==============================] - 0s 16ms/step - loss: 0.0032\n",
            "Epoch 32/50\n",
            "3/3 [==============================] - 0s 17ms/step - loss: 0.0031\n",
            "Epoch 33/50\n",
            "3/3 [==============================] - 0s 16ms/step - loss: 0.0032\n",
            "Epoch 34/50\n",
            "3/3 [==============================] - 0s 15ms/step - loss: 0.0031\n",
            "Epoch 35/50\n",
            "3/3 [==============================] - 0s 19ms/step - loss: 0.0031\n",
            "Epoch 36/50\n",
            "3/3 [==============================] - 0s 17ms/step - loss: 0.0032\n",
            "Epoch 37/50\n",
            "3/3 [==============================] - 0s 16ms/step - loss: 0.0031\n",
            "Epoch 38/50\n",
            "3/3 [==============================] - 0s 18ms/step - loss: 0.0031\n",
            "Epoch 39/50\n",
            "3/3 [==============================] - 0s 19ms/step - loss: 0.0031\n",
            "Epoch 40/50\n",
            "3/3 [==============================] - 0s 17ms/step - loss: 0.0033\n",
            "Epoch 41/50\n",
            "3/3 [==============================] - 0s 17ms/step - loss: 0.0031\n",
            "Epoch 42/50\n",
            "3/3 [==============================] - 0s 16ms/step - loss: 0.0032\n",
            "Epoch 43/50\n",
            "3/3 [==============================] - 0s 21ms/step - loss: 0.0032\n",
            "Epoch 44/50\n",
            "3/3 [==============================] - 0s 17ms/step - loss: 0.0032\n",
            "Epoch 45/50\n",
            "3/3 [==============================] - 0s 19ms/step - loss: 0.0033\n",
            "Epoch 46/50\n",
            "3/3 [==============================] - 0s 17ms/step - loss: 0.0031\n",
            "Epoch 47/50\n",
            "3/3 [==============================] - 0s 18ms/step - loss: 0.0031\n",
            "Epoch 48/50\n",
            "3/3 [==============================] - 0s 16ms/step - loss: 0.0032\n",
            "Epoch 49/50\n",
            "3/3 [==============================] - 0s 17ms/step - loss: 0.0031\n",
            "Epoch 50/50\n",
            "3/3 [==============================] - 0s 23ms/step - loss: 0.0031\n",
            "Model Number: 757 with model UnobservedComponents in generation 9 of 10\n",
            "Template Eval Error: ValueError(\"regression_type='User' but no future_regressor supplied\") in model 757: UnobservedComponents\n",
            "Model Number: 758 with model UnobservedComponents in generation 9 of 10\n",
            "Template Eval Error: TypeError('issubclass() arg 2 must be a class or tuple of classes') in model 758: UnobservedComponents\n",
            "Model Number: 759 with model UnobservedComponents in generation 9 of 10\n",
            "Template Eval Error: TypeError('issubclass() arg 2 must be a class or tuple of classes') in model 759: UnobservedComponents\n",
            "Model Number: 760 with model SeasonalNaive in generation 9 of 10\n",
            "Model Number: 761 with model SeasonalNaive in generation 9 of 10\n",
            "Model Number: 762 with model SeasonalNaive in generation 9 of 10\n",
            "Model Number: 763 with model SeasonalNaive in generation 9 of 10\n",
            "Model Number: 764 with model GLM in generation 9 of 10\n",
            "Template Eval Error: ValueError('NaN, inf or invalid value detected in weights, estimation infeasible.') in model 764: GLM\n",
            "Model Number: 765 with model GLM in generation 9 of 10\n"
          ]
        },
        {
          "output_type": "stream",
          "name": "stderr",
          "text": [
            "/usr/local/lib/python3.7/dist-packages/statsmodels/genmod/families/family.py:1440: RuntimeWarning:\n",
            "\n",
            "invalid value encountered in log\n",
            "\n",
            "/usr/local/lib/python3.7/dist-packages/statsmodels/genmod/families/family.py:1440: RuntimeWarning:\n",
            "\n",
            "divide by zero encountered in true_divide\n",
            "\n",
            "/usr/local/lib/python3.7/dist-packages/statsmodels/genmod/generalized_linear_model.py:774: RuntimeWarning:\n",
            "\n",
            "divide by zero encountered in true_divide\n",
            "\n",
            "/usr/local/lib/python3.7/dist-packages/statsmodels/genmod/families/family.py:134: RuntimeWarning:\n",
            "\n",
            "divide by zero encountered in true_divide\n",
            "\n",
            "/usr/local/lib/python3.7/dist-packages/sklearn/linear_model/_coordinate_descent.py:648: ConvergenceWarning:\n",
            "\n",
            "Objective did not converge. You might want to increase the number of iterations, check the scale of the features or consider increasing regularisation. Duality gap: 6.622e-02, tolerance: 1.344e-02\n",
            "\n",
            "/usr/local/lib/python3.7/dist-packages/statsmodels/genmod/generalized_linear_model.py:273: DomainWarning:\n",
            "\n",
            "The inverse_power link function does not respect the domain of the Gamma family.\n",
            "\n"
          ]
        },
        {
          "output_type": "stream",
          "name": "stdout",
          "text": [
            "Model Number: 766 with model GLM in generation 9 of 10\n",
            "Template Eval Error: ValueError('regression_type=user and no future_regressor passed') in model 766: GLM\n",
            "Model Number: 767 with model GLM in generation 9 of 10\n"
          ]
        },
        {
          "output_type": "stream",
          "name": "stderr",
          "text": [
            "/usr/local/lib/python3.7/dist-packages/statsmodels/genmod/families/family.py:1223: RuntimeWarning:\n",
            "\n",
            "divide by zero encountered in true_divide\n",
            "\n"
          ]
        },
        {
          "output_type": "stream",
          "name": "stdout",
          "text": [
            "Model Number: 768 with model WindowRegression in generation 9 of 10\n",
            "Epoch 1/50\n",
            "1/1 [==============================] - 5s 5s/step - loss: 0.4182 - val_loss: 0.9728\n",
            "Epoch 2/50\n",
            "1/1 [==============================] - 0s 156ms/step - loss: 0.3942 - val_loss: 0.9631\n",
            "Epoch 3/50\n",
            "1/1 [==============================] - 0s 165ms/step - loss: 0.3731 - val_loss: 0.9534\n",
            "Epoch 4/50\n",
            "1/1 [==============================] - 0s 153ms/step - loss: 0.4302 - val_loss: 0.9438\n",
            "Epoch 5/50\n",
            "1/1 [==============================] - 0s 179ms/step - loss: 0.5253 - val_loss: 0.9342\n",
            "Epoch 6/50\n",
            "1/1 [==============================] - 0s 162ms/step - loss: 0.3698 - val_loss: 0.9248\n",
            "Epoch 7/50\n",
            "1/1 [==============================] - 0s 159ms/step - loss: 0.4137 - val_loss: 0.9155\n",
            "Epoch 8/50\n",
            "1/1 [==============================] - 0s 155ms/step - loss: 0.4355 - val_loss: 0.9062\n",
            "Epoch 9/50\n",
            "1/1 [==============================] - 0s 153ms/step - loss: 0.4085 - val_loss: 0.8971\n",
            "Epoch 10/50\n",
            "1/1 [==============================] - 0s 154ms/step - loss: 0.3843 - val_loss: 0.8880\n",
            "Epoch 11/50\n",
            "1/1 [==============================] - 0s 158ms/step - loss: 0.4180 - val_loss: 0.8790\n",
            "Epoch 12/50\n",
            "1/1 [==============================] - 0s 162ms/step - loss: 0.3974 - val_loss: 0.8701\n",
            "Epoch 13/50\n",
            "1/1 [==============================] - 0s 157ms/step - loss: 0.4184 - val_loss: 0.8612\n",
            "Epoch 14/50\n",
            "1/1 [==============================] - 0s 175ms/step - loss: 0.3696 - val_loss: 0.8525\n",
            "Epoch 15/50\n",
            "1/1 [==============================] - 0s 174ms/step - loss: 0.3865 - val_loss: 0.8438\n",
            "Epoch 16/50\n",
            "1/1 [==============================] - 0s 158ms/step - loss: 0.3373 - val_loss: 0.8353\n",
            "Epoch 17/50\n",
            "1/1 [==============================] - 0s 163ms/step - loss: 0.3912 - val_loss: 0.8268\n",
            "Epoch 18/50\n",
            "1/1 [==============================] - 0s 171ms/step - loss: 0.3664 - val_loss: 0.8183\n",
            "Epoch 19/50\n",
            "1/1 [==============================] - 0s 152ms/step - loss: 0.3624 - val_loss: 0.8099\n",
            "Epoch 20/50\n",
            "1/1 [==============================] - 0s 170ms/step - loss: 0.3349 - val_loss: 0.8016\n",
            "Epoch 21/50\n",
            "1/1 [==============================] - 0s 155ms/step - loss: 0.4233 - val_loss: 0.7934\n",
            "Epoch 22/50\n",
            "1/1 [==============================] - 0s 160ms/step - loss: 0.3370 - val_loss: 0.7852\n",
            "Epoch 23/50\n",
            "1/1 [==============================] - 0s 152ms/step - loss: 0.3740 - val_loss: 0.7771\n",
            "Epoch 24/50\n",
            "1/1 [==============================] - 0s 156ms/step - loss: 0.3765 - val_loss: 0.7691\n",
            "Epoch 25/50\n",
            "1/1 [==============================] - 0s 150ms/step - loss: 0.3449 - val_loss: 0.7612\n",
            "Epoch 26/50\n",
            "1/1 [==============================] - 0s 168ms/step - loss: 0.3224 - val_loss: 0.7533\n",
            "Epoch 27/50\n",
            "1/1 [==============================] - 0s 159ms/step - loss: 0.3159 - val_loss: 0.7455\n",
            "Epoch 28/50\n",
            "1/1 [==============================] - 0s 160ms/step - loss: 0.3261 - val_loss: 0.7378\n",
            "Epoch 29/50\n",
            "1/1 [==============================] - 0s 159ms/step - loss: 0.3158 - val_loss: 0.7302\n",
            "Epoch 30/50\n",
            "1/1 [==============================] - 0s 147ms/step - loss: 0.3840 - val_loss: 0.7227\n",
            "Epoch 31/50\n",
            "1/1 [==============================] - 0s 170ms/step - loss: 0.3408 - val_loss: 0.7152\n",
            "Epoch 32/50\n",
            "1/1 [==============================] - 0s 161ms/step - loss: 0.2651 - val_loss: 0.7077\n",
            "Epoch 33/50\n",
            "1/1 [==============================] - 0s 156ms/step - loss: 0.3330 - val_loss: 0.7004\n",
            "Epoch 34/50\n",
            "1/1 [==============================] - 0s 145ms/step - loss: 0.3022 - val_loss: 0.6932\n",
            "Epoch 35/50\n",
            "1/1 [==============================] - 0s 155ms/step - loss: 0.3719 - val_loss: 0.6860\n",
            "Epoch 36/50\n",
            "1/1 [==============================] - 0s 143ms/step - loss: 0.3126 - val_loss: 0.6789\n",
            "Epoch 37/50\n",
            "1/1 [==============================] - 0s 166ms/step - loss: 0.2945 - val_loss: 0.6718\n",
            "Epoch 38/50\n",
            "1/1 [==============================] - 0s 155ms/step - loss: 0.2686 - val_loss: 0.6648\n",
            "Epoch 39/50\n",
            "1/1 [==============================] - 0s 173ms/step - loss: 0.3004 - val_loss: 0.6579\n",
            "Epoch 40/50\n",
            "1/1 [==============================] - 0s 147ms/step - loss: 0.3054 - val_loss: 0.6511\n",
            "Epoch 41/50\n",
            "1/1 [==============================] - 0s 151ms/step - loss: 0.2925 - val_loss: 0.6443\n",
            "Epoch 42/50\n",
            "1/1 [==============================] - 0s 160ms/step - loss: 0.2914 - val_loss: 0.6375\n",
            "Epoch 43/50\n",
            "1/1 [==============================] - 0s 146ms/step - loss: 0.2682 - val_loss: 0.6309\n",
            "Epoch 44/50\n",
            "1/1 [==============================] - 0s 170ms/step - loss: 0.3473 - val_loss: 0.6242\n",
            "Epoch 45/50\n",
            "1/1 [==============================] - 0s 179ms/step - loss: 0.2816 - val_loss: 0.6176\n",
            "Epoch 46/50\n",
            "1/1 [==============================] - 0s 163ms/step - loss: 0.2795 - val_loss: 0.6111\n",
            "Epoch 47/50\n",
            "1/1 [==============================] - 0s 149ms/step - loss: 0.3166 - val_loss: 0.6047\n",
            "Epoch 48/50\n",
            "1/1 [==============================] - 0s 161ms/step - loss: 0.2488 - val_loss: 0.5983\n",
            "Epoch 49/50\n",
            "1/1 [==============================] - 0s 161ms/step - loss: 0.2658 - val_loss: 0.5920\n",
            "Epoch 50/50\n",
            "1/1 [==============================] - 0s 157ms/step - loss: 0.2869 - val_loss: 0.5856\n",
            "Model Number: 769 with model WindowRegression in generation 9 of 10\n",
            "Template Eval Error: ValueError(\"regression_type='User' but no future_regressor passed\") in model 769: WindowRegression\n",
            "Model Number: 770 with model WindowRegression in generation 9 of 10\n",
            "Model Number: 771 with model AverageValueNaive in generation 9 of 10\n",
            "Model Number: 772 with model AverageValueNaive in generation 9 of 10\n",
            "Model Number: 773 with model AverageValueNaive in generation 9 of 10\n",
            "Model Number: 774 with model FBProphet in generation 9 of 10\n"
          ]
        },
        {
          "output_type": "stream",
          "name": "stderr",
          "text": [
            "INFO:fbprophet:Disabling yearly seasonality. Run prophet with yearly_seasonality=True to override this.\n",
            "INFO:fbprophet:Disabling daily seasonality. Run prophet with daily_seasonality=True to override this.\n",
            "INFO:fbprophet:Disabling yearly seasonality. Run prophet with yearly_seasonality=True to override this.\n",
            "INFO:fbprophet:Disabling daily seasonality. Run prophet with daily_seasonality=True to override this.\n"
          ]
        },
        {
          "output_type": "stream",
          "name": "stdout",
          "text": [
            "Model Number: 775 with model FBProphet in generation 9 of 10\n"
          ]
        },
        {
          "output_type": "stream",
          "name": "stderr",
          "text": [
            "INFO:fbprophet:Disabling yearly seasonality. Run prophet with yearly_seasonality=True to override this.\n",
            "INFO:fbprophet:Disabling daily seasonality. Run prophet with daily_seasonality=True to override this.\n"
          ]
        },
        {
          "output_type": "stream",
          "name": "stdout",
          "text": [
            "Model Number: 776 with model FBProphet in generation 9 of 10\n"
          ]
        },
        {
          "output_type": "stream",
          "name": "stderr",
          "text": [
            "INFO:fbprophet:Disabling yearly seasonality. Run prophet with yearly_seasonality=True to override this.\n",
            "INFO:fbprophet:Disabling daily seasonality. Run prophet with daily_seasonality=True to override this.\n"
          ]
        },
        {
          "output_type": "stream",
          "name": "stdout",
          "text": [
            "Model Number: 777 with model FBProphet in generation 9 of 10\n",
            "Model Number: 778 with model ETS in generation 9 of 10\n",
            "Model Number: 779 with model ETS in generation 9 of 10\n",
            "Model Number: 780 with model ETS in generation 9 of 10\n",
            "Model Number: 781 with model ETS in generation 9 of 10\n",
            "Model Number: 782 with model GLS in generation 9 of 10\n",
            "Model Number: 783 with model GLS in generation 9 of 10\n",
            "Model Number: 784 with model GLS in generation 9 of 10\n",
            "Model Number: 785 with model NVAR in generation 9 of 10\n",
            "Model Number: 786 with model NVAR in generation 9 of 10\n",
            "Model Number: 787 with model NVAR in generation 9 of 10\n",
            "Model Number: 788 with model NVAR in generation 9 of 10\n",
            "Model Number: 789 with model SectionalMotif in generation 9 of 10\n",
            "Model Number: 790 with model SectionalMotif in generation 9 of 10\n",
            "Model Number: 791 with model SectionalMotif in generation 9 of 10\n",
            "Model Number: 792 with model SectionalMotif in generation 9 of 10\n",
            "Model Number: 793 with model ZeroesNaive in generation 9 of 10\n",
            "Model Number: 794 with model ZeroesNaive in generation 9 of 10\n",
            "Model Number: 795 with model GluonTS in generation 9 of 10\n",
            "Template Eval Error: ImportError('GluonTS installation not found or installed version is incompatible with AutoTS.') in model 795: GluonTS\n",
            "Model Number: 796 with model GluonTS in generation 9 of 10\n",
            "Template Eval Error: ImportError('GluonTS installation not found or installed version is incompatible with AutoTS.') in model 796: GluonTS\n",
            "Model Number: 797 with model GluonTS in generation 9 of 10\n",
            "Template Eval Error: ImportError('GluonTS installation not found or installed version is incompatible with AutoTS.') in model 797: GluonTS\n",
            "Model Number: 798 with model GluonTS in generation 9 of 10\n",
            "Template Eval Error: ImportError('GluonTS installation not found or installed version is incompatible with AutoTS.') in model 798: GluonTS\n",
            "Model Number: 799 with model VAR in generation 9 of 10\n",
            "Template Eval Error: ValueError('Only gave one variable to VAR') in model 799: VAR\n",
            "Model Number: 800 with model VAR in generation 9 of 10\n",
            "Template Eval Error: ValueError('Only gave one variable to VAR') in model 800: VAR\n",
            "Model Number: 801 with model VAR in generation 9 of 10\n",
            "Template Eval Error: ValueError('Only gave one variable to VAR') in model 801: VAR\n",
            "Model Number: 802 with model VAR in generation 9 of 10\n",
            "Template Eval Error: ValueError('Only gave one variable to VAR') in model 802: VAR\n",
            "Model Number: 803 with model VECM in generation 9 of 10\n",
            "Template Eval Error: ValueError('Only gave one variable to VECM') in model 803: VECM\n",
            "Model Number: 804 with model VECM in generation 9 of 10\n",
            "Template Eval Error: ValueError('Only gave one variable to VECM') in model 804: VECM\n",
            "Model Number: 805 with model VECM in generation 9 of 10\n",
            "Template Eval Error: ValueError('Only gave one variable to VECM') in model 805: VECM\n",
            "Model Number: 806 with model UnivariateRegression in generation 9 of 10\n",
            "Template Eval Error: ValueError(\"regression_type='User' but not future_regressor supplied.\") in model 806: UnivariateRegression\n",
            "Model Number: 807 with model UnivariateRegression in generation 9 of 10\n",
            "Template Eval Error: TypeError(\"unsupported operand type(s) for -: 'NoneType' and 'int'\") in model 807: UnivariateRegression\n",
            "Model Number: 808 with model UnivariateRegression in generation 9 of 10\n",
            "Template Eval Error: ValueError(\"regression_type='User' but not future_regressor supplied.\") in model 808: UnivariateRegression\n",
            "Model Number: 809 with model UnivariateRegression in generation 9 of 10\n",
            "Template Eval Error: ValueError(\"regression_type='User' but not future_regressor supplied.\") in model 809: UnivariateRegression\n",
            "Model Number: 810 with model UnivariateMotif in generation 9 of 10\n",
            "Template Eval Error: AttributeError(\"module 'numpy.lib.stride_tricks' has no attribute 'sliding_window_view'\") in model 810: UnivariateMotif\n",
            "Model Number: 811 with model UnivariateMotif in generation 9 of 10\n",
            "Template Eval Error: AttributeError(\"module 'numpy.lib.stride_tricks' has no attribute 'sliding_window_view'\") in model 811: UnivariateMotif\n",
            "Model Number: 812 with model UnivariateMotif in generation 9 of 10\n",
            "Template Eval Error: AttributeError(\"module 'numpy.lib.stride_tricks' has no attribute 'sliding_window_view'\") in model 812: UnivariateMotif\n",
            "Model Number: 813 with model UnivariateMotif in generation 9 of 10\n",
            "Template Eval Error: AttributeError(\"module 'numpy.lib.stride_tricks' has no attribute 'sliding_window_view'\") in model 813: UnivariateMotif\n",
            "Model Number: 814 with model MultivariateMotif in generation 9 of 10\n",
            "Template Eval Error: AttributeError(\"module 'numpy.lib.stride_tricks' has no attribute 'sliding_window_view'\") in model 814: MultivariateMotif\n",
            "Model Number: 815 with model MultivariateMotif in generation 9 of 10\n",
            "Template Eval Error: AttributeError(\"module 'numpy.lib.stride_tricks' has no attribute 'sliding_window_view'\") in model 815: MultivariateMotif\n",
            "Model Number: 816 with model MultivariateMotif in generation 9 of 10\n",
            "Template Eval Error: AttributeError(\"module 'numpy.lib.stride_tricks' has no attribute 'sliding_window_view'\") in model 816: MultivariateMotif\n",
            "Model Number: 817 with model MultivariateMotif in generation 9 of 10\n",
            "Template Eval Error: AttributeError(\"module 'numpy.lib.stride_tricks' has no attribute 'sliding_window_view'\") in model 817: MultivariateMotif\n",
            "Model Number: 818 with model Theta in generation 9 of 10\n",
            "Template Eval Error: ModuleNotFoundError(\"No module named 'statsmodels.tsa.forecasting'\") in model 818: Theta\n",
            "Model Number: 819 with model Theta in generation 9 of 10\n",
            "Template Eval Error: ModuleNotFoundError(\"No module named 'statsmodels.tsa.forecasting'\") in model 819: Theta\n",
            "Model Number: 820 with model Theta in generation 9 of 10\n",
            "Template Eval Error: ModuleNotFoundError(\"No module named 'statsmodels.tsa.forecasting'\") in model 820: Theta\n",
            "Model Number: 821 with model Theta in generation 9 of 10\n",
            "Template Eval Error: ModuleNotFoundError(\"No module named 'statsmodels.tsa.forecasting'\") in model 821: Theta\n",
            "Model Number: 822 with model ARDL in generation 9 of 10\n",
            "Template Eval Error: ImportError(\"cannot import name 'ARDL' from 'statsmodels.tsa.api' (/usr/local/lib/python3.7/dist-packages/statsmodels/tsa/api.py)\") in model 822: ARDL\n",
            "Model Number: 823 with model ARDL in generation 9 of 10\n",
            "Template Eval Error: ImportError(\"cannot import name 'ARDL' from 'statsmodels.tsa.api' (/usr/local/lib/python3.7/dist-packages/statsmodels/tsa/api.py)\") in model 823: ARDL\n",
            "Model Number: 824 with model ARDL in generation 9 of 10\n",
            "Template Eval Error: ValueError(\"regression_type='User' but future_regressor not supplied\") in model 824: ARDL\n",
            "Model Number: 825 with model ARDL in generation 9 of 10\n",
            "Template Eval Error: ImportError(\"cannot import name 'ARDL' from 'statsmodels.tsa.api' (/usr/local/lib/python3.7/dist-packages/statsmodels/tsa/api.py)\") in model 825: ARDL\n",
            "New Generation: 10 of 10\n",
            "Model Number: 826 with model LastValueNaive in generation 10 of 10\n",
            "Model Number: 827 with model LastValueNaive in generation 10 of 10\n",
            "Template Eval Error: ImportError(\"cannot import name 'STL' from 'statsmodels.tsa.seasonal' (/usr/local/lib/python3.7/dist-packages/statsmodels/tsa/seasonal.py)\") in model 827: LastValueNaive\n",
            "Model Number: 828 with model DatepartRegression in generation 10 of 10\n",
            "Template Eval Error: ValueError(\"regression_type='User' but no future_regressor passed\") in model 828: DatepartRegression\n",
            "Model Number: 829 with model DatepartRegression in generation 10 of 10\n"
          ]
        },
        {
          "output_type": "stream",
          "name": "stderr",
          "text": [
            "/usr/local/lib/python3.7/dist-packages/sklearn/svm/_base.py:1208: ConvergenceWarning:\n",
            "\n",
            "Liblinear failed to converge, increase the number of iterations.\n",
            "\n",
            "/usr/local/lib/python3.7/dist-packages/sklearn/neighbors/_regression.py:470: UserWarning:\n",
            "\n",
            "One or more samples have no neighbors within specified radius; predicting NaN.\n",
            "\n"
          ]
        },
        {
          "output_type": "stream",
          "name": "stdout",
          "text": [
            "Model Number: 830 with model DatepartRegression in generation 10 of 10\n",
            "Template Eval Error: ValueError('Model DatepartRegression returned NaN for one or more series') in model 830: DatepartRegression\n",
            "Model Number: 831 with model SeasonalNaive in generation 10 of 10\n",
            "Model Number: 832 with model SeasonalNaive in generation 10 of 10\n",
            "Model Number: 833 with model SeasonalNaive in generation 10 of 10\n",
            "Model Number: 834 with model SeasonalNaive in generation 10 of 10\n",
            "Model Number: 835 with model UnobservedComponents in generation 10 of 10\n",
            "Model Number: 836 with model UnobservedComponents in generation 10 of 10\n",
            "Template Eval Error: ValueError(\"regression_type='User' but no future_regressor supplied\") in model 836: UnobservedComponents\n",
            "Model Number: 837 with model UnobservedComponents in generation 10 of 10\n",
            "Template Eval Error: ValueError(\"regression_type='User' but no future_regressor supplied\") in model 837: UnobservedComponents\n",
            "Model Number: 838 with model GLM in generation 10 of 10\n"
          ]
        },
        {
          "output_type": "stream",
          "name": "stderr",
          "text": [
            "/usr/local/lib/python3.7/dist-packages/statsmodels/genmod/generalized_linear_model.py:273: DomainWarning:\n",
            "\n",
            "The inverse_power link function does not respect the domain of the Gamma family.\n",
            "\n",
            "/usr/local/lib/python3.7/dist-packages/sklearn/linear_model/_coordinate_descent.py:648: ConvergenceWarning:\n",
            "\n",
            "Objective did not converge. You might want to increase the number of iterations, check the scale of the features or consider increasing regularisation. Duality gap: 1.676e+04, tolerance: 2.600e+01\n",
            "\n"
          ]
        },
        {
          "output_type": "stream",
          "name": "stdout",
          "text": [
            "Model Number: 839 with model GLM in generation 10 of 10\n",
            "Template Eval Error: ValueError('NaN, inf or invalid value detected in weights, estimation infeasible.') in model 839: GLM\n",
            "Model Number: 840 with model GLM in generation 10 of 10\n"
          ]
        },
        {
          "output_type": "stream",
          "name": "stderr",
          "text": [
            "/usr/local/lib/python3.7/dist-packages/statsmodels/genmod/families/links.py:521: RuntimeWarning:\n",
            "\n",
            "overflow encountered in exp\n",
            "\n",
            "/usr/local/lib/python3.7/dist-packages/statsmodels/genmod/families/family.py:134: RuntimeWarning:\n",
            "\n",
            "invalid value encountered in multiply\n",
            "\n",
            "/usr/local/lib/python3.7/dist-packages/statsmodels/genmod/generalized_linear_model.py:1163: RuntimeWarning:\n",
            "\n",
            "invalid value encountered in multiply\n",
            "\n",
            "/usr/local/lib/python3.7/dist-packages/statsmodels/genmod/families/family.py:1227: RuntimeWarning:\n",
            "\n",
            "invalid value encountered in log\n",
            "\n"
          ]
        },
        {
          "output_type": "stream",
          "name": "stdout",
          "text": [
            "Model Number: 841 with model GLM in generation 10 of 10\n",
            "Model Number: 842 with model WindowRegression in generation 10 of 10\n"
          ]
        },
        {
          "output_type": "stream",
          "name": "stderr",
          "text": [
            "/usr/local/lib/python3.7/dist-packages/sklearn/utils/validation.py:985: DataConversionWarning:\n",
            "\n",
            "A column-vector y was passed when a 1d array was expected. Please change the shape of y to (n_samples, ), for example using ravel().\n",
            "\n"
          ]
        },
        {
          "output_type": "stream",
          "name": "stdout",
          "text": [
            "Template Eval Error: ValueError('Some value(s) of y are out of the valid range for family PoissonDistribution') in model 842: WindowRegression\n",
            "Model Number: 843 with model WindowRegression in generation 10 of 10\n",
            "Template Eval Error: ValueError('Some value(s) of y are out of the valid range for family PoissonDistribution') in model 843: WindowRegression\n",
            "Model Number: 844 with model WindowRegression in generation 10 of 10\n",
            "Model Number: 845 with model AverageValueNaive in generation 10 of 10\n",
            "Model Number: 846 with model AverageValueNaive in generation 10 of 10\n",
            "Model Number: 847 with model AverageValueNaive in generation 10 of 10\n",
            "Model Number: 848 with model ETS in generation 10 of 10\n",
            "Model Number: 849 with model ETS in generation 10 of 10\n",
            "Model Number: 850 with model ETS in generation 10 of 10\n",
            "Model Number: 851 with model ETS in generation 10 of 10\n"
          ]
        },
        {
          "output_type": "stream",
          "name": "stderr",
          "text": [
            "INFO:fbprophet:Disabling yearly seasonality. Run prophet with yearly_seasonality=True to override this.\n",
            "INFO:fbprophet:Disabling daily seasonality. Run prophet with daily_seasonality=True to override this.\n"
          ]
        },
        {
          "output_type": "stream",
          "name": "stdout",
          "text": [
            "Model Number: 852 with model FBProphet in generation 10 of 10\n"
          ]
        },
        {
          "output_type": "stream",
          "name": "stderr",
          "text": [
            "INFO:fbprophet:Disabling yearly seasonality. Run prophet with yearly_seasonality=True to override this.\n",
            "INFO:fbprophet:Disabling daily seasonality. Run prophet with daily_seasonality=True to override this.\n"
          ]
        },
        {
          "output_type": "stream",
          "name": "stdout",
          "text": [
            "Model Number: 853 with model FBProphet in generation 10 of 10\n"
          ]
        },
        {
          "output_type": "stream",
          "name": "stderr",
          "text": [
            "INFO:fbprophet:Disabling yearly seasonality. Run prophet with yearly_seasonality=True to override this.\n",
            "INFO:fbprophet:Disabling daily seasonality. Run prophet with daily_seasonality=True to override this.\n"
          ]
        },
        {
          "output_type": "stream",
          "name": "stdout",
          "text": [
            "Model Number: 854 with model FBProphet in generation 10 of 10\n",
            "Model Number: 855 with model GLS in generation 10 of 10\n",
            "Model Number: 856 with model GLS in generation 10 of 10\n",
            "Model Number: 857 with model NVAR in generation 10 of 10\n",
            "Model Number: 858 with model NVAR in generation 10 of 10\n",
            "Model Number: 859 with model NVAR in generation 10 of 10\n",
            "Model Number: 860 with model NVAR in generation 10 of 10\n",
            "Model Number: 861 with model SectionalMotif in generation 10 of 10\n",
            "Template Eval Error: ValueError('kth(=10) out of bounds (2)') in model 861: SectionalMotif\n",
            "Model Number: 862 with model SectionalMotif in generation 10 of 10\n",
            "Model Number: 863 with model SectionalMotif in generation 10 of 10\n",
            "Template Eval Error: ValueError('kth(=15) out of bounds (15)') in model 863: SectionalMotif\n",
            "Model Number: 864 with model SectionalMotif in generation 10 of 10\n",
            "Template Eval Error: ValueError('Found array with 0 sample(s) (shape=(0, 30)) while a minimum of 1 is required by check_pairwise_arrays.') in model 864: SectionalMotif\n",
            "Model Number: 865 with model ZeroesNaive in generation 10 of 10\n",
            "Model Number: 866 with model ZeroesNaive in generation 10 of 10\n",
            "Model Number: 867 with model ZeroesNaive in generation 10 of 10\n",
            "Model Number: 868 with model Ensemble in generation 11 of 0\n",
            "Model Number: 869 with model Ensemble in generation 11 of 0\n",
            "Model Number: 870 with model Ensemble in generation 11 of 0\n"
          ]
        },
        {
          "output_type": "stream",
          "name": "stderr",
          "text": [
            "/usr/local/lib/python3.7/dist-packages/sklearn/svm/_base.py:1208: ConvergenceWarning:\n",
            "\n",
            "Liblinear failed to converge, increase the number of iterations.\n",
            "\n"
          ]
        },
        {
          "output_type": "stream",
          "name": "stdout",
          "text": [
            "Model Number: 871 with model Ensemble in generation 11 of 0\n"
          ]
        },
        {
          "output_type": "stream",
          "name": "stderr",
          "text": [
            "/usr/local/lib/python3.7/dist-packages/sklearn/svm/_base.py:1208: ConvergenceWarning:\n",
            "\n",
            "Liblinear failed to converge, increase the number of iterations.\n",
            "\n"
          ]
        },
        {
          "output_type": "stream",
          "name": "stdout",
          "text": [
            "Model Number: 872 with model Ensemble in generation 11 of 0\n"
          ]
        },
        {
          "output_type": "stream",
          "name": "stderr",
          "text": [
            "/usr/local/lib/python3.7/dist-packages/sklearn/svm/_base.py:1208: ConvergenceWarning:\n",
            "\n",
            "Liblinear failed to converge, increase the number of iterations.\n",
            "\n"
          ]
        },
        {
          "output_type": "stream",
          "name": "stdout",
          "text": [
            "Validation Round: 1\n",
            "Model Number: 1 of 106 with model LastValueNaive for Validation 1\n",
            "1 - LastValueNaive with avg smape 2.14: \n",
            "Model Number: 2 of 106 with model LastValueNaive for Validation 1\n",
            "2 - LastValueNaive with avg smape 9.34: \n",
            "Model Number: 3 of 106 with model Ensemble for Validation 1\n",
            "3 - Ensemble with avg smape 2.34: \n",
            "Model Number: 4 of 106 with model Ensemble for Validation 1\n"
          ]
        },
        {
          "output_type": "stream",
          "name": "stderr",
          "text": [
            "/usr/local/lib/python3.7/dist-packages/sklearn/svm/_base.py:1208: ConvergenceWarning:\n",
            "\n",
            "Liblinear failed to converge, increase the number of iterations.\n",
            "\n"
          ]
        },
        {
          "output_type": "stream",
          "name": "stdout",
          "text": [
            "4 - Ensemble with avg smape 2.17: \n",
            "Model Number: 5 of 106 with model LastValueNaive for Validation 1\n",
            "5 - LastValueNaive with avg smape 4.06: \n",
            "Model Number: 6 of 106 with model DatepartRegression for Validation 1\n",
            "6 - DatepartRegression with avg smape 4.99: \n",
            "Model Number: 7 of 106 with model Ensemble for Validation 1\n"
          ]
        },
        {
          "output_type": "stream",
          "name": "stderr",
          "text": [
            "/usr/local/lib/python3.7/dist-packages/sklearn/svm/_base.py:1208: ConvergenceWarning:\n",
            "\n",
            "Liblinear failed to converge, increase the number of iterations.\n",
            "\n",
            "/usr/local/lib/python3.7/dist-packages/sklearn/svm/_base.py:1208: ConvergenceWarning:\n",
            "\n",
            "Liblinear failed to converge, increase the number of iterations.\n",
            "\n"
          ]
        },
        {
          "output_type": "stream",
          "name": "stdout",
          "text": [
            "7 - Ensemble with avg smape 1.64: \n",
            "Model Number: 8 of 106 with model SeasonalNaive for Validation 1\n",
            "8 - SeasonalNaive with avg smape 1.44: \n",
            "Model Number: 9 of 106 with model LastValueNaive for Validation 1\n",
            "9 - LastValueNaive with avg smape 15.3: \n",
            "Model Number: 10 of 106 with model LastValueNaive for Validation 1\n",
            "10 - LastValueNaive with avg smape 10.06: \n",
            "Model Number: 11 of 106 with model Ensemble for Validation 1\n",
            "11 - Ensemble with avg smape 8.44: \n",
            "Model Number: 12 of 106 with model DatepartRegression for Validation 1\n",
            "12 - DatepartRegression with avg smape 3.51: \n",
            "Model Number: 13 of 106 with model UnobservedComponents for Validation 1\n",
            "13 - UnobservedComponents with avg smape 4.56: \n",
            "Model Number: 14 of 106 with model LastValueNaive for Validation 1\n"
          ]
        },
        {
          "output_type": "stream",
          "name": "stderr",
          "text": [
            "/usr/local/lib/python3.7/dist-packages/sklearn/svm/_base.py:1208: ConvergenceWarning:\n",
            "\n",
            "Liblinear failed to converge, increase the number of iterations.\n",
            "\n"
          ]
        },
        {
          "output_type": "stream",
          "name": "stdout",
          "text": [
            "14 - LastValueNaive with avg smape 4.31: \n",
            "Model Number: 15 of 106 with model LastValueNaive for Validation 1\n",
            "15 - LastValueNaive with avg smape 4.3: \n",
            "Model Number: 16 of 106 with model LastValueNaive for Validation 1\n",
            "16 - LastValueNaive with avg smape 4.3: \n",
            "Model Number: 17 of 106 with model SeasonalNaive for Validation 1\n",
            "17 - SeasonalNaive with avg smape 2.2: \n",
            "Model Number: 18 of 106 with model GLM for Validation 1\n"
          ]
        },
        {
          "output_type": "stream",
          "name": "stderr",
          "text": [
            "/usr/local/lib/python3.7/dist-packages/statsmodels/genmod/families/family.py:1227: RuntimeWarning:\n",
            "\n",
            "invalid value encountered in log\n",
            "\n"
          ]
        },
        {
          "output_type": "stream",
          "name": "stdout",
          "text": [
            "18 - GLM with avg smape 2.9: \n",
            "Model Number: 19 of 106 with model SeasonalNaive for Validation 1\n",
            "19 - SeasonalNaive with avg smape 2.56: \n",
            "Model Number: 20 of 106 with model SeasonalNaive for Validation 1\n",
            "20 - SeasonalNaive with avg smape 2.56: \n",
            "Model Number: 21 of 106 with model SeasonalNaive for Validation 1\n",
            "21 - SeasonalNaive with avg smape 2.46: \n",
            "Model Number: 22 of 106 with model UnobservedComponents for Validation 1\n",
            "22 - UnobservedComponents with avg smape 2.05: \n",
            "Model Number: 23 of 106 with model GLM for Validation 1\n"
          ]
        },
        {
          "output_type": "stream",
          "name": "stderr",
          "text": [
            "/usr/local/lib/python3.7/dist-packages/statsmodels/genmod/generalized_linear_model.py:273: DomainWarning:\n",
            "\n",
            "The inverse_power link function does not respect the domain of the Gamma family.\n",
            "\n"
          ]
        },
        {
          "output_type": "stream",
          "name": "stdout",
          "text": [
            "23 - GLM with avg smape 1.42: \n",
            "Model Number: 24 of 106 with model SeasonalNaive for Validation 1\n",
            "24 - SeasonalNaive with avg smape 1.31: \n",
            "Model Number: 25 of 106 with model SeasonalNaive for Validation 1\n",
            "25 - SeasonalNaive with avg smape 6.84: \n",
            "Model Number: 26 of 106 with model WindowRegression for Validation 1\n"
          ]
        },
        {
          "output_type": "stream",
          "name": "stderr",
          "text": [
            "/usr/local/lib/python3.7/dist-packages/sklearn/utils/validation.py:985: DataConversionWarning:\n",
            "\n",
            "A column-vector y was passed when a 1d array was expected. Please change the shape of y to (n_samples, ), for example using ravel().\n",
            "\n"
          ]
        },
        {
          "output_type": "stream",
          "name": "stdout",
          "text": [
            "26 - WindowRegression with avg smape 0.99: \n",
            "Model Number: 27 of 106 with model DatepartRegression for Validation 1\n",
            "27 - DatepartRegression with avg smape 3.12: \n",
            "Model Number: 28 of 106 with model SeasonalNaive for Validation 1\n",
            "28 - SeasonalNaive with avg smape 1.16: \n",
            "Model Number: 29 of 106 with model FBProphet for Validation 1\n"
          ]
        },
        {
          "output_type": "stream",
          "name": "stderr",
          "text": [
            "INFO:fbprophet:Disabling yearly seasonality. Run prophet with yearly_seasonality=True to override this.\n",
            "INFO:fbprophet:Disabling daily seasonality. Run prophet with daily_seasonality=True to override this.\n"
          ]
        },
        {
          "output_type": "stream",
          "name": "stdout",
          "text": [
            "29 - FBProphet with avg smape 15.9: \n",
            "Model Number: 30 of 106 with model ETS for Validation 1\n",
            "30 - ETS with avg smape 8.34: \n",
            "Model Number: 31 of 106 with model AverageValueNaive for Validation 1\n"
          ]
        },
        {
          "output_type": "stream",
          "name": "stderr",
          "text": [
            "INFO:fbprophet:Disabling yearly seasonality. Run prophet with yearly_seasonality=True to override this.\n",
            "INFO:fbprophet:Disabling daily seasonality. Run prophet with daily_seasonality=True to override this.\n"
          ]
        },
        {
          "output_type": "stream",
          "name": "stdout",
          "text": [
            "31 - AverageValueNaive with avg smape 1.18: \n",
            "Model Number: 32 of 106 with model FBProphet for Validation 1\n"
          ]
        },
        {
          "output_type": "stream",
          "name": "stderr",
          "text": [
            "INFO:fbprophet:Disabling yearly seasonality. Run prophet with yearly_seasonality=True to override this.\n",
            "INFO:fbprophet:Disabling daily seasonality. Run prophet with daily_seasonality=True to override this.\n"
          ]
        },
        {
          "output_type": "stream",
          "name": "stdout",
          "text": [
            "32 - FBProphet with avg smape 1.62: \n",
            "Model Number: 33 of 106 with model FBProphet for Validation 1\n"
          ]
        },
        {
          "output_type": "stream",
          "name": "stderr",
          "text": [
            "INFO:fbprophet:Disabling yearly seasonality. Run prophet with yearly_seasonality=True to override this.\n",
            "INFO:fbprophet:Disabling daily seasonality. Run prophet with daily_seasonality=True to override this.\n"
          ]
        },
        {
          "output_type": "stream",
          "name": "stdout",
          "text": [
            "33 - FBProphet with avg smape 15.53: \n",
            "Model Number: 34 of 106 with model FBProphet for Validation 1\n"
          ]
        },
        {
          "output_type": "stream",
          "name": "stderr",
          "text": [
            "INFO:fbprophet:Disabling yearly seasonality. Run prophet with yearly_seasonality=True to override this.\n",
            "INFO:fbprophet:Disabling daily seasonality. Run prophet with daily_seasonality=True to override this.\n"
          ]
        },
        {
          "output_type": "stream",
          "name": "stdout",
          "text": [
            "34 - FBProphet with avg smape 14.83: \n",
            "Model Number: 35 of 106 with model FBProphet for Validation 1\n",
            "35 - FBProphet with avg smape 1.62: \n",
            "Model Number: 36 of 106 with model ETS for Validation 1\n",
            "36 - ETS with avg smape 0.99: \n",
            "Model Number: 37 of 106 with model GLM for Validation 1\n",
            "37 - GLM with avg smape 1.4: \n",
            "Model Number: 38 of 106 with model GLM for Validation 1\n",
            "38 - GLM with avg smape 1.4: \n",
            "Model Number: 39 of 106 with model GLS for Validation 1\n",
            "39 - GLS with avg smape 1.4: \n",
            "Model Number: 40 of 106 with model FBProphet for Validation 1\n"
          ]
        },
        {
          "output_type": "stream",
          "name": "stderr",
          "text": [
            "INFO:fbprophet:Disabling yearly seasonality. Run prophet with yearly_seasonality=True to override this.\n",
            "INFO:fbprophet:Disabling daily seasonality. Run prophet with daily_seasonality=True to override this.\n"
          ]
        },
        {
          "output_type": "stream",
          "name": "stdout",
          "text": [
            "40 - FBProphet with avg smape 16.13: \n",
            "Model Number: 41 of 106 with model ETS for Validation 1\n",
            "41 - ETS with avg smape 1.65: \n",
            "Model Number: 42 of 106 with model FBProphet for Validation 1\n"
          ]
        },
        {
          "output_type": "stream",
          "name": "stderr",
          "text": [
            "INFO:fbprophet:Disabling yearly seasonality. Run prophet with yearly_seasonality=True to override this.\n",
            "INFO:fbprophet:Disabling daily seasonality. Run prophet with daily_seasonality=True to override this.\n"
          ]
        },
        {
          "output_type": "stream",
          "name": "stdout",
          "text": [
            "42 - FBProphet with avg smape 16.19: \n",
            "Model Number: 43 of 106 with model ETS for Validation 1\n",
            "43 - ETS with avg smape 1.88: \n",
            "Model Number: 44 of 106 with model FBProphet for Validation 1\n"
          ]
        },
        {
          "output_type": "stream",
          "name": "stderr",
          "text": [
            "INFO:fbprophet:Disabling yearly seasonality. Run prophet with yearly_seasonality=True to override this.\n",
            "INFO:fbprophet:Disabling daily seasonality. Run prophet with daily_seasonality=True to override this.\n"
          ]
        },
        {
          "output_type": "stream",
          "name": "stdout",
          "text": [
            "44 - FBProphet with avg smape 5.38: \n",
            "Model Number: 45 of 106 with model GLM for Validation 1\n",
            "45 - GLM with avg smape 1.74: \n",
            "Model Number: 46 of 106 with model GLS for Validation 1\n",
            "46 - GLS with avg smape 1.55: \n",
            "Model Number: 47 of 106 with model ETS for Validation 1\n",
            "47 - ETS with avg smape 1.31: \n",
            "Model Number: 48 of 106 with model GLM for Validation 1\n",
            "48 - GLM with avg smape 1.51: \n",
            "Model Number: 49 of 106 with model GLM for Validation 1\n",
            "49 - GLM with avg smape 1.51: \n",
            "Model Number: 50 of 106 with model ETS for Validation 1\n",
            "50 - ETS with avg smape 1.43: \n",
            "Model Number: 51 of 106 with model ETS for Validation 1\n",
            "51 - ETS with avg smape 1.43: \n",
            "Model Number: 52 of 106 with model NVAR for Validation 1\n",
            "52 - NVAR with avg smape 7.36: \n",
            "Model Number: 53 of 106 with model ETS for Validation 1\n",
            "53 - ETS with avg smape 1.33: \n",
            "Model Number: 54 of 106 with model GLS for Validation 1\n",
            "54 - GLS with avg smape 1.33: \n",
            "Model Number: 55 of 106 with model NVAR for Validation 1\n",
            "55 - NVAR with avg smape 1.65: \n",
            "Model Number: 56 of 106 with model NVAR for Validation 1\n",
            "56 - NVAR with avg smape 1.74: \n",
            "Model Number: 57 of 106 with model GLS for Validation 1\n",
            "57 - GLS with avg smape 1.13: \n",
            "Model Number: 58 of 106 with model AverageValueNaive for Validation 1\n",
            "58 - AverageValueNaive with avg smape 2.11: \n",
            "Model Number: 59 of 106 with model AverageValueNaive for Validation 1\n",
            "59 - AverageValueNaive with avg smape 1.32: \n",
            "Model Number: 60 of 106 with model AverageValueNaive for Validation 1\n",
            "60 - AverageValueNaive with avg smape 1.65: \n",
            "Model Number: 61 of 106 with model AverageValueNaive for Validation 1\n",
            "61 - AverageValueNaive with avg smape 1.16: \n",
            "Model Number: 62 of 106 with model AverageValueNaive for Validation 1\n",
            "62 - AverageValueNaive with avg smape 1.16: \n",
            "Model Number: 63 of 106 with model SectionalMotif for Validation 1\n",
            "63 - SectionalMotif with avg smape 2.46: \n",
            "Model Number: 64 of 106 with model GLS for Validation 1\n",
            "64 - GLS with avg smape 1.29: \n",
            "Model Number: 65 of 106 with model GLS for Validation 1\n",
            "65 - GLS with avg smape 1.29: \n",
            "Model Number: 66 of 106 with model AverageValueNaive for Validation 1\n",
            "66 - AverageValueNaive with avg smape 1.33: \n",
            "Model Number: 67 of 106 with model SectionalMotif for Validation 1\n",
            "67 - SectionalMotif with avg smape 1.6: \n",
            "Model Number: 68 of 106 with model SectionalMotif for Validation 1\n",
            "68 - SectionalMotif with avg smape 1.39: \n",
            "Model Number: 69 of 106 with model WindowRegression for Validation 1\n",
            "69 - WindowRegression with avg smape 1.81: \n",
            "Model Number: 70 of 106 with model AverageValueNaive for Validation 1\n",
            "70 - AverageValueNaive with avg smape 1.33: \n",
            "Model Number: 71 of 106 with model NVAR for Validation 1\n",
            "71 - NVAR with avg smape 7.65: \n",
            "Model Number: 72 of 106 with model SectionalMotif for Validation 1\n",
            "72 - SectionalMotif with avg smape 1.48: \n",
            "Model Number: 73 of 106 with model DatepartRegression for Validation 1\n",
            "73 - DatepartRegression with avg smape 1.43: \n",
            "Model Number: 74 of 106 with model NVAR for Validation 1\n",
            "74 - NVAR with avg smape 6.16: \n",
            "Model Number: 75 of 106 with model GLS for Validation 1\n",
            "75 - GLS with avg smape 1.16: \n",
            "Model Number: 76 of 106 with model GLS for Validation 1\n",
            "76 - GLS with avg smape 1.09: \n",
            "Model Number: 77 of 106 with model Ensemble for Validation 1\n"
          ]
        },
        {
          "output_type": "stream",
          "name": "stderr",
          "text": [
            "/usr/local/lib/python3.7/dist-packages/sklearn/svm/_base.py:1208: ConvergenceWarning:\n",
            "\n",
            "Liblinear failed to converge, increase the number of iterations.\n",
            "\n"
          ]
        },
        {
          "output_type": "stream",
          "name": "stdout",
          "text": [
            "77 - Ensemble with avg smape 2.3: \n",
            "Model Number: 78 of 106 with model SectionalMotif for Validation 1\n",
            "78 - SectionalMotif with avg smape 0.97: \n",
            "Model Number: 79 of 106 with model SectionalMotif for Validation 1\n",
            "79 - SectionalMotif with avg smape 1.16: \n",
            "Model Number: 80 of 106 with model SectionalMotif for Validation 1\n",
            "80 - SectionalMotif with avg smape 0.89: \n",
            "Model Number: 81 of 106 with model SectionalMotif for Validation 1\n",
            "81 - SectionalMotif with avg smape 1.4: \n",
            "Model Number: 82 of 106 with model WindowRegression for Validation 1\n",
            "82 - WindowRegression with avg smape 3.23: \n",
            "Model Number: 83 of 106 with model WindowRegression for Validation 1\n"
          ]
        },
        {
          "output_type": "stream",
          "name": "stderr",
          "text": [
            "/usr/local/lib/python3.7/dist-packages/autots/models/sklearn.py:1232: DataConversionWarning:\n",
            "\n",
            "A column-vector y was passed when a 1d array was expected. Please change the shape of y to (n_samples,), for example using ravel().\n",
            "\n"
          ]
        },
        {
          "output_type": "stream",
          "name": "stdout",
          "text": [
            "83 - WindowRegression with avg smape 1.37: \n",
            "Model Number: 84 of 106 with model NVAR for Validation 1\n",
            "84 - NVAR with avg smape 6.2: \n",
            "Model Number: 85 of 106 with model WindowRegression for Validation 1\n",
            "85 - WindowRegression with avg smape 1.8: \n",
            "Model Number: 86 of 106 with model NVAR for Validation 1\n",
            "86 - NVAR with avg smape 2.69: \n",
            "Model Number: 87 of 106 with model GLM for Validation 1\n",
            "87 - GLM with avg smape 1.48: \n",
            "Model Number: 88 of 106 with model NVAR for Validation 1\n",
            "88 - NVAR with avg smape 1.33: \n",
            "Model Number: 89 of 106 with model WindowRegression for Validation 1\n",
            "89 - WindowRegression with avg smape 1.68: \n",
            "Model Number: 90 of 106 with model WindowRegression for Validation 1\n"
          ]
        },
        {
          "output_type": "stream",
          "name": "stderr",
          "text": [
            "/usr/local/lib/python3.7/dist-packages/sklearn/svm/_base.py:1208: ConvergenceWarning:\n",
            "\n",
            "Liblinear failed to converge, increase the number of iterations.\n",
            "\n",
            "/usr/local/lib/python3.7/dist-packages/sklearn/svm/_base.py:1208: ConvergenceWarning:\n",
            "\n",
            "Liblinear failed to converge, increase the number of iterations.\n",
            "\n",
            "/usr/local/lib/python3.7/dist-packages/sklearn/svm/_base.py:1208: ConvergenceWarning:\n",
            "\n",
            "Liblinear failed to converge, increase the number of iterations.\n",
            "\n",
            "/usr/local/lib/python3.7/dist-packages/sklearn/svm/_base.py:1208: ConvergenceWarning:\n",
            "\n",
            "Liblinear failed to converge, increase the number of iterations.\n",
            "\n",
            "/usr/local/lib/python3.7/dist-packages/sklearn/svm/_base.py:1208: ConvergenceWarning:\n",
            "\n",
            "Liblinear failed to converge, increase the number of iterations.\n",
            "\n",
            "/usr/local/lib/python3.7/dist-packages/sklearn/svm/_base.py:1208: ConvergenceWarning:\n",
            "\n",
            "Liblinear failed to converge, increase the number of iterations.\n",
            "\n",
            "/usr/local/lib/python3.7/dist-packages/sklearn/svm/_base.py:1208: ConvergenceWarning:\n",
            "\n",
            "Liblinear failed to converge, increase the number of iterations.\n",
            "\n",
            "/usr/local/lib/python3.7/dist-packages/sklearn/svm/_base.py:1208: ConvergenceWarning:\n",
            "\n",
            "Liblinear failed to converge, increase the number of iterations.\n",
            "\n",
            "/usr/local/lib/python3.7/dist-packages/sklearn/svm/_base.py:1208: ConvergenceWarning:\n",
            "\n",
            "Liblinear failed to converge, increase the number of iterations.\n",
            "\n",
            "/usr/local/lib/python3.7/dist-packages/sklearn/svm/_base.py:1208: ConvergenceWarning:\n",
            "\n",
            "Liblinear failed to converge, increase the number of iterations.\n",
            "\n"
          ]
        },
        {
          "output_type": "stream",
          "name": "stdout",
          "text": [
            "90 - WindowRegression with avg smape 0.92: \n",
            "Model Number: 91 of 106 with model UnobservedComponents for Validation 1\n",
            "91 - UnobservedComponents with avg smape 1.3: \n",
            "Model Number: 92 of 106 with model DatepartRegression for Validation 1\n",
            "Epoch 1/50\n",
            "1/1 [==============================] - 6s 6s/step - loss: 160795672822415360.0000 - val_loss: 32009594540654592.0000\n",
            "Epoch 2/50\n",
            "1/1 [==============================] - 0s 292ms/step - loss: 94099812877598720.0000 - val_loss: 10354221257850880.0000\n",
            "Epoch 3/50\n",
            "1/1 [==============================] - 0s 293ms/step - loss: 102001092413358080.0000 - val_loss: 19236550780911616.0000\n",
            "Epoch 4/50\n",
            "1/1 [==============================] - 0s 297ms/step - loss: 87702837047328768.0000 - val_loss: 31432387443294208.0000\n",
            "Epoch 5/50\n",
            "1/1 [==============================] - 0s 301ms/step - loss: 84503206670893056.0000 - val_loss: 8170104223170560.0000\n",
            "Epoch 6/50\n",
            "1/1 [==============================] - 0s 295ms/step - loss: 98897677894287360.0000 - val_loss: 5222134771089408.0000\n",
            "Epoch 7/50\n",
            "1/1 [==============================] - 0s 286ms/step - loss: 92424243056214016.0000 - val_loss: 13169614196310016.0000\n",
            "Epoch 8/50\n",
            "1/1 [==============================] - 0s 298ms/step - loss: 90440346122584064.0000 - val_loss: 9428666542981120.0000\n",
            "Epoch 9/50\n",
            "1/1 [==============================] - 0s 293ms/step - loss: 85765153961803776.0000 - val_loss: 22368163907764224.0000\n",
            "Epoch 10/50\n",
            "1/1 [==============================] - 0s 295ms/step - loss: 82110205512384512.0000 - val_loss: 27990765724499968.0000\n",
            "Epoch 11/50\n",
            "1/1 [==============================] - 0s 290ms/step - loss: 98815618249129984.0000 - val_loss: 8983717594791936.0000\n",
            "Epoch 12/50\n",
            "1/1 [==============================] - 0s 293ms/step - loss: 86738118673170432.0000 - val_loss: 9121606446088192.0000\n",
            "Epoch 13/50\n",
            "1/1 [==============================] - 0s 298ms/step - loss: 91228438261661696.0000 - val_loss: 2095078067666944.0000\n",
            "Epoch 14/50\n",
            "1/1 [==============================] - 0s 307ms/step - loss: 95730904017666048.0000 - val_loss: 10535241244475392.0000\n",
            "Epoch 15/50\n",
            "1/1 [==============================] - 0s 301ms/step - loss: 76877827244294144.0000 - val_loss: 14723577387417600.0000\n",
            "Epoch 16/50\n",
            "1/1 [==============================] - 0s 290ms/step - loss: 83221193292775424.0000 - val_loss: 10419266390065152.0000\n",
            "Epoch 17/50\n",
            "1/1 [==============================] - 0s 302ms/step - loss: 85528346644971520.0000 - val_loss: 38216404251443200.0000\n",
            "Epoch 18/50\n",
            "1/1 [==============================] - 0s 295ms/step - loss: 80591840083968000.0000 - val_loss: 5181042134614016.0000\n",
            "Epoch 19/50\n",
            "1/1 [==============================] - 0s 294ms/step - loss: 97137127849984000.0000 - val_loss: 10195008967671808.0000\n",
            "Epoch 20/50\n",
            "1/1 [==============================] - 0s 290ms/step - loss: 97384251678261248.0000 - val_loss: 946131366313984.0000\n",
            "Epoch 21/50\n",
            "1/1 [==============================] - 0s 294ms/step - loss: 90246625917665280.0000 - val_loss: 13621207458906112.0000\n",
            "Epoch 22/50\n",
            "1/1 [==============================] - 0s 278ms/step - loss: 93209019480539136.0000 - val_loss: 29387141196808192.0000\n",
            "Epoch 23/50\n",
            "1/1 [==============================] - 0s 291ms/step - loss: 91607821312851968.0000 - val_loss: 10029185649082368.0000\n",
            "Epoch 24/50\n",
            "1/1 [==============================] - 0s 291ms/step - loss: 71248495213805568.0000 - val_loss: 30270809243123712.0000\n",
            "Epoch 25/50\n",
            "1/1 [==============================] - 0s 299ms/step - loss: 81109134535032832.0000 - val_loss: 9632378989314048.0000\n",
            "Epoch 26/50\n",
            "1/1 [==============================] - 0s 285ms/step - loss: 85114870143385600.0000 - val_loss: 25772986346766336.0000\n",
            "Epoch 27/50\n",
            "1/1 [==============================] - 0s 292ms/step - loss: 78994842394296320.0000 - val_loss: 9097363503185920.0000\n",
            "Epoch 28/50\n",
            "1/1 [==============================] - 0s 297ms/step - loss: 77013908988100608.0000 - val_loss: 14891586844360704.0000\n",
            "Epoch 29/50\n",
            "1/1 [==============================] - 0s 290ms/step - loss: 81121985077182464.0000 - val_loss: 15743928472961024.0000\n",
            "Epoch 30/50\n",
            "1/1 [==============================] - 0s 320ms/step - loss: 82617020243247104.0000 - val_loss: 4552050079694848.0000\n",
            "92 - DatepartRegression with avg smape 23.17: \n",
            "Model Number: 93 of 106 with model WindowRegression for Validation 1\n",
            "93 - WindowRegression with avg smape 2.08: \n",
            "Model Number: 94 of 106 with model DatepartRegression for Validation 1\n",
            "94 - DatepartRegression with avg smape 1.33: \n",
            "Model Number: 95 of 106 with model ZeroesNaive for Validation 1\n",
            "95 - ZeroesNaive with avg smape 1.18: \n",
            "Model Number: 96 of 106 with model ZeroesNaive for Validation 1\n",
            "96 - ZeroesNaive with avg smape 2.18: \n",
            "Model Number: 97 of 106 with model ZeroesNaive for Validation 1\n",
            "97 - ZeroesNaive with avg smape 1.19: \n",
            "Model Number: 98 of 106 with model ZeroesNaive for Validation 1\n",
            "98 - ZeroesNaive with avg smape 1.19: \n",
            "Model Number: 99 of 106 with model ZeroesNaive for Validation 1\n",
            "99 - ZeroesNaive with avg smape 1.27: \n",
            "Model Number: 100 of 106 with model ZeroesNaive for Validation 1\n",
            "100 - ZeroesNaive with avg smape 2.11: \n",
            "Model Number: 101 of 106 with model ZeroesNaive for Validation 1\n",
            "101 - ZeroesNaive with avg smape 2.06: \n",
            "Model Number: 102 of 106 with model ZeroesNaive for Validation 1\n",
            "102 - ZeroesNaive with avg smape 2.06: \n",
            "Model Number: 103 of 106 with model DatepartRegression for Validation 1\n",
            "103 - DatepartRegression with avg smape 1.43: \n",
            "Model Number: 104 of 106 with model DatepartRegression for Validation 1\n",
            "104 - DatepartRegression with avg smape 1.81: \n",
            "Model Number: 105 of 106 with model UnobservedComponents for Validation 1\n",
            "105 - UnobservedComponents with avg smape 3.66: \n",
            "Model Number: 106 of 106 with model UnobservedComponents for Validation 1\n",
            "Template Eval Error: TypeError('issubclass() arg 2 must be a class or tuple of classes') in model 106: UnobservedComponents\n",
            "Validation Round: 2\n",
            "Model Number: 1 of 106 with model LastValueNaive for Validation 2\n",
            "1 - LastValueNaive with avg smape 3.46: \n",
            "Model Number: 2 of 106 with model LastValueNaive for Validation 2\n",
            "2 - LastValueNaive with avg smape 3.86: \n",
            "Model Number: 3 of 106 with model Ensemble for Validation 2\n",
            "3 - Ensemble with avg smape 4.54: \n",
            "Model Number: 4 of 106 with model Ensemble for Validation 2\n"
          ]
        },
        {
          "output_type": "stream",
          "name": "stderr",
          "text": [
            "/usr/local/lib/python3.7/dist-packages/sklearn/svm/_base.py:1208: ConvergenceWarning:\n",
            "\n",
            "Liblinear failed to converge, increase the number of iterations.\n",
            "\n"
          ]
        },
        {
          "output_type": "stream",
          "name": "stdout",
          "text": [
            "4 - Ensemble with avg smape 5.96: \n",
            "Model Number: 5 of 106 with model LastValueNaive for Validation 2\n",
            "5 - LastValueNaive with avg smape 6.71: \n",
            "Model Number: 6 of 106 with model DatepartRegression for Validation 2\n",
            "6 - DatepartRegression with avg smape 5.94: \n",
            "Model Number: 7 of 106 with model Ensemble for Validation 2\n"
          ]
        },
        {
          "output_type": "stream",
          "name": "stderr",
          "text": [
            "/usr/local/lib/python3.7/dist-packages/sklearn/svm/_base.py:1208: ConvergenceWarning:\n",
            "\n",
            "Liblinear failed to converge, increase the number of iterations.\n",
            "\n",
            "/usr/local/lib/python3.7/dist-packages/sklearn/svm/_base.py:1208: ConvergenceWarning:\n",
            "\n",
            "Liblinear failed to converge, increase the number of iterations.\n",
            "\n"
          ]
        },
        {
          "output_type": "stream",
          "name": "stdout",
          "text": [
            "7 - Ensemble with avg smape 2.37: \n",
            "Model Number: 8 of 106 with model SeasonalNaive for Validation 2\n",
            "8 - SeasonalNaive with avg smape 3.9: \n",
            "Model Number: 9 of 106 with model LastValueNaive for Validation 2\n",
            "9 - LastValueNaive with avg smape 3.47: \n",
            "Model Number: 10 of 106 with model LastValueNaive for Validation 2\n",
            "10 - LastValueNaive with avg smape 3.27: \n",
            "Model Number: 11 of 106 with model Ensemble for Validation 2\n",
            "11 - Ensemble with avg smape 2.63: \n",
            "Model Number: 12 of 106 with model DatepartRegression for Validation 2\n",
            "12 - DatepartRegression with avg smape 3.61: \n",
            "Model Number: 13 of 106 with model UnobservedComponents for Validation 2\n"
          ]
        },
        {
          "output_type": "stream",
          "name": "stderr",
          "text": [
            "/usr/local/lib/python3.7/dist-packages/sklearn/svm/_base.py:1208: ConvergenceWarning:\n",
            "\n",
            "Liblinear failed to converge, increase the number of iterations.\n",
            "\n"
          ]
        },
        {
          "output_type": "stream",
          "name": "stdout",
          "text": [
            "13 - UnobservedComponents with avg smape 2.55: \n",
            "Model Number: 14 of 106 with model LastValueNaive for Validation 2\n",
            "14 - LastValueNaive with avg smape 1.96: \n",
            "Model Number: 15 of 106 with model LastValueNaive for Validation 2\n",
            "15 - LastValueNaive with avg smape 2.56: \n",
            "Model Number: 16 of 106 with model LastValueNaive for Validation 2\n",
            "16 - LastValueNaive with avg smape 2.56: \n",
            "Model Number: 17 of 106 with model SeasonalNaive for Validation 2\n",
            "17 - SeasonalNaive with avg smape 3.56: \n",
            "Model Number: 18 of 106 with model GLM for Validation 2\n"
          ]
        },
        {
          "output_type": "stream",
          "name": "stderr",
          "text": [
            "/usr/local/lib/python3.7/dist-packages/statsmodels/genmod/families/family.py:1227: RuntimeWarning:\n",
            "\n",
            "invalid value encountered in log\n",
            "\n"
          ]
        },
        {
          "output_type": "stream",
          "name": "stdout",
          "text": [
            "18 - GLM with avg smape 2.91: \n",
            "Model Number: 19 of 106 with model SeasonalNaive for Validation 2\n",
            "19 - SeasonalNaive with avg smape 3.76: \n",
            "Model Number: 20 of 106 with model SeasonalNaive for Validation 2\n",
            "20 - SeasonalNaive with avg smape 3.76: \n",
            "Model Number: 21 of 106 with model SeasonalNaive for Validation 2\n",
            "21 - SeasonalNaive with avg smape 2.86: \n",
            "Model Number: 22 of 106 with model UnobservedComponents for Validation 2\n",
            "22 - UnobservedComponents with avg smape 3.23: \n",
            "Model Number: 23 of 106 with model GLM for Validation 2\n"
          ]
        },
        {
          "output_type": "stream",
          "name": "stderr",
          "text": [
            "/usr/local/lib/python3.7/dist-packages/statsmodels/genmod/generalized_linear_model.py:273: DomainWarning:\n",
            "\n",
            "The inverse_power link function does not respect the domain of the Gamma family.\n",
            "\n"
          ]
        },
        {
          "output_type": "stream",
          "name": "stdout",
          "text": [
            "23 - GLM with avg smape 2.91: \n",
            "Model Number: 24 of 106 with model SeasonalNaive for Validation 2\n",
            "24 - SeasonalNaive with avg smape 4.17: \n",
            "Model Number: 25 of 106 with model SeasonalNaive for Validation 2\n",
            "25 - SeasonalNaive with avg smape 20.73: \n",
            "Model Number: 26 of 106 with model WindowRegression for Validation 2\n"
          ]
        },
        {
          "output_type": "stream",
          "name": "stderr",
          "text": [
            "/usr/local/lib/python3.7/dist-packages/sklearn/utils/validation.py:985: DataConversionWarning:\n",
            "\n",
            "A column-vector y was passed when a 1d array was expected. Please change the shape of y to (n_samples, ), for example using ravel().\n",
            "\n"
          ]
        },
        {
          "output_type": "stream",
          "name": "stdout",
          "text": [
            "26 - WindowRegression with avg smape 2.27: \n",
            "Model Number: 27 of 106 with model DatepartRegression for Validation 2\n",
            "27 - DatepartRegression with avg smape 2.96: \n",
            "Model Number: 28 of 106 with model SeasonalNaive for Validation 2\n",
            "28 - SeasonalNaive with avg smape 1.93: \n",
            "Model Number: 29 of 106 with model FBProphet for Validation 2\n"
          ]
        },
        {
          "output_type": "stream",
          "name": "stderr",
          "text": [
            "INFO:fbprophet:Disabling yearly seasonality. Run prophet with yearly_seasonality=True to override this.\n",
            "INFO:fbprophet:Disabling daily seasonality. Run prophet with daily_seasonality=True to override this.\n"
          ]
        },
        {
          "output_type": "stream",
          "name": "stdout",
          "text": [
            "29 - FBProphet with avg smape 15.1: \n",
            "Model Number: 30 of 106 with model ETS for Validation 2\n",
            "30 - ETS with avg smape 7.5: \n",
            "Model Number: 31 of 106 with model AverageValueNaive for Validation 2\n"
          ]
        },
        {
          "output_type": "stream",
          "name": "stderr",
          "text": [
            "INFO:fbprophet:Disabling yearly seasonality. Run prophet with yearly_seasonality=True to override this.\n",
            "INFO:fbprophet:Disabling daily seasonality. Run prophet with daily_seasonality=True to override this.\n"
          ]
        },
        {
          "output_type": "stream",
          "name": "stdout",
          "text": [
            "31 - AverageValueNaive with avg smape 1.73: \n",
            "Model Number: 32 of 106 with model FBProphet for Validation 2\n"
          ]
        },
        {
          "output_type": "stream",
          "name": "stderr",
          "text": [
            "INFO:fbprophet:Disabling yearly seasonality. Run prophet with yearly_seasonality=True to override this.\n",
            "INFO:fbprophet:Disabling daily seasonality. Run prophet with daily_seasonality=True to override this.\n"
          ]
        },
        {
          "output_type": "stream",
          "name": "stdout",
          "text": [
            "32 - FBProphet with avg smape 1.94: \n",
            "Model Number: 33 of 106 with model FBProphet for Validation 2\n"
          ]
        },
        {
          "output_type": "stream",
          "name": "stderr",
          "text": [
            "INFO:fbprophet:Disabling yearly seasonality. Run prophet with yearly_seasonality=True to override this.\n",
            "INFO:fbprophet:Disabling daily seasonality. Run prophet with daily_seasonality=True to override this.\n"
          ]
        },
        {
          "output_type": "stream",
          "name": "stdout",
          "text": [
            "33 - FBProphet with avg smape 14.86: \n",
            "Model Number: 34 of 106 with model FBProphet for Validation 2\n"
          ]
        },
        {
          "output_type": "stream",
          "name": "stderr",
          "text": [
            "INFO:fbprophet:Disabling yearly seasonality. Run prophet with yearly_seasonality=True to override this.\n",
            "INFO:fbprophet:Disabling daily seasonality. Run prophet with daily_seasonality=True to override this.\n"
          ]
        },
        {
          "output_type": "stream",
          "name": "stdout",
          "text": [
            "34 - FBProphet with avg smape 14.14: \n",
            "Model Number: 35 of 106 with model FBProphet for Validation 2\n",
            "35 - FBProphet with avg smape 1.94: \n",
            "Model Number: 36 of 106 with model ETS for Validation 2\n",
            "36 - ETS with avg smape 1.93: \n",
            "Model Number: 37 of 106 with model GLM for Validation 2\n"
          ]
        },
        {
          "output_type": "stream",
          "name": "stderr",
          "text": [
            "/usr/local/lib/python3.7/dist-packages/statsmodels/genmod/families/family.py:1223: RuntimeWarning:\n",
            "\n",
            "divide by zero encountered in true_divide\n",
            "\n"
          ]
        },
        {
          "output_type": "stream",
          "name": "stdout",
          "text": [
            "37 - GLM with avg smape 2.91: \n",
            "Model Number: 38 of 106 with model GLM for Validation 2\n",
            "38 - GLM with avg smape 2.48: \n",
            "Model Number: 39 of 106 with model GLS for Validation 2\n",
            "39 - GLS with avg smape 2.48: \n",
            "Model Number: 40 of 106 with model FBProphet for Validation 2\n"
          ]
        },
        {
          "output_type": "stream",
          "name": "stderr",
          "text": [
            "INFO:fbprophet:Disabling yearly seasonality. Run prophet with yearly_seasonality=True to override this.\n",
            "INFO:fbprophet:Disabling daily seasonality. Run prophet with daily_seasonality=True to override this.\n"
          ]
        },
        {
          "output_type": "stream",
          "name": "stdout",
          "text": [
            "40 - FBProphet with avg smape 15.31: \n",
            "Model Number: 41 of 106 with model ETS for Validation 2\n",
            "41 - ETS with avg smape 2.49: \n"
          ]
        },
        {
          "output_type": "stream",
          "name": "stderr",
          "text": [
            "INFO:fbprophet:Disabling yearly seasonality. Run prophet with yearly_seasonality=True to override this.\n",
            "INFO:fbprophet:Disabling daily seasonality. Run prophet with daily_seasonality=True to override this.\n"
          ]
        },
        {
          "output_type": "stream",
          "name": "stdout",
          "text": [
            "Model Number: 42 of 106 with model FBProphet for Validation 2\n",
            "42 - FBProphet with avg smape 15.41: \n",
            "Model Number: 43 of 106 with model ETS for Validation 2\n",
            "43 - ETS with avg smape 2.13: \n",
            "Model Number: 44 of 106 with model FBProphet for Validation 2\n"
          ]
        },
        {
          "output_type": "stream",
          "name": "stderr",
          "text": [
            "INFO:fbprophet:Disabling yearly seasonality. Run prophet with yearly_seasonality=True to override this.\n",
            "INFO:fbprophet:Disabling daily seasonality. Run prophet with daily_seasonality=True to override this.\n"
          ]
        },
        {
          "output_type": "stream",
          "name": "stdout",
          "text": [
            "44 - FBProphet with avg smape 2.42: \n",
            "Model Number: 45 of 106 with model GLM for Validation 2\n",
            "45 - GLM with avg smape 1.84: \n",
            "Model Number: 46 of 106 with model GLS for Validation 2\n",
            "46 - GLS with avg smape 2.22: \n",
            "Model Number: 47 of 106 with model ETS for Validation 2\n",
            "47 - ETS with avg smape 2.42: \n",
            "Model Number: 48 of 106 with model GLM for Validation 2\n",
            "48 - GLM with avg smape 2.44: \n",
            "Model Number: 49 of 106 with model GLM for Validation 2\n",
            "49 - GLM with avg smape 2.44: \n",
            "Model Number: 50 of 106 with model ETS for Validation 2\n",
            "50 - ETS with avg smape 2.34: \n",
            "Model Number: 51 of 106 with model ETS for Validation 2\n",
            "51 - ETS with avg smape 2.34: \n",
            "Model Number: 52 of 106 with model NVAR for Validation 2\n",
            "52 - NVAR with avg smape 2.47: \n",
            "Model Number: 53 of 106 with model ETS for Validation 2\n",
            "53 - ETS with avg smape 1.83: \n",
            "Model Number: 54 of 106 with model GLS for Validation 2\n",
            "54 - GLS with avg smape 1.83: \n",
            "Model Number: 55 of 106 with model NVAR for Validation 2\n",
            "55 - NVAR with avg smape 3.88: \n",
            "Model Number: 56 of 106 with model NVAR for Validation 2\n",
            "56 - NVAR with avg smape 2.49: \n",
            "Model Number: 57 of 106 with model GLS for Validation 2\n",
            "57 - GLS with avg smape 1.89: \n",
            "Model Number: 58 of 106 with model AverageValueNaive for Validation 2\n",
            "58 - AverageValueNaive with avg smape 1.98: \n",
            "Model Number: 59 of 106 with model AverageValueNaive for Validation 2\n",
            "59 - AverageValueNaive with avg smape 1.8: \n",
            "Model Number: 60 of 106 with model AverageValueNaive for Validation 2\n",
            "60 - AverageValueNaive with avg smape 1.78: \n",
            "Model Number: 61 of 106 with model AverageValueNaive for Validation 2\n",
            "61 - AverageValueNaive with avg smape 1.73: \n",
            "Model Number: 62 of 106 with model AverageValueNaive for Validation 2\n",
            "62 - AverageValueNaive with avg smape 1.73: \n",
            "Model Number: 63 of 106 with model SectionalMotif for Validation 2\n",
            "63 - SectionalMotif with avg smape 2.77: \n",
            "Model Number: 64 of 106 with model GLS for Validation 2\n",
            "64 - GLS with avg smape 1.75: \n",
            "Model Number: 65 of 106 with model GLS for Validation 2\n",
            "65 - GLS with avg smape 1.75: \n",
            "Model Number: 66 of 106 with model AverageValueNaive for Validation 2\n",
            "66 - AverageValueNaive with avg smape 1.82: \n",
            "Model Number: 67 of 106 with model SectionalMotif for Validation 2\n",
            "67 - SectionalMotif with avg smape 2.36: \n",
            "Model Number: 68 of 106 with model SectionalMotif for Validation 2\n",
            "68 - SectionalMotif with avg smape 2.45: \n",
            "Model Number: 69 of 106 with model WindowRegression for Validation 2\n",
            "69 - WindowRegression with avg smape 2.34: \n",
            "Model Number: 70 of 106 with model AverageValueNaive for Validation 2\n",
            "70 - AverageValueNaive with avg smape 1.81: \n",
            "Model Number: 71 of 106 with model NVAR for Validation 2\n",
            "71 - NVAR with avg smape 3.12: \n",
            "Model Number: 72 of 106 with model SectionalMotif for Validation 2\n",
            "72 - SectionalMotif with avg smape 2.39: \n",
            "Model Number: 73 of 106 with model DatepartRegression for Validation 2\n",
            "73 - DatepartRegression with avg smape 1.55: \n",
            "Model Number: 74 of 106 with model NVAR for Validation 2\n",
            "74 - NVAR with avg smape 2.66: \n",
            "Model Number: 75 of 106 with model GLS for Validation 2\n",
            "75 - GLS with avg smape 1.72: \n",
            "Model Number: 76 of 106 with model GLS for Validation 2\n",
            "76 - GLS with avg smape 1.83: \n",
            "Model Number: 77 of 106 with model Ensemble for Validation 2\n",
            "77 - Ensemble with avg smape 2.26: \n",
            "Model Number: 78 of 106 with model SectionalMotif for Validation 2\n"
          ]
        },
        {
          "output_type": "stream",
          "name": "stderr",
          "text": [
            "/usr/local/lib/python3.7/dist-packages/sklearn/svm/_base.py:1208: ConvergenceWarning:\n",
            "\n",
            "Liblinear failed to converge, increase the number of iterations.\n",
            "\n"
          ]
        },
        {
          "output_type": "stream",
          "name": "stdout",
          "text": [
            "78 - SectionalMotif with avg smape 1.99: \n",
            "Model Number: 79 of 106 with model SectionalMotif for Validation 2\n",
            "79 - SectionalMotif with avg smape 1.72: \n",
            "Model Number: 80 of 106 with model SectionalMotif for Validation 2\n",
            "80 - SectionalMotif with avg smape 1.97: \n",
            "Model Number: 81 of 106 with model SectionalMotif for Validation 2\n",
            "81 - SectionalMotif with avg smape 1.83: \n",
            "Model Number: 82 of 106 with model WindowRegression for Validation 2\n",
            "82 - WindowRegression with avg smape 1.6: \n",
            "Model Number: 83 of 106 with model WindowRegression for Validation 2\n"
          ]
        },
        {
          "output_type": "stream",
          "name": "stderr",
          "text": [
            "/usr/local/lib/python3.7/dist-packages/autots/models/sklearn.py:1232: DataConversionWarning:\n",
            "\n",
            "A column-vector y was passed when a 1d array was expected. Please change the shape of y to (n_samples,), for example using ravel().\n",
            "\n"
          ]
        },
        {
          "output_type": "stream",
          "name": "stdout",
          "text": [
            "83 - WindowRegression with avg smape 1.79: \n",
            "Model Number: 84 of 106 with model NVAR for Validation 2\n",
            "84 - NVAR with avg smape 2.96: \n",
            "Model Number: 85 of 106 with model WindowRegression for Validation 2\n",
            "85 - WindowRegression with avg smape 1.87: \n",
            "Model Number: 86 of 106 with model NVAR for Validation 2\n",
            "86 - NVAR with avg smape 2.92: \n",
            "Model Number: 87 of 106 with model GLM for Validation 2\n",
            "87 - GLM with avg smape 2.3: \n",
            "Model Number: 88 of 106 with model NVAR for Validation 2\n",
            "88 - NVAR with avg smape 2.79: \n",
            "Model Number: 89 of 106 with model WindowRegression for Validation 2\n",
            "89 - WindowRegression with avg smape 2.06: \n",
            "Model Number: 90 of 106 with model WindowRegression for Validation 2\n"
          ]
        },
        {
          "output_type": "stream",
          "name": "stderr",
          "text": [
            "/usr/local/lib/python3.7/dist-packages/sklearn/svm/_base.py:1208: ConvergenceWarning:\n",
            "\n",
            "Liblinear failed to converge, increase the number of iterations.\n",
            "\n",
            "/usr/local/lib/python3.7/dist-packages/sklearn/svm/_base.py:1208: ConvergenceWarning:\n",
            "\n",
            "Liblinear failed to converge, increase the number of iterations.\n",
            "\n",
            "/usr/local/lib/python3.7/dist-packages/sklearn/svm/_base.py:1208: ConvergenceWarning:\n",
            "\n",
            "Liblinear failed to converge, increase the number of iterations.\n",
            "\n",
            "/usr/local/lib/python3.7/dist-packages/sklearn/svm/_base.py:1208: ConvergenceWarning:\n",
            "\n",
            "Liblinear failed to converge, increase the number of iterations.\n",
            "\n",
            "/usr/local/lib/python3.7/dist-packages/sklearn/svm/_base.py:1208: ConvergenceWarning:\n",
            "\n",
            "Liblinear failed to converge, increase the number of iterations.\n",
            "\n",
            "/usr/local/lib/python3.7/dist-packages/sklearn/svm/_base.py:1208: ConvergenceWarning:\n",
            "\n",
            "Liblinear failed to converge, increase the number of iterations.\n",
            "\n",
            "/usr/local/lib/python3.7/dist-packages/sklearn/svm/_base.py:1208: ConvergenceWarning:\n",
            "\n",
            "Liblinear failed to converge, increase the number of iterations.\n",
            "\n",
            "/usr/local/lib/python3.7/dist-packages/sklearn/svm/_base.py:1208: ConvergenceWarning:\n",
            "\n",
            "Liblinear failed to converge, increase the number of iterations.\n",
            "\n",
            "/usr/local/lib/python3.7/dist-packages/sklearn/svm/_base.py:1208: ConvergenceWarning:\n",
            "\n",
            "Liblinear failed to converge, increase the number of iterations.\n",
            "\n"
          ]
        },
        {
          "output_type": "stream",
          "name": "stdout",
          "text": [
            "90 - WindowRegression with avg smape 1.43: \n",
            "Model Number: 91 of 106 with model UnobservedComponents for Validation 2\n",
            "91 - UnobservedComponents with avg smape 1.76: \n",
            "Model Number: 92 of 106 with model DatepartRegression for Validation 2\n",
            "Epoch 1/50\n",
            "1/1 [==============================] - 8s 8s/step - loss: 156535151164129280.0000 - val_loss: 31988233520807936.0000\n",
            "Epoch 2/50\n",
            "1/1 [==============================] - 0s 270ms/step - loss: 96270643967819776.0000 - val_loss: 43007650723528704.0000\n",
            "Epoch 3/50\n",
            "1/1 [==============================] - 0s 274ms/step - loss: 109551902617763840.0000 - val_loss: 25025110133964800.0000\n",
            "Epoch 4/50\n",
            "1/1 [==============================] - 0s 270ms/step - loss: 101679536801841152.0000 - val_loss: 17311214652620800.0000\n",
            "Epoch 5/50\n",
            "1/1 [==============================] - 0s 269ms/step - loss: 105588781674921984.0000 - val_loss: 37373955006267392.0000\n",
            "Epoch 6/50\n",
            "1/1 [==============================] - 0s 262ms/step - loss: 88756495604252672.0000 - val_loss: 4246303437488128.0000\n",
            "Epoch 7/50\n",
            "1/1 [==============================] - 0s 270ms/step - loss: 81116324310286336.0000 - val_loss: 22628797555671040.0000\n",
            "Epoch 8/50\n",
            "1/1 [==============================] - 0s 272ms/step - loss: 87653436333490176.0000 - val_loss: 3030668242059264.0000\n",
            "Epoch 9/50\n",
            "1/1 [==============================] - 0s 265ms/step - loss: 95547500324192256.0000 - val_loss: 926452698578944.0000\n",
            "Epoch 10/50\n",
            "1/1 [==============================] - 0s 256ms/step - loss: 91160740987142144.0000 - val_loss: 2140319642550272.0000\n",
            "Epoch 11/50\n",
            "1/1 [==============================] - 0s 273ms/step - loss: 87208254383325184.0000 - val_loss: 9367787529043968.0000\n",
            "Epoch 12/50\n",
            "1/1 [==============================] - 0s 258ms/step - loss: 99338650776502272.0000 - val_loss: 13044375097442304.0000\n",
            "Epoch 13/50\n",
            "1/1 [==============================] - 0s 271ms/step - loss: 85067823071625216.0000 - val_loss: 2827636011171840.0000\n",
            "Epoch 14/50\n",
            "1/1 [==============================] - 0s 257ms/step - loss: 99393110961815552.0000 - val_loss: 13584980483506176.0000\n",
            "Epoch 15/50\n",
            "1/1 [==============================] - 0s 270ms/step - loss: 88228824512200704.0000 - val_loss: 13121709204832256.0000\n",
            "Epoch 16/50\n",
            "1/1 [==============================] - 0s 263ms/step - loss: 85910048978501632.0000 - val_loss: 11312580932927488.0000\n",
            "Epoch 17/50\n",
            "1/1 [==============================] - 0s 269ms/step - loss: 78963995939176448.0000 - val_loss: 36157740527124480.0000\n",
            "Epoch 18/50\n",
            "1/1 [==============================] - 0s 263ms/step - loss: 89101140959952896.0000 - val_loss: 14007196169797632.0000\n",
            "Epoch 19/50\n",
            "1/1 [==============================] - 0s 276ms/step - loss: 78534189971931136.0000 - val_loss: 8986449730863104.0000\n",
            "92 - DatepartRegression with avg smape 25.67: \n",
            "Model Number: 93 of 106 with model WindowRegression for Validation 2\n",
            "93 - WindowRegression with avg smape 3.14: \n",
            "Model Number: 94 of 106 with model DatepartRegression for Validation 2\n",
            "94 - DatepartRegression with avg smape 1.84: \n",
            "Model Number: 95 of 106 with model ZeroesNaive for Validation 2\n",
            "95 - ZeroesNaive with avg smape 1.72: \n"
          ]
        },
        {
          "output_type": "stream",
          "name": "stderr",
          "text": [
            "/usr/local/lib/python3.7/dist-packages/sklearn/linear_model/_coordinate_descent.py:648: ConvergenceWarning:\n",
            "\n",
            "Objective did not converge. You might want to increase the number of iterations, check the scale of the features or consider increasing regularisation. Duality gap: 1.602e-03, tolerance: 7.283e-04\n",
            "\n"
          ]
        },
        {
          "output_type": "stream",
          "name": "stdout",
          "text": [
            "Model Number: 96 of 106 with model ZeroesNaive for Validation 2\n",
            "96 - ZeroesNaive with avg smape 1.94: \n",
            "Model Number: 97 of 106 with model ZeroesNaive for Validation 2\n",
            "97 - ZeroesNaive with avg smape 1.73: \n",
            "Model Number: 98 of 106 with model ZeroesNaive for Validation 2\n",
            "98 - ZeroesNaive with avg smape 1.73: \n",
            "Model Number: 99 of 106 with model ZeroesNaive for Validation 2\n",
            "99 - ZeroesNaive with avg smape 1.73: \n",
            "Model Number: 100 of 106 with model ZeroesNaive for Validation 2\n",
            "100 - ZeroesNaive with avg smape 1.98: \n",
            "Model Number: 101 of 106 with model ZeroesNaive for Validation 2\n",
            "101 - ZeroesNaive with avg smape 1.9: \n",
            "Model Number: 102 of 106 with model ZeroesNaive for Validation 2\n",
            "102 - ZeroesNaive with avg smape 1.83: \n",
            "Model Number: 103 of 106 with model DatepartRegression for Validation 2\n",
            "103 - DatepartRegression with avg smape 1.92: \n",
            "Model Number: 104 of 106 with model DatepartRegression for Validation 2\n",
            "104 - DatepartRegression with avg smape 1.49: \n",
            "Model Number: 105 of 106 with model UnobservedComponents for Validation 2\n",
            "105 - UnobservedComponents with avg smape 2.4: \n",
            "Model Number: 106 of 106 with model UnobservedComponents for Validation 2\n",
            "106 - UnobservedComponents with avg smape 21.98: \n"
          ]
        }
      ]
    },
    {
      "cell_type": "code",
      "metadata": {
        "id": "_b1X-vRl_iCa"
      },
      "source": [
        "prediction = model.predict()\n",
        "forecast = prediction.forecast"
      ],
      "execution_count": null,
      "outputs": []
    },
    {
      "cell_type": "code",
      "metadata": {
        "colab": {
          "base_uri": "https://localhost:8080/",
          "height": 312
        },
        "id": "oZTWiCnt9RwJ",
        "outputId": "b2b840f3-dd20-4448-fae1-9a83ff40e743"
      },
      "source": [
        "plt.plot(data['Open']['TSLA'])\n",
        "forecast['OpenTSLA'].plot(figsize=(10,5))\n",
        "plt.legend()\n",
        "plt.grid()\n",
        "plt.show()"
      ],
      "execution_count": null,
      "outputs": [
        {
          "output_type": "display_data",
          "data": {
            "image/png": "[encoded data removed]",
            "text/plain": [
              "<Figure size 720x360 with 1 Axes>"
            ]
          },
          "metadata": {
            "needs_background": "light"
          }
        }
      ]
    },
    {
      "cell_type": "markdown",
      "metadata": {
        "id": "oR1In0AhE9_1"
      },
      "source": [
        "**2. Поиск правильного ответа на вопрос среди нескольких вариантов**"
      ]
    },
    {
      "cell_type": "code",
      "metadata": {
        "id": "w9IE7Jf7CbEZ",
        "colab": {
          "base_uri": "https://localhost:8080/"
        },
        "outputId": "63b21a4f-1879-43ae-c87f-c7ec147698ab"
      },
      "source": [
        "!pip install transformers # установка библиотеки с тяжелыми нейросетевыми моделями для работы с текстом"
      ],
      "execution_count": null,
      "outputs": [
        {
          "output_type": "stream",
          "name": "stdout",
          "text": [
            "Collecting transformers\n",
            "  Downloading transformers-4.12.5-py3-none-any.whl (3.1 MB)\n",
            "\u001b[K     |████████████████████████████████| 3.1 MB 5.0 MB/s \n",
            "\u001b[?25hRequirement already satisfied: regex!=2019.12.17 in /usr/local/lib/python3.7/dist-packages (from transformers) (2019.12.20)\n",
            "Requirement already satisfied: requests in /usr/local/lib/python3.7/dist-packages (from transformers) (2.23.0)\n",
            "Requirement already satisfied: tqdm>=4.27 in /usr/local/lib/python3.7/dist-packages (from transformers) (4.62.3)\n",
            "Requirement already satisfied: importlib-metadata in /usr/local/lib/python3.7/dist-packages (from transformers) (4.8.2)\n",
            "Collecting pyyaml>=5.1\n",
            "  Downloading PyYAML-6.0-cp37-cp37m-manylinux_2_5_x86_64.manylinux1_x86_64.manylinux_2_12_x86_64.manylinux2010_x86_64.whl (596 kB)\n",
            "\u001b[K     |████████████████████████████████| 596 kB 57.2 MB/s \n",
            "\u001b[?25hCollecting sacremoses\n",
            "  Downloading sacremoses-0.0.46-py3-none-any.whl (895 kB)\n",
            "\u001b[K     |████████████████████████████████| 895 kB 59.0 MB/s \n",
            "\u001b[?25hCollecting tokenizers<0.11,>=0.10.1\n",
            "  Downloading tokenizers-0.10.3-cp37-cp37m-manylinux_2_5_x86_64.manylinux1_x86_64.manylinux_2_12_x86_64.manylinux2010_x86_64.whl (3.3 MB)\n",
            "\u001b[K     |████████████████████████████████| 3.3 MB 46.6 MB/s \n",
            "\u001b[?25hRequirement already satisfied: numpy>=1.17 in /usr/local/lib/python3.7/dist-packages (from transformers) (1.19.5)\n",
            "Requirement already satisfied: packaging>=20.0 in /usr/local/lib/python3.7/dist-packages (from transformers) (21.3)\n",
            "Collecting huggingface-hub<1.0,>=0.1.0\n",
            "  Downloading huggingface_hub-0.2.0-py3-none-any.whl (61 kB)\n",
            "\u001b[K     |████████████████████████████████| 61 kB 419 kB/s \n",
            "\u001b[?25hRequirement already satisfied: filelock in /usr/local/lib/python3.7/dist-packages (from transformers) (3.4.0)\n",
            "Requirement already satisfied: typing-extensions>=3.7.4.3 in /usr/local/lib/python3.7/dist-packages (from huggingface-hub<1.0,>=0.1.0->transformers) (3.10.0.2)\n",
            "Requirement already satisfied: pyparsing!=3.0.5,>=2.0.2 in /usr/local/lib/python3.7/dist-packages (from packaging>=20.0->transformers) (3.0.6)\n",
            "Requirement already satisfied: zipp>=0.5 in /usr/local/lib/python3.7/dist-packages (from importlib-metadata->transformers) (3.6.0)\n",
            "Requirement already satisfied: idna<3,>=2.5 in /usr/local/lib/python3.7/dist-packages (from requests->transformers) (2.10)\n",
            "Requirement already satisfied: certifi>=2017.4.17 in /usr/local/lib/python3.7/dist-packages (from requests->transformers) (2021.10.8)\n",
            "Requirement already satisfied: chardet<4,>=3.0.2 in /usr/local/lib/python3.7/dist-packages (from requests->transformers) (3.0.4)\n",
            "Requirement already satisfied: urllib3!=1.25.0,!=1.25.1,<1.26,>=1.21.1 in /usr/local/lib/python3.7/dist-packages (from requests->transformers) (1.24.3)\n",
            "Requirement already satisfied: joblib in /usr/local/lib/python3.7/dist-packages (from sacremoses->transformers) (1.1.0)\n",
            "Requirement already satisfied: six in /usr/local/lib/python3.7/dist-packages (from sacremoses->transformers) (1.15.0)\n",
            "Requirement already satisfied: click in /usr/local/lib/python3.7/dist-packages (from sacremoses->transformers) (7.1.2)\n",
            "Installing collected packages: pyyaml, tokenizers, sacremoses, huggingface-hub, transformers\n",
            "  Attempting uninstall: pyyaml\n",
            "    Found existing installation: PyYAML 3.13\n",
            "    Uninstalling PyYAML-3.13:\n",
            "      Successfully uninstalled PyYAML-3.13\n",
            "Successfully installed huggingface-hub-0.2.0 pyyaml-6.0 sacremoses-0.0.46 tokenizers-0.10.3 transformers-4.12.5\n"
          ]
        }
      ]
    },
    {
      "cell_type": "code",
      "metadata": {
        "id": "mPz7FGPtFzF7",
        "colab": {
          "base_uri": "https://localhost:8080/",
          "height": 145,
          "referenced_widgets": [
            "1fd07c92b1534c98876f6e98702a7afc",
            "0a400b4bf0be4bdcb4b4c5dedfb9702d",
            "2e12b7a82e834328af46c8730c71497c",
            "2aed076ce8f147948550d3fe55c20c6b",
            "2a5f6407029f4b69b9719df0a500657f",
            "c2f1f8d350744fc484a16a480ddc0257",
            "a6c520b912ee44b7a998e0ac2eda99c3",
            "4250a6bd8f3548a994901dcb114c16eb",
            "73bd5d5e19b842a883c508dd5813b057",
            "dfdded2bd063445295903dd73a8a016c",
            "2a556b1ec40d4abeb73234cf346d12a9",
            "3748139922f94f418d85ce09b08df0ab",
            "3feecef8033f476f966c83bd006bf6ac",
            "33be63a5570f4d5dac3e48bde8e9c588",
            "637ed0a434cd419b9382d7c498ffb5bb",
            "68059e000f1344ef955f5eb9d7fb3b9d",
            "af56e7dfbe9946e6b7169e51733da3fc",
            "6773b1112b83464da94e614fc6033dbd",
            "1672c2a9a99d44e9ba33dc95c4dbccec",
            "e1595d5fc4fd45c286f2170339b6c041",
            "f1aef52cf36d4570b158b81349a98c90",
            "49547333914c4856b5c626f34371eab0",
            "52008f3c661440b08445ac23ecf7bfaf",
            "34d3930d30c64d6e8ac8c458829c4f12",
            "0a72233a507c4e0cae6d200b69163b1f",
            "bfa4b34443ec4ce998b12c68119853c0",
            "b16cd28d657a49bbb7f6631d1066fb24",
            "bb413aaf29ef4442b6c7dcd9716f5245",
            "6f88ae9d741845d29b23e909e61b0e02",
            "2fa0e1909e9a4617a78ee1b03705e97c",
            "4b0606092d624bc2a7507ce76acdf61b",
            "571ec4dd202d4524a564378788138a07",
            "43519032e700472fb150302938051f31",
            "1839d4467ab942dd8b016ded9f8f8bd3",
            "1a116f3b4c0a43878b5e6076bebfe854",
            "9737c219de1e4d56adc6bb0d6f3ef19b",
            "80528f9da77540dab7ad93b316565051",
            "83191122e8a648489fa4a3d2c334e15f",
            "ee6239a833f04b96a4529daf1a214746",
            "a0891d6abf7e4e3386ffbfab3add3cec",
            "2d2a744df0e947c7abb4245e884216bd",
            "e0ed1750383748b1b778ba7f3a37684b",
            "d82355fa29b44f5eb19e98f4dc5af529",
            "1d7bd08a8112441ca8b7fc20c1280282"
          ]
        },
        "outputId": "9d4eb254-e10a-47da-bb34-9b29de5543aa"
      },
      "source": [
        "import pandas as pd\n",
        "import numpy as np\n",
        "from transformers import GPT2LMHeadModel, GPT2Tokenizer\n",
        "\n",
        "\n",
        "model_name_or_path = \"sberbank-ai/rugpt3large_based_on_gpt2\"  # русскоязычная модель GPT-2 от сбера\n",
        "tokenizer = GPT2Tokenizer.from_pretrained(model_name_or_path)\n",
        "model = GPT2LMHeadModel.from_pretrained(model_name_or_path)"
      ],
      "execution_count": null,
      "outputs": [
        {
          "output_type": "display_data",
          "data": {
            "application/vnd.jupyter.widget-view+json": {
              "model_id": "1fd07c92b1534c98876f6e98702a7afc",
              "version_minor": 0,
              "version_major": 2
            },
            "text/plain": [
              "Downloading:   0%|          | 0.00/1.63M [00:00<?, ?B/s]"
            ]
          },
          "metadata": {}
        },
        {
          "output_type": "display_data",
          "data": {
            "application/vnd.jupyter.widget-view+json": {
              "model_id": "3748139922f94f418d85ce09b08df0ab",
              "version_minor": 0,
              "version_major": 2
            },
            "text/plain": [
              "Downloading:   0%|          | 0.00/1.21M [00:00<?, ?B/s]"
            ]
          },
          "metadata": {}
        },
        {
          "output_type": "display_data",
          "data": {
            "application/vnd.jupyter.widget-view+json": {
              "model_id": "52008f3c661440b08445ac23ecf7bfaf",
              "version_minor": 0,
              "version_major": 2
            },
            "text/plain": [
              "Downloading:   0%|          | 0.00/609 [00:00<?, ?B/s]"
            ]
          },
          "metadata": {}
        },
        {
          "output_type": "display_data",
          "data": {
            "application/vnd.jupyter.widget-view+json": {
              "model_id": "1839d4467ab942dd8b016ded9f8f8bd3",
              "version_minor": 0,
              "version_major": 2
            },
            "text/plain": [
              "Downloading:   0%|          | 0.00/2.93G [00:00<?, ?B/s]"
            ]
          },
          "metadata": {}
        }
      ]
    },
    {
      "cell_type": "code",
      "metadata": {
        "id": "-Clj9e8RF-5W"
      },
      "source": [
        "def calc_likelihood(text):\n",
        "    tokens_ids = tokenizer.encode(text, return_tensors=\"pt\")\n",
        "    prob = model(tokens_ids)\n",
        "\n",
        "    tokens = tokens_ids[0].cpu().tolist()\n",
        "    prob = prob[0].cpu()[0]\n",
        "\n",
        "    likelyhood = sum([prob[i, j].item() for i, j in enumerate(tokens)])\n",
        "    return likelyhood"
      ],
      "execution_count": null,
      "outputs": []
    },
    {
      "cell_type": "code",
      "metadata": {
        "id": "gf0RGoSBGoKf"
      },
      "source": [
        "question = \"Кто доказал теорию эволюции?\"\n",
        "answers = [\"Даня Милохин\", \"Чарльз Дарвин\", \"Ленардо Да Винчи\"]"
      ],
      "execution_count": null,
      "outputs": []
    },
    {
      "cell_type": "code",
      "metadata": {
        "colab": {
          "base_uri": "https://localhost:8080/"
        },
        "id": "FaAcOPlyHd-M",
        "outputId": "c862c192-cf89-4fa8-b543-1c55ffb4659e"
      },
      "source": [
        "def predict(question, answers):\n",
        "  scores = [calc_likelihood(question + \" \" +  answer) for answer in answers]\n",
        "  print(scores)\n",
        "  return np.argmax(scores)\n",
        "\n",
        "question, answers[predict(question, answers)]"
      ],
      "execution_count": null,
      "outputs": [
        {
          "output_type": "stream",
          "name": "stdout",
          "text": [
            "[40.67774710059166, 50.31125795841217, 50.28149914741516]\n"
          ]
        },
        {
          "output_type": "execute_result",
          "data": {
            "text/plain": [
              "('Кто доказал теорию эволюции?', 'Чарльз Дарвин')"
            ]
          },
          "metadata": {},
          "execution_count": 20
        }
      ]
    },
    {
      "cell_type": "markdown",
      "metadata": {
        "id": "0Rx2qrXWHyF1"
      },
      "source": [
        "**3. Поиск лиц на изображении**"
      ]
    },
    {
      "cell_type": "code",
      "metadata": {
        "id": "Uh9U2m9dIxnC"
      },
      "source": [
        "import cv2\n",
        "import imutils\n",
        "import pkg_resources"
      ],
      "execution_count": null,
      "outputs": []
    },
    {
      "cell_type": "code",
      "metadata": {
        "id": "jTfsPe-8Ikse"
      },
      "source": [
        "HAAR_XML = pkg_resources.resource_filename(\n",
        "    'cv2', 'data/haarcascade_frontalface_default.xml')\n",
        "FACE_CASCADE = cv2.CascadeClassifier(HAAR_XML)"
      ],
      "execution_count": null,
      "outputs": []
    },
    {
      "cell_type": "code",
      "metadata": {
        "id": "9tSaxMd2HgvD"
      },
      "source": [
        "def get_img(file_path: str):\n",
        "    image = cv2.imread(file_path)\n",
        "    image = imutils.resize(image, width=512)\n",
        "    return image\n",
        "\n",
        "def get_faces_from_img(file_path : str):\n",
        "    image = get_img(file_path)\n",
        "    gray = cv2.cvtColor(image, cv2.COLOR_RGB2GRAY)\n",
        "    faces = FACE_CASCADE.detectMultiScale(gray,\n",
        "        scaleFactor=1.1,\n",
        "        minNeighbors=5,\n",
        "        minSize=(32, 32)\n",
        "    )\n",
        "\n",
        "    return faces"
      ],
      "execution_count": null,
      "outputs": []
    },
    {
      "cell_type": "code",
      "metadata": {
        "id": "4vh_4pKMI5R_"
      },
      "source": [
        "img_path = \"uc?id=1w529iK7lFIApoedDi36_3RlOrCiZ3uFZ\"\n",
        "img_link = \"https://drive.google.com/{}&export=download\".format(img_path)"
      ],
      "execution_count": null,
      "outputs": []
    },
    {
      "cell_type": "code",
      "metadata": {
        "id": "u0tRDETqJZKz",
        "colab": {
          "base_uri": "https://localhost:8080/"
        },
        "outputId": "6acf34be-3fd1-4ea3-ba1e-7a2457e0f3e1"
      },
      "source": [
        "!wget $img_link  # загружаем картинку"
      ],
      "execution_count": null,
      "outputs": [
        {
          "output_type": "stream",
          "name": "stdout",
          "text": [
            "--2021-12-02 23:14:04--  https://drive.google.com/uc?id=1w529iK7lFIApoedDi36_3RlOrCiZ3uFZ\n",
            "Resolving drive.google.com (drive.google.com)... 172.217.193.139, 172.217.193.113, 172.217.193.101, ...\n",
            "Connecting to drive.google.com (drive.google.com)|172.217.193.139|:443... connected.\n",
            "HTTP request sent, awaiting response... 302 Moved Temporarily\n",
            "Location: https://doc-08-88-docs.googleusercontent.com/docs/securesc/ha0ro937gcuc7l7deffksulhg5h7mbp1/vtjsofe5j57goqd5drsom4f5ifnfb1tp/1638486825000/07759047279068179373/*/1w529iK7lFIApoedDi36_3RlOrCiZ3uFZ [following]\n",
            "Warning: wildcards not supported in HTTP.\n",
            "--2021-12-02 23:14:04--  https://doc-08-88-docs.googleusercontent.com/docs/securesc/ha0ro937gcuc7l7deffksulhg5h7mbp1/vtjsofe5j57goqd5drsom4f5ifnfb1tp/1638486825000/07759047279068179373/*/1w529iK7lFIApoedDi36_3RlOrCiZ3uFZ\n",
            "Resolving doc-08-88-docs.googleusercontent.com (doc-08-88-docs.googleusercontent.com)... 173.194.215.132, 2607:f8b0:400c:c0c::84\n",
            "Connecting to doc-08-88-docs.googleusercontent.com (doc-08-88-docs.googleusercontent.com)|173.194.215.132|:443... connected.\n",
            "HTTP request sent, awaiting response... 200 OK\n",
            "Length: 311913 (305K) [image/jpeg]\n",
            "Saving to: ‘uc?id=1w529iK7lFIApoedDi36_3RlOrCiZ3uFZ’\n",
            "\n",
            "uc?id=1w529iK7lFIAp 100%[===================>] 304.60K  --.-KB/s    in 0.003s  \n",
            "\n",
            "2021-12-02 23:14:05 (86.2 MB/s) - ‘uc?id=1w529iK7lFIApoedDi36_3RlOrCiZ3uFZ’ saved [311913/311913]\n",
            "\n"
          ]
        }
      ]
    },
    {
      "cell_type": "code",
      "metadata": {
        "colab": {
          "base_uri": "https://localhost:8080/",
          "height": 595
        },
        "id": "pENLvMo5KskC",
        "outputId": "0f865c66-ae21-4363-f2d6-80401cbf0b1b"
      },
      "source": [
        "plt.figure(figsize=(10, 10))\n",
        "plt.imshow(get_img(img_path))\n",
        "for f in get_faces_from_img(img_path):\n",
        "  plt.plot([f[0], f[0]], [f[1], f[1] + f[3]])\n",
        "  plt.plot([f[0], f[0] + f[2]], [f[1], f[1]])\n",
        "  plt.plot([f[0] + f[2], f[0] + f[2]], [f[1], f[1] + f[3]])\n",
        "  plt.plot([f[0], f[0] + f[2]], [f[1] + f[3], f[1] + f[3]])\n",
        "plt.show()"
      ],
      "execution_count": null,
      "outputs": [
        {
          "output_type": "display_data",
          "data": {
            "image/png": "[encoded data removed]",
            "text/plain": [
              "<Figure size 720x720 with 1 Axes>"
            ]
          },
          "metadata": {
            "needs_background": "light"
          }
        }
      ]
    },
    {
      "cell_type": "code",
      "metadata": {
        "id": "uNEMwJyKNZ57"
      },
      "source": [
        ""
      ],
      "execution_count": null,
      "outputs": []
    }
  ]
}