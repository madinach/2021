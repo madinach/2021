{
 "cells": [
  {
   "cell_type": "code",
   "execution_count": 1,
   "id": "176de2a6",
   "metadata": {},
   "outputs": [],
   "source": [
    "import cv2 \n",
    "import numpy as np\n",
    "from matplotlib import pyplot as plt\n",
    "import pandas as pd"
   ]
  },
  {
   "cell_type": "code",
   "execution_count": 2,
   "id": "3ec4f2b2",
   "metadata": {},
   "outputs": [],
   "source": [
    "# Show each channel channel on screen\n",
    "def view(image, name_of_window=\"window\"):\n",
    "    cv2.namedWindow(name_of_window, cv2.WINDOW_NORMAL)\n",
    "    cv2.imshow(name_of_window, image)\n",
    "    cv2.waitKey(0)\n",
    "    cv2.destroyAllWindows()"
   ]
  },
  {
   "cell_type": "code",
   "execution_count": 5,
   "id": "c97461ed",
   "metadata": {},
   "outputs": [
    {
     "data": {
      "text/plain": [
       "-1"
      ]
     },
     "execution_count": 5,
     "metadata": {},
     "output_type": "execute_result"
    }
   ],
   "source": [
    "#USB CAMERA\n",
    "#use 1 USB camera\n",
    "#use 0 for laptop camera\n",
    "\n",
    "video = cv2.VideoCapture(1)\n",
    "\n",
    "while(video.isOpened()):\n",
    "    check, frame = video.read()\n",
    "    if frame is not None:\n",
    "        img= cv2.cvtColor(frame, cv2.COLOR_BGR2GRAY)\n",
    "        cv2.imshow('frame', img)\n",
    "        if cv2.waitKey(30) & 0xFF == ord(\"q\"):\n",
    "            break\n",
    "    else:\n",
    "            break\n",
    "            \n",
    "video.release()\n",
    "cv2.destroyAllWindows()\n",
    "cv2.waitKey(1)"
   ]
  },
  {
   "cell_type": "markdown",
   "id": "92ea3062",
   "metadata": {},
   "source": [
    "### VIEW IMAGES"
   ]
  },
  {
   "cell_type": "code",
   "execution_count": null,
   "id": "4a48f5d7",
   "metadata": {},
   "outputs": [],
   "source": [
    "# Declare a variable with the path to your image\n",
    "img = cv2.imread(cv2.samples.findFile(\"annotations.jpg\"))\n",
    "\n",
    "#Show the image with matplotlib\n",
    "plt.imshow(img)\n",
    "plt.show()"
   ]
  },
  {
   "cell_type": "code",
   "execution_count": null,
   "id": "d85748c5",
   "metadata": {},
   "outputs": [],
   "source": []
  }
 ],
 "metadata": {
  "kernelspec": {
   "display_name": "Python 3",
   "language": "python",
   "name": "python3"
  },
  "language_info": {
   "codemirror_mode": {
    "name": "ipython",
    "version": 3
   },
   "file_extension": ".py",
   "mimetype": "text/x-python",
   "name": "python",
   "nbconvert_exporter": "python",
   "pygments_lexer": "ipython3",
   "version": "3.8.8"
  }
 },
 "nbformat": 4,
 "nbformat_minor": 5
}
